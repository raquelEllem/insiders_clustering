{
 "cells": [
  {
   "cell_type": "markdown",
   "metadata": {},
   "source": [
    "# 0.0. Imports"
   ]
  },
  {
   "cell_type": "code",
   "execution_count": 124,
   "metadata": {},
   "outputs": [],
   "source": [
    "import os\n",
    "import re\n",
    "#import s3fs\n",
    "import joblib\n",
    "import pickle\n",
    "import numpy      as np\n",
    "import pandas     as pd\n",
    "import seaborn    as sns\n",
    "import umap.umap_ as umap\n",
    "\n",
    "\n",
    "from plotly          import express as px\n",
    "from matplotlib      import pyplot as plt\n",
    "\n",
    "from sklearn import cluster       as c\n",
    "from sklearn import metrics       as m\n",
    "from sklearn import mixture       as mx\n",
    "from sklearn import ensemble      as en\n",
    "from sklearn import manifold      as mn\n",
    "from sklearn import preprocessing as pp\n",
    "from sklearn import decomposition as dd\n",
    "from sklearn.neighbors import NearestNeighbors\n",
    "\n",
    "from scipy.cluster import hierarchy as hc\n",
    "\n",
    "import warnings\n",
    "# Suprimir FutureWarnings do scikit-learn\n",
    "warnings.simplefilter(action='ignore', category=FutureWarning)\n"
   ]
  },
  {
   "cell_type": "markdown",
   "metadata": {},
   "source": [
    "## 0.2. Load dataset"
   ]
  },
  {
   "cell_type": "code",
   "execution_count": 125,
   "metadata": {},
   "outputs": [],
   "source": [
    "# Carregar os dados brutos de um arquivo CSV com a codificação especificada\n",
    "df_raw = pd.read_csv('../data/raw/Ecommerce.csv', encoding='ISO-8859-1')\n",
    "\n",
    "# Remover uma coluna extra 'Unnamed: 8'\n",
    "df_raw = df_raw.drop(columns=['Unnamed: 8'], axis=1)"
   ]
  },
  {
   "cell_type": "markdown",
   "metadata": {},
   "source": [
    "# 1.0. Descrição dos dados"
   ]
  },
  {
   "cell_type": "code",
   "execution_count": 126,
   "metadata": {
    "ExecuteTime": {
     "end_time": "2021-04-21T00:03:45.258253Z",
     "start_time": "2021-04-21T00:03:45.242950Z"
    }
   },
   "outputs": [],
   "source": [
    "df1 = df_raw.copy()"
   ]
  },
  {
   "cell_type": "code",
   "execution_count": 127,
   "metadata": {},
   "outputs": [
    {
     "data": {
      "text/html": [
       "<div>\n",
       "<style scoped>\n",
       "    .dataframe tbody tr th:only-of-type {\n",
       "        vertical-align: middle;\n",
       "    }\n",
       "\n",
       "    .dataframe tbody tr th {\n",
       "        vertical-align: top;\n",
       "    }\n",
       "\n",
       "    .dataframe thead th {\n",
       "        text-align: right;\n",
       "    }\n",
       "</style>\n",
       "<table border=\"1\" class=\"dataframe\">\n",
       "  <thead>\n",
       "    <tr style=\"text-align: right;\">\n",
       "      <th></th>\n",
       "      <th>InvoiceNo</th>\n",
       "      <th>StockCode</th>\n",
       "      <th>Description</th>\n",
       "      <th>Quantity</th>\n",
       "      <th>InvoiceDate</th>\n",
       "      <th>UnitPrice</th>\n",
       "      <th>CustomerID</th>\n",
       "      <th>Country</th>\n",
       "    </tr>\n",
       "  </thead>\n",
       "  <tbody>\n",
       "    <tr>\n",
       "      <th>0</th>\n",
       "      <td>536365</td>\n",
       "      <td>85123A</td>\n",
       "      <td>WHITE HANGING HEART T-LIGHT HOLDER</td>\n",
       "      <td>6</td>\n",
       "      <td>29-Nov-16</td>\n",
       "      <td>2.55</td>\n",
       "      <td>17850.0</td>\n",
       "      <td>United Kingdom</td>\n",
       "    </tr>\n",
       "    <tr>\n",
       "      <th>1</th>\n",
       "      <td>536365</td>\n",
       "      <td>71053</td>\n",
       "      <td>WHITE METAL LANTERN</td>\n",
       "      <td>6</td>\n",
       "      <td>29-Nov-16</td>\n",
       "      <td>3.39</td>\n",
       "      <td>17850.0</td>\n",
       "      <td>United Kingdom</td>\n",
       "    </tr>\n",
       "    <tr>\n",
       "      <th>2</th>\n",
       "      <td>536365</td>\n",
       "      <td>84406B</td>\n",
       "      <td>CREAM CUPID HEARTS COAT HANGER</td>\n",
       "      <td>8</td>\n",
       "      <td>29-Nov-16</td>\n",
       "      <td>2.75</td>\n",
       "      <td>17850.0</td>\n",
       "      <td>United Kingdom</td>\n",
       "    </tr>\n",
       "    <tr>\n",
       "      <th>3</th>\n",
       "      <td>536365</td>\n",
       "      <td>84029G</td>\n",
       "      <td>KNITTED UNION FLAG HOT WATER BOTTLE</td>\n",
       "      <td>6</td>\n",
       "      <td>29-Nov-16</td>\n",
       "      <td>3.39</td>\n",
       "      <td>17850.0</td>\n",
       "      <td>United Kingdom</td>\n",
       "    </tr>\n",
       "    <tr>\n",
       "      <th>4</th>\n",
       "      <td>536365</td>\n",
       "      <td>84029E</td>\n",
       "      <td>RED WOOLLY HOTTIE WHITE HEART.</td>\n",
       "      <td>6</td>\n",
       "      <td>29-Nov-16</td>\n",
       "      <td>3.39</td>\n",
       "      <td>17850.0</td>\n",
       "      <td>United Kingdom</td>\n",
       "    </tr>\n",
       "  </tbody>\n",
       "</table>\n",
       "</div>"
      ],
      "text/plain": [
       "  InvoiceNo StockCode                          Description  Quantity  \\\n",
       "0    536365    85123A   WHITE HANGING HEART T-LIGHT HOLDER         6   \n",
       "1    536365     71053                  WHITE METAL LANTERN         6   \n",
       "2    536365    84406B       CREAM CUPID HEARTS COAT HANGER         8   \n",
       "3    536365    84029G  KNITTED UNION FLAG HOT WATER BOTTLE         6   \n",
       "4    536365    84029E       RED WOOLLY HOTTIE WHITE HEART.         6   \n",
       "\n",
       "  InvoiceDate  UnitPrice  CustomerID         Country  \n",
       "0   29-Nov-16       2.55     17850.0  United Kingdom  \n",
       "1   29-Nov-16       3.39     17850.0  United Kingdom  \n",
       "2   29-Nov-16       2.75     17850.0  United Kingdom  \n",
       "3   29-Nov-16       3.39     17850.0  United Kingdom  \n",
       "4   29-Nov-16       3.39     17850.0  United Kingdom  "
      ]
     },
     "execution_count": 127,
     "metadata": {},
     "output_type": "execute_result"
    }
   ],
   "source": [
    "df1.head()"
   ]
  },
  {
   "cell_type": "markdown",
   "metadata": {},
   "source": [
    "## 1.1. Rename columuns"
   ]
  },
  {
   "cell_type": "code",
   "execution_count": 128,
   "metadata": {
    "ExecuteTime": {
     "end_time": "2021-04-21T00:03:47.732867Z",
     "start_time": "2021-04-21T00:03:47.729734Z"
    }
   },
   "outputs": [],
   "source": [
    "cols_new = ['invoice_no', 'stock_code', 'description', 'quantity', 'invoice_date', 'unit_price', 'customer_id', 'country']\n",
    "df1.columns = cols_new"
   ]
  },
  {
   "cell_type": "markdown",
   "metadata": {},
   "source": [
    "## 1.2. Data dimensions"
   ]
  },
  {
   "cell_type": "code",
   "execution_count": 129,
   "metadata": {
    "ExecuteTime": {
     "end_time": "2021-04-21T00:03:49.927754Z",
     "start_time": "2021-04-21T00:03:49.923480Z"
    }
   },
   "outputs": [
    {
     "name": "stdout",
     "output_type": "stream",
     "text": [
      "Number of rows: 541909\n",
      "Number of cols: 8\n"
     ]
    }
   ],
   "source": [
    "print('Number of rows: {}'.format(df1.shape[0]))\n",
    "print('Number of cols: {}'.format(df1.shape[1]))"
   ]
  },
  {
   "cell_type": "markdown",
   "metadata": {},
   "source": [
    "## 1.3. Data types"
   ]
  },
  {
   "cell_type": "code",
   "execution_count": 130,
   "metadata": {
    "ExecuteTime": {
     "end_time": "2021-04-21T00:03:53.339900Z",
     "start_time": "2021-04-21T00:03:53.333180Z"
    }
   },
   "outputs": [
    {
     "data": {
      "text/plain": [
       "invoice_no       object\n",
       "stock_code       object\n",
       "description      object\n",
       "quantity          int64\n",
       "invoice_date     object\n",
       "unit_price      float64\n",
       "customer_id     float64\n",
       "country          object\n",
       "dtype: object"
      ]
     },
     "execution_count": 130,
     "metadata": {},
     "output_type": "execute_result"
    }
   ],
   "source": [
    "df1.dtypes"
   ]
  },
  {
   "cell_type": "markdown",
   "metadata": {},
   "source": [
    "## 1.4. Check NA"
   ]
  },
  {
   "cell_type": "code",
   "execution_count": 131,
   "metadata": {
    "ExecuteTime": {
     "end_time": "2021-04-21T00:03:58.852128Z",
     "start_time": "2021-04-21T00:03:58.732214Z"
    }
   },
   "outputs": [
    {
     "data": {
      "text/plain": [
       "invoice_no           0\n",
       "stock_code           0\n",
       "description       1454\n",
       "quantity             0\n",
       "invoice_date         0\n",
       "unit_price           0\n",
       "customer_id     135080\n",
       "country              0\n",
       "dtype: int64"
      ]
     },
     "execution_count": 131,
     "metadata": {},
     "output_type": "execute_result"
    }
   ],
   "source": [
    "df1.isna().sum()"
   ]
  },
  {
   "cell_type": "markdown",
   "metadata": {},
   "source": [
    "## 1.5. Replace NA"
   ]
  },
  {
   "cell_type": "code",
   "execution_count": 132,
   "metadata": {
    "ExecuteTime": {
     "end_time": "2021-04-21T00:04:06.994964Z",
     "start_time": "2021-04-21T00:04:06.909677Z"
    }
   },
   "outputs": [],
   "source": [
    "# Filtrar as linhas com 'customer_id' ausente (NaN)\n",
    "df_missing = df1.loc[df1['customer_id'].isna(), :]\n",
    "\n",
    "# Filtrar as linhas com 'customer_id' presente\n",
    "df_not_missing = df1.loc[~df1['customer_id'].isna(), :]\n"
   ]
  },
  {
   "cell_type": "code",
   "execution_count": 133,
   "metadata": {},
   "outputs": [],
   "source": [
    "# Criar um DataFrame de referência para 'customer_id'\n",
    "df_backup = pd.DataFrame(df_missing['invoice_no'].drop_duplicates())\n",
    "\n",
    "# Atribuir IDs únicos começando em 19000 para cada fatura ausente\n",
    "df_backup['customer_id'] = np.arange(19000, 19000 + len(df_backup), 1)\n",
    "\n",
    "# Mesclar o DataFrame original com o DataFrame de referência usando 'invoice_no' como chave\n",
    "df1 = pd.merge(df1, df_backup, on='invoice_no', how='left')\n",
    "\n",
    "# Combinar os valores de 'customer_id_x' e 'customer_id_y', mantendo o primeiro valor não nulo encontrado\n",
    "df1['customer_id'] = df1['customer_id_x'].combine_first(df1['customer_id_y'])\n",
    "\n",
    "# Remover as colunas 'customer_id_x' e 'customer_id_y'\n",
    "df1 = df1.drop( columns=['customer_id_x', 'customer_id_y'], axis=1)\n"
   ]
  },
  {
   "cell_type": "code",
   "execution_count": 134,
   "metadata": {
    "ExecuteTime": {
     "end_time": "2021-04-21T00:04:09.336209Z",
     "start_time": "2021-04-21T00:04:09.233166Z"
    }
   },
   "outputs": [
    {
     "data": {
      "text/plain": [
       "invoice_no         0\n",
       "stock_code         0\n",
       "description     1454\n",
       "quantity           0\n",
       "invoice_date       0\n",
       "unit_price         0\n",
       "country            0\n",
       "customer_id        0\n",
       "dtype: int64"
      ]
     },
     "execution_count": 134,
     "metadata": {},
     "output_type": "execute_result"
    }
   ],
   "source": [
    "df1.isna().sum()"
   ]
  },
  {
   "cell_type": "markdown",
   "metadata": {},
   "source": [
    "## 1.6. Change dtypes"
   ]
  },
  {
   "cell_type": "code",
   "execution_count": 135,
   "metadata": {
    "ExecuteTime": {
     "end_time": "2021-04-21T00:04:12.834812Z",
     "start_time": "2021-04-21T00:04:12.749241Z"
    }
   },
   "outputs": [
    {
     "data": {
      "text/html": [
       "<div>\n",
       "<style scoped>\n",
       "    .dataframe tbody tr th:only-of-type {\n",
       "        vertical-align: middle;\n",
       "    }\n",
       "\n",
       "    .dataframe tbody tr th {\n",
       "        vertical-align: top;\n",
       "    }\n",
       "\n",
       "    .dataframe thead th {\n",
       "        text-align: right;\n",
       "    }\n",
       "</style>\n",
       "<table border=\"1\" class=\"dataframe\">\n",
       "  <thead>\n",
       "    <tr style=\"text-align: right;\">\n",
       "      <th></th>\n",
       "      <th>invoice_no</th>\n",
       "      <th>stock_code</th>\n",
       "      <th>description</th>\n",
       "      <th>quantity</th>\n",
       "      <th>invoice_date</th>\n",
       "      <th>unit_price</th>\n",
       "      <th>country</th>\n",
       "      <th>customer_id</th>\n",
       "    </tr>\n",
       "  </thead>\n",
       "  <tbody>\n",
       "    <tr>\n",
       "      <th>0</th>\n",
       "      <td>536365</td>\n",
       "      <td>85123A</td>\n",
       "      <td>WHITE HANGING HEART T-LIGHT HOLDER</td>\n",
       "      <td>6</td>\n",
       "      <td>2016-11-29</td>\n",
       "      <td>2.55</td>\n",
       "      <td>United Kingdom</td>\n",
       "      <td>17850</td>\n",
       "    </tr>\n",
       "    <tr>\n",
       "      <th>1</th>\n",
       "      <td>536365</td>\n",
       "      <td>71053</td>\n",
       "      <td>WHITE METAL LANTERN</td>\n",
       "      <td>6</td>\n",
       "      <td>2016-11-29</td>\n",
       "      <td>3.39</td>\n",
       "      <td>United Kingdom</td>\n",
       "      <td>17850</td>\n",
       "    </tr>\n",
       "    <tr>\n",
       "      <th>2</th>\n",
       "      <td>536365</td>\n",
       "      <td>84406B</td>\n",
       "      <td>CREAM CUPID HEARTS COAT HANGER</td>\n",
       "      <td>8</td>\n",
       "      <td>2016-11-29</td>\n",
       "      <td>2.75</td>\n",
       "      <td>United Kingdom</td>\n",
       "      <td>17850</td>\n",
       "    </tr>\n",
       "    <tr>\n",
       "      <th>3</th>\n",
       "      <td>536365</td>\n",
       "      <td>84029G</td>\n",
       "      <td>KNITTED UNION FLAG HOT WATER BOTTLE</td>\n",
       "      <td>6</td>\n",
       "      <td>2016-11-29</td>\n",
       "      <td>3.39</td>\n",
       "      <td>United Kingdom</td>\n",
       "      <td>17850</td>\n",
       "    </tr>\n",
       "    <tr>\n",
       "      <th>4</th>\n",
       "      <td>536365</td>\n",
       "      <td>84029E</td>\n",
       "      <td>RED WOOLLY HOTTIE WHITE HEART.</td>\n",
       "      <td>6</td>\n",
       "      <td>2016-11-29</td>\n",
       "      <td>3.39</td>\n",
       "      <td>United Kingdom</td>\n",
       "      <td>17850</td>\n",
       "    </tr>\n",
       "  </tbody>\n",
       "</table>\n",
       "</div>"
      ],
      "text/plain": [
       "  invoice_no stock_code                          description  quantity  \\\n",
       "0     536365     85123A   WHITE HANGING HEART T-LIGHT HOLDER         6   \n",
       "1     536365      71053                  WHITE METAL LANTERN         6   \n",
       "2     536365     84406B       CREAM CUPID HEARTS COAT HANGER         8   \n",
       "3     536365     84029G  KNITTED UNION FLAG HOT WATER BOTTLE         6   \n",
       "4     536365     84029E       RED WOOLLY HOTTIE WHITE HEART.         6   \n",
       "\n",
       "  invoice_date  unit_price         country  customer_id  \n",
       "0   2016-11-29        2.55  United Kingdom        17850  \n",
       "1   2016-11-29        3.39  United Kingdom        17850  \n",
       "2   2016-11-29        2.75  United Kingdom        17850  \n",
       "3   2016-11-29        3.39  United Kingdom        17850  \n",
       "4   2016-11-29        3.39  United Kingdom        17850  "
      ]
     },
     "execution_count": 135,
     "metadata": {},
     "output_type": "execute_result"
    }
   ],
   "source": [
    "# Converter a coluna 'invoice_date' para um formato de data com um formato de data específico\n",
    "df1['invoice_date'] = pd.to_datetime(df1['invoice_date'], format='%d-%b-%y')\n",
    "\n",
    "# Converter a coluna 'customer_id' para números inteiros\n",
    "df1['customer_id'] = df1['customer_id'].astype(int)\n",
    "df1.head()\n"
   ]
  },
  {
   "cell_type": "code",
   "execution_count": 136,
   "metadata": {
    "ExecuteTime": {
     "end_time": "2021-04-21T00:04:31.001978Z",
     "start_time": "2021-04-21T00:04:30.997143Z"
    }
   },
   "outputs": [
    {
     "data": {
      "text/plain": [
       "invoice_no              object\n",
       "stock_code              object\n",
       "description             object\n",
       "quantity                 int64\n",
       "invoice_date    datetime64[ns]\n",
       "unit_price             float64\n",
       "country                 object\n",
       "customer_id              int64\n",
       "dtype: object"
      ]
     },
     "execution_count": 136,
     "metadata": {},
     "output_type": "execute_result"
    }
   ],
   "source": [
    "df1.dtypes"
   ]
  },
  {
   "cell_type": "markdown",
   "metadata": {},
   "source": [
    "## 1.7. Descriptive Statistics"
   ]
  },
  {
   "cell_type": "code",
   "execution_count": 137,
   "metadata": {},
   "outputs": [],
   "source": [
    "num_attributes = df1.select_dtypes( include=['int64', 'float64'] )\n",
    "cat_attributes = df1.select_dtypes( exclude=['int64', 'float64', 'datetime64[ns]'] )"
   ]
  },
  {
   "cell_type": "markdown",
   "metadata": {},
   "source": [
    "### 1.7.1. Numerical Attributs\n"
   ]
  },
  {
   "cell_type": "code",
   "execution_count": 138,
   "metadata": {},
   "outputs": [
    {
     "data": {
      "text/html": [
       "<div>\n",
       "<style scoped>\n",
       "    .dataframe tbody tr th:only-of-type {\n",
       "        vertical-align: middle;\n",
       "    }\n",
       "\n",
       "    .dataframe tbody tr th {\n",
       "        vertical-align: top;\n",
       "    }\n",
       "\n",
       "    .dataframe thead th {\n",
       "        text-align: right;\n",
       "    }\n",
       "</style>\n",
       "<table border=\"1\" class=\"dataframe\">\n",
       "  <thead>\n",
       "    <tr style=\"text-align: right;\">\n",
       "      <th></th>\n",
       "      <th>attributes</th>\n",
       "      <th>min</th>\n",
       "      <th>max</th>\n",
       "      <th>range</th>\n",
       "      <th>mean</th>\n",
       "      <th>mediana</th>\n",
       "      <th>std</th>\n",
       "      <th>skew</th>\n",
       "      <th>kurtosis</th>\n",
       "    </tr>\n",
       "  </thead>\n",
       "  <tbody>\n",
       "    <tr>\n",
       "      <th>0</th>\n",
       "      <td>quantity</td>\n",
       "      <td>-80995.00</td>\n",
       "      <td>80995.0</td>\n",
       "      <td>161990.00</td>\n",
       "      <td>9.552250</td>\n",
       "      <td>3.00</td>\n",
       "      <td>218.080957</td>\n",
       "      <td>-0.264076</td>\n",
       "      <td>119769.160031</td>\n",
       "    </tr>\n",
       "    <tr>\n",
       "      <th>1</th>\n",
       "      <td>unit_price</td>\n",
       "      <td>-11062.06</td>\n",
       "      <td>38970.0</td>\n",
       "      <td>50032.06</td>\n",
       "      <td>4.611114</td>\n",
       "      <td>2.08</td>\n",
       "      <td>96.759764</td>\n",
       "      <td>186.506972</td>\n",
       "      <td>59005.719097</td>\n",
       "    </tr>\n",
       "    <tr>\n",
       "      <th>2</th>\n",
       "      <td>customer_id</td>\n",
       "      <td>12346.00</td>\n",
       "      <td>22709.0</td>\n",
       "      <td>10363.00</td>\n",
       "      <td>16688.840453</td>\n",
       "      <td>16249.00</td>\n",
       "      <td>2911.408666</td>\n",
       "      <td>0.487449</td>\n",
       "      <td>-0.804287</td>\n",
       "    </tr>\n",
       "  </tbody>\n",
       "</table>\n",
       "</div>"
      ],
      "text/plain": [
       "    attributes       min      max      range          mean   mediana  \\\n",
       "0     quantity -80995.00  80995.0  161990.00      9.552250      3.00   \n",
       "1   unit_price -11062.06  38970.0   50032.06      4.611114      2.08   \n",
       "2  customer_id  12346.00  22709.0   10363.00  16688.840453  16249.00   \n",
       "\n",
       "           std        skew       kurtosis  \n",
       "0   218.080957   -0.264076  119769.160031  \n",
       "1    96.759764  186.506972   59005.719097  \n",
       "2  2911.408666    0.487449      -0.804287  "
      ]
     },
     "execution_count": 138,
     "metadata": {},
     "output_type": "execute_result"
    }
   ],
   "source": [
    "# Central tendency - mean, median\n",
    "ct1 = pd.DataFrame(num_attributes.apply(np.mean)).T\n",
    "ct2 = pd.DataFrame(num_attributes.apply(np.median)).T\n",
    "\n",
    "# Dispersion - desvio padrão, mínimo, máximo, range, skew, kurtosis\n",
    "d1 = pd.DataFrame(num_attributes.apply(np.std)).T\n",
    "d2 = pd.DataFrame(num_attributes.apply(np.min)).T\n",
    "d3 = pd.DataFrame(num_attributes.apply(np.max)).T\n",
    "d4 = pd.DataFrame(num_attributes.apply(lambda x: x.max() - x.min())).T\n",
    "d5 = pd.DataFrame(num_attributes.apply(lambda x: x.skew())).T\n",
    "d6 = pd.DataFrame(num_attributes.apply(lambda x: x.kurtosis())).T\n",
    "\n",
    "# Concatenate\n",
    "m1 = pd.concat([d2, d3, d4, ct1, ct2, d1, d5, d6]).T.reset_index()\n",
    "m1.columns = ['attributes', 'min', 'max', 'range', 'mean', 'mediana', 'std', 'skew', 'kurtosis']\n",
    "m1"
   ]
  },
  {
   "cell_type": "markdown",
   "metadata": {},
   "source": [
    "### 1.7.2. Categorical Attributs"
   ]
  },
  {
   "cell_type": "markdown",
   "metadata": {},
   "source": [
    "#### Invoice No\n"
   ]
  },
  {
   "cell_type": "code",
   "execution_count": 139,
   "metadata": {},
   "outputs": [
    {
     "name": "stdout",
     "output_type": "stream",
     "text": [
      "Total number of invoices: 9291\n",
      "Total number of negative quantity: 9288\n"
     ]
    }
   ],
   "source": [
    "# Problema: Temos invoice com letras e números\n",
    "# df1['invoice_no'].astype(int)\n",
    "\n",
    "# Identificação:\n",
    "df_letter_invoices = df1.loc[df1['invoice_no'].apply(lambda x: bool(re.search('[^0-9]+', x))), :]\n",
    "df_letter_invoices.head()\n",
    "\n",
    "print('Total number of invoices: {}'.format(len(df_letter_invoices)))\n",
    "print('Total number of negative quantity: {}'.format(len(df_letter_invoices[df_letter_invoices['quantity'] < 0])))\n"
   ]
  },
  {
   "cell_type": "markdown",
   "metadata": {},
   "source": [
    "#### Stock Code"
   ]
  },
  {
   "cell_type": "code",
   "execution_count": 140,
   "metadata": {},
   "outputs": [
    {
     "data": {
      "text/plain": [
       "array(['POST', 'D', 'DOT', 'M', 'S', 'AMAZONFEE', 'm', 'DCGSSBOY',\n",
       "       'DCGSSGIRL', 'PADS', 'B', 'CRUK'], dtype=object)"
      ]
     },
     "execution_count": 140,
     "metadata": {},
     "output_type": "execute_result"
    }
   ],
   "source": [
    "# Verifique apenas os caracteres em stock code\n",
    "df1.loc[df1['stock_code'].apply(lambda x: bool(re.search('^[a-zA-Z]+$', x))), 'stock_code'].unique()\n",
    "\n",
    "# Ação:\n",
    "## 1. Remove stock_code in ['POST', 'D', 'M', 'PADS', 'DOT', 'CRUK']"
   ]
  },
  {
   "cell_type": "markdown",
   "metadata": {},
   "source": [
    "#### Description"
   ]
  },
  {
   "cell_type": "code",
   "execution_count": 141,
   "metadata": {},
   "outputs": [
    {
     "data": {
      "text/html": [
       "<div>\n",
       "<style scoped>\n",
       "    .dataframe tbody tr th:only-of-type {\n",
       "        vertical-align: middle;\n",
       "    }\n",
       "\n",
       "    .dataframe tbody tr th {\n",
       "        vertical-align: top;\n",
       "    }\n",
       "\n",
       "    .dataframe thead th {\n",
       "        text-align: right;\n",
       "    }\n",
       "</style>\n",
       "<table border=\"1\" class=\"dataframe\">\n",
       "  <thead>\n",
       "    <tr style=\"text-align: right;\">\n",
       "      <th></th>\n",
       "      <th>invoice_no</th>\n",
       "      <th>stock_code</th>\n",
       "      <th>description</th>\n",
       "      <th>quantity</th>\n",
       "      <th>invoice_date</th>\n",
       "      <th>unit_price</th>\n",
       "      <th>country</th>\n",
       "      <th>customer_id</th>\n",
       "    </tr>\n",
       "  </thead>\n",
       "  <tbody>\n",
       "    <tr>\n",
       "      <th>0</th>\n",
       "      <td>536365</td>\n",
       "      <td>85123A</td>\n",
       "      <td>WHITE HANGING HEART T-LIGHT HOLDER</td>\n",
       "      <td>6</td>\n",
       "      <td>2016-11-29</td>\n",
       "      <td>2.55</td>\n",
       "      <td>United Kingdom</td>\n",
       "      <td>17850</td>\n",
       "    </tr>\n",
       "    <tr>\n",
       "      <th>1</th>\n",
       "      <td>536365</td>\n",
       "      <td>71053</td>\n",
       "      <td>WHITE METAL LANTERN</td>\n",
       "      <td>6</td>\n",
       "      <td>2016-11-29</td>\n",
       "      <td>3.39</td>\n",
       "      <td>United Kingdom</td>\n",
       "      <td>17850</td>\n",
       "    </tr>\n",
       "    <tr>\n",
       "      <th>2</th>\n",
       "      <td>536365</td>\n",
       "      <td>84406B</td>\n",
       "      <td>CREAM CUPID HEARTS COAT HANGER</td>\n",
       "      <td>8</td>\n",
       "      <td>2016-11-29</td>\n",
       "      <td>2.75</td>\n",
       "      <td>United Kingdom</td>\n",
       "      <td>17850</td>\n",
       "    </tr>\n",
       "    <tr>\n",
       "      <th>3</th>\n",
       "      <td>536365</td>\n",
       "      <td>84029G</td>\n",
       "      <td>KNITTED UNION FLAG HOT WATER BOTTLE</td>\n",
       "      <td>6</td>\n",
       "      <td>2016-11-29</td>\n",
       "      <td>3.39</td>\n",
       "      <td>United Kingdom</td>\n",
       "      <td>17850</td>\n",
       "    </tr>\n",
       "    <tr>\n",
       "      <th>4</th>\n",
       "      <td>536365</td>\n",
       "      <td>84029E</td>\n",
       "      <td>RED WOOLLY HOTTIE WHITE HEART.</td>\n",
       "      <td>6</td>\n",
       "      <td>2016-11-29</td>\n",
       "      <td>3.39</td>\n",
       "      <td>United Kingdom</td>\n",
       "      <td>17850</td>\n",
       "    </tr>\n",
       "  </tbody>\n",
       "</table>\n",
       "</div>"
      ],
      "text/plain": [
       "  invoice_no stock_code                          description  quantity  \\\n",
       "0     536365     85123A   WHITE HANGING HEART T-LIGHT HOLDER         6   \n",
       "1     536365      71053                  WHITE METAL LANTERN         6   \n",
       "2     536365     84406B       CREAM CUPID HEARTS COAT HANGER         8   \n",
       "3     536365     84029G  KNITTED UNION FLAG HOT WATER BOTTLE         6   \n",
       "4     536365     84029E       RED WOOLLY HOTTIE WHITE HEART.         6   \n",
       "\n",
       "  invoice_date  unit_price         country  customer_id  \n",
       "0   2016-11-29        2.55  United Kingdom        17850  \n",
       "1   2016-11-29        3.39  United Kingdom        17850  \n",
       "2   2016-11-29        2.75  United Kingdom        17850  \n",
       "3   2016-11-29        3.39  United Kingdom        17850  \n",
       "4   2016-11-29        3.39  United Kingdom        17850  "
      ]
     },
     "execution_count": 141,
     "metadata": {},
     "output_type": "execute_result"
    }
   ],
   "source": [
    "df1.head()\n",
    "\n",
    "# Acão: \n",
    "# 1. Deletar description"
   ]
  },
  {
   "cell_type": "markdown",
   "metadata": {},
   "source": [
    "#### Country"
   ]
  },
  {
   "cell_type": "code",
   "execution_count": 142,
   "metadata": {},
   "outputs": [
    {
     "data": {
      "text/plain": [
       "array(['United Kingdom', 'France', 'Australia', 'Netherlands', 'Germany',\n",
       "       'Norway', 'EIRE', 'Switzerland', 'Spain', 'Poland', 'Portugal',\n",
       "       'Italy', 'Belgium', 'Lithuania', 'Japan', 'Iceland',\n",
       "       'Channel Islands', 'Denmark', 'Cyprus', 'Sweden', 'Austria',\n",
       "       'Israel', 'Finland', 'Bahrain', 'Greece', 'Hong Kong', 'Singapore',\n",
       "       'Lebanon', 'United Arab Emirates', 'Saudi Arabia',\n",
       "       'Czech Republic', 'Canada', 'Unspecified', 'Brazil', 'USA',\n",
       "       'European Community', 'Malta', 'RSA'], dtype=object)"
      ]
     },
     "execution_count": 142,
     "metadata": {},
     "output_type": "execute_result"
    }
   ],
   "source": [
    "df1['country'].unique()"
   ]
  },
  {
   "cell_type": "code",
   "execution_count": 143,
   "metadata": {},
   "outputs": [
    {
     "data": {
      "text/plain": [
       "country\n",
       "United Kingdom    0.914320\n",
       "Germany           0.017521\n",
       "France            0.015790\n",
       "EIRE              0.015124\n",
       "Spain             0.004674\n",
       "Name: proportion, dtype: float64"
      ]
     },
     "execution_count": 143,
     "metadata": {},
     "output_type": "execute_result"
    }
   ],
   "source": [
    "# Apresenta a contagem de ocorrências de cada país no DataFrame 'df1', normalizada.\n",
    "df1['country'].value_counts(normalize=True).head()\n"
   ]
  },
  {
   "cell_type": "code",
   "execution_count": 144,
   "metadata": {},
   "outputs": [
    {
     "data": {
      "text/html": [
       "<div>\n",
       "<style scoped>\n",
       "    .dataframe tbody tr th:only-of-type {\n",
       "        vertical-align: middle;\n",
       "    }\n",
       "\n",
       "    .dataframe tbody tr th {\n",
       "        vertical-align: top;\n",
       "    }\n",
       "\n",
       "    .dataframe thead th {\n",
       "        text-align: right;\n",
       "    }\n",
       "</style>\n",
       "<table border=\"1\" class=\"dataframe\">\n",
       "  <thead>\n",
       "    <tr style=\"text-align: right;\">\n",
       "      <th></th>\n",
       "      <th>country</th>\n",
       "      <th>customer_id</th>\n",
       "    </tr>\n",
       "  </thead>\n",
       "  <tbody>\n",
       "    <tr>\n",
       "      <th>36</th>\n",
       "      <td>United Kingdom</td>\n",
       "      <td>7587</td>\n",
       "    </tr>\n",
       "    <tr>\n",
       "      <th>14</th>\n",
       "      <td>Germany</td>\n",
       "      <td>95</td>\n",
       "    </tr>\n",
       "    <tr>\n",
       "      <th>13</th>\n",
       "      <td>France</td>\n",
       "      <td>90</td>\n",
       "    </tr>\n",
       "    <tr>\n",
       "      <th>10</th>\n",
       "      <td>EIRE</td>\n",
       "      <td>44</td>\n",
       "    </tr>\n",
       "    <tr>\n",
       "      <th>31</th>\n",
       "      <td>Spain</td>\n",
       "      <td>31</td>\n",
       "    </tr>\n",
       "  </tbody>\n",
       "</table>\n",
       "</div>"
      ],
      "text/plain": [
       "           country  customer_id\n",
       "36  United Kingdom         7587\n",
       "14         Germany           95\n",
       "13          France           90\n",
       "10            EIRE           44\n",
       "31           Spain           31"
      ]
     },
     "execution_count": 144,
     "metadata": {},
     "output_type": "execute_result"
    }
   ],
   "source": [
    "# Conta o número de clientes únicos por país, mostrando os países com mais clientes.\n",
    "df1[['customer_id', 'country']].drop_duplicates().groupby('country').count().reset_index().sort_values('customer_id', ascending=False).head()\n"
   ]
  },
  {
   "cell_type": "markdown",
   "metadata": {},
   "source": [
    "# 2.0. Filtragem de Varivéis "
   ]
  },
  {
   "cell_type": "code",
   "execution_count": 145,
   "metadata": {
    "ExecuteTime": {
     "end_time": "2021-04-21T00:04:36.194344Z",
     "start_time": "2021-04-21T00:04:36.181991Z"
    }
   },
   "outputs": [],
   "source": [
    "df2 = df1.copy()"
   ]
  },
  {
   "cell_type": "code",
   "execution_count": 146,
   "metadata": {},
   "outputs": [
    {
     "data": {
      "text/plain": [
       "invoice_no              object\n",
       "stock_code              object\n",
       "description             object\n",
       "quantity                 int64\n",
       "invoice_date    datetime64[ns]\n",
       "unit_price             float64\n",
       "country                 object\n",
       "customer_id              int64\n",
       "dtype: object"
      ]
     },
     "execution_count": 146,
     "metadata": {},
     "output_type": "execute_result"
    }
   ],
   "source": [
    "df2.dtypes"
   ]
  },
  {
   "cell_type": "code",
   "execution_count": 147,
   "metadata": {},
   "outputs": [],
   "source": [
    "# Filtrando dados numéricos\n",
    "df2 = df2.loc[df2['unit_price'] >= 0.04, :]\n",
    "\n",
    "# Filtrando dados categóricos\n",
    "df2 = df2[~df2['stock_code'].isin(['POST', 'D', 'DOT', 'M', 'S', 'AMAZONFEE', 'm', 'DCGSSBOY', 'DCGSSGIRL', 'PADS', 'B', 'CRUK'])]\n",
    "\n",
    "# Removendo a coluna 'description'\n",
    "df2 = df2.drop(columns='description', axis=1)\n",
    "\n",
    "# Filtrando valores do país \n",
    "df2 = df2[~df2['country'].isin(['European Community', 'Unspecified'])]\n",
    "\n",
    "# bad users\n",
    "df2 = df2[~df2['customer_id'].isin([16446])]\n",
    "\n",
    "# Separando compras e devoluções com base na quantidade ('quantity')\n",
    "df2_returns = df2.loc[df1['quantity'] < 0, :]\n",
    "df2_purchases = df2.loc[df1['quantity'] >= 0, :]"
   ]
  },
  {
   "cell_type": "markdown",
   "metadata": {},
   "source": [
    "# 3.0. Feature Engineering "
   ]
  },
  {
   "cell_type": "code",
   "execution_count": 148,
   "metadata": {
    "ExecuteTime": {
     "end_time": "2021-04-21T00:05:12.849857Z",
     "start_time": "2021-04-21T00:05:12.846519Z"
    }
   },
   "outputs": [],
   "source": [
    "df3 = df2.copy()"
   ]
  },
  {
   "cell_type": "markdown",
   "metadata": {},
   "source": [
    "## 3.1. Feature Creation"
   ]
  },
  {
   "cell_type": "code",
   "execution_count": 149,
   "metadata": {
    "ExecuteTime": {
     "end_time": "2021-04-21T00:05:12.143231Z",
     "start_time": "2021-04-21T00:05:12.003067Z"
    }
   },
   "outputs": [],
   "source": [
    "# Criando um DataFrame de referência ('df_ref') com base em outras colunas\n",
    "df_ref = df3.drop(['invoice_no', 'stock_code', 'quantity', 'invoice_date', 'unit_price', 'country'], axis=1).drop_duplicates(ignore_index=True)\n"
   ]
  },
  {
   "cell_type": "code",
   "execution_count": 150,
   "metadata": {},
   "outputs": [
    {
     "data": {
      "text/plain": [
       "(5786, 1)"
      ]
     },
     "execution_count": 150,
     "metadata": {},
     "output_type": "execute_result"
    }
   ],
   "source": [
    "df_ref.shape"
   ]
  },
  {
   "cell_type": "markdown",
   "metadata": {},
   "source": [
    "### 3.1.1. Gross Revenue"
   ]
  },
  {
   "cell_type": "code",
   "execution_count": 151,
   "metadata": {},
   "outputs": [
    {
     "name": "stderr",
     "output_type": "stream",
     "text": [
      "/var/folders/x1/pk89dqcx2jgg4h8p2wtym9780000gn/T/ipykernel_19120/3977924132.py:2: SettingWithCopyWarning: \n",
      "A value is trying to be set on a copy of a slice from a DataFrame.\n",
      "Try using .loc[row_indexer,col_indexer] = value instead\n",
      "\n",
      "See the caveats in the documentation: https://pandas.pydata.org/pandas-docs/stable/user_guide/indexing.html#returning-a-view-versus-a-copy\n",
      "  df2_purchases.loc[:, 'gross_revenue'] = df2_purchases.loc[:, 'quantity'] * df2_purchases.loc[:, 'unit_price']\n"
     ]
    },
    {
     "data": {
      "text/plain": [
       "customer_id       0\n",
       "gross_revenue    91\n",
       "dtype: int64"
      ]
     },
     "execution_count": 151,
     "metadata": {},
     "output_type": "execute_result"
    }
   ],
   "source": [
    "# Calculando a receita bruta ('gross_revenue') multiplicando quantidade ('quantity') pelo preço unitário ('unit_price')\n",
    "df2_purchases.loc[:, 'gross_revenue'] = df2_purchases.loc[:, 'quantity'] * df2_purchases.loc[:, 'unit_price']\n",
    "\n",
    "\n",
    "# Calculando o valor monetário total por cliente ('df_monetary')\n",
    "df_monetary = df2_purchases.loc[:, ['customer_id', 'gross_revenue']].groupby('customer_id').sum().reset_index()\n",
    "df_ref = pd.merge(df_ref, df_monetary, on='customer_id', how='left')\n",
    "df_ref.isna().sum()"
   ]
  },
  {
   "cell_type": "markdown",
   "metadata": {},
   "source": [
    "### 3.1.2. Recency - Day from last purchase\n"
   ]
  },
  {
   "cell_type": "code",
   "execution_count": 152,
   "metadata": {},
   "outputs": [
    {
     "data": {
      "text/plain": [
       "customer_id       0\n",
       "gross_revenue    91\n",
       "recency_days     91\n",
       "dtype: int64"
      ]
     },
     "execution_count": 152,
     "metadata": {},
     "output_type": "execute_result"
    }
   ],
   "source": [
    "# Calculando a recência ('recency') com base na última data de compra\n",
    "df_recency = df2_purchases.loc[:, ['customer_id', 'invoice_date']].groupby('customer_id').max().reset_index()\n",
    "df_recency['recency_days'] = (df2['invoice_date'].max() - df_recency['invoice_date']).dt.days\n",
    "df_recency = df_recency[['customer_id', 'recency_days']].copy()\n",
    "df_ref = pd.merge(df_ref, df_recency, on='customer_id', how='left')\n",
    "df_ref.isna().sum()"
   ]
  },
  {
   "cell_type": "markdown",
   "metadata": {},
   "source": [
    "### 3.1.3. Quantity of purchased \n"
   ]
  },
  {
   "cell_type": "code",
   "execution_count": 153,
   "metadata": {},
   "outputs": [
    {
     "data": {
      "text/plain": [
       "customer_id       0\n",
       "gross_revenue    91\n",
       "recency_days     91\n",
       "qtde_invoices    91\n",
       "dtype: int64"
      ]
     },
     "execution_count": 153,
     "metadata": {},
     "output_type": "execute_result"
    }
   ],
   "source": [
    "# Cálculo da quantidade de faturas únicas\n",
    "df_freq = (df2_purchases.loc[:, ['customer_id', 'invoice_no']].drop_duplicates()\n",
    "                                                             .groupby( 'customer_id' )\n",
    "                                                             .count()\n",
    "                                                             .reset_index()\n",
    "                                                             .rename(columns={'invoice_no': 'qtde_invoices'}) )\n",
    "df_ref = pd.merge(df_ref, df_freq, on='customer_id', how='left')\n",
    "df_ref.isna().sum()"
   ]
  },
  {
   "cell_type": "markdown",
   "metadata": {},
   "source": [
    "### 3.1.4. Quantity total of items purchased \n"
   ]
  },
  {
   "cell_type": "code",
   "execution_count": 154,
   "metadata": {},
   "outputs": [
    {
     "data": {
      "text/plain": [
       "customer_id       0\n",
       "gross_revenue    91\n",
       "recency_days     91\n",
       "qtde_invoices    91\n",
       "qtde_items       91\n",
       "dtype: int64"
      ]
     },
     "execution_count": 154,
     "metadata": {},
     "output_type": "execute_result"
    }
   ],
   "source": [
    "# Soma da quantidade de itens comprados\n",
    "df_freq = (df2_purchases.loc[:, ['customer_id', 'quantity']].groupby('customer_id' ).sum()\n",
    "                                                           .reset_index()\n",
    "                                                           .rename(columns={'quantity': 'qtde_items'}))\n",
    "df_ref = pd.merge(df_ref, df_freq, on='customer_id', how='left')\n",
    "df_ref.isna().sum()"
   ]
  },
  {
   "cell_type": "markdown",
   "metadata": {},
   "source": [
    "### 3.1.5. Quantity of products purchased"
   ]
  },
  {
   "cell_type": "code",
   "execution_count": 155,
   "metadata": {},
   "outputs": [
    {
     "data": {
      "text/plain": [
       "customer_id       0\n",
       "gross_revenue    91\n",
       "recency_days     91\n",
       "qtde_invoices    91\n",
       "qtde_items       91\n",
       "qtde_products    91\n",
       "dtype: int64"
      ]
     },
     "execution_count": 155,
     "metadata": {},
     "output_type": "execute_result"
    }
   ],
   "source": [
    "# Numero de produtos\n",
    "df_freq = (df2_purchases.loc[:, ['customer_id', 'stock_code']].groupby('customer_id').count()\n",
    "                                                           .reset_index()\n",
    "                                                           .rename(columns={'stock_code': 'qtde_products'}))\n",
    "df_ref = pd.merge(df_ref, df_freq, on='customer_id', how='left')\n",
    "df_ref.isna().sum()"
   ]
  },
  {
   "cell_type": "markdown",
   "metadata": {},
   "source": [
    "### 3.1.6. Average Ticket Value \n"
   ]
  },
  {
   "cell_type": "code",
   "execution_count": 156,
   "metadata": {},
   "outputs": [
    {
     "data": {
      "text/plain": [
       "customer_id       0\n",
       "gross_revenue    91\n",
       "recency_days     91\n",
       "qtde_invoices    91\n",
       "qtde_items       91\n",
       "qtde_products    91\n",
       "avg_ticket       91\n",
       "dtype: int64"
      ]
     },
     "execution_count": 156,
     "metadata": {},
     "output_type": "execute_result"
    }
   ],
   "source": [
    "# Ticket médio\n",
    "df_avg_ticket = df2_purchases.loc[:, ['customer_id', 'gross_revenue']].groupby('customer_id').mean().reset_index().rename(columns={'gross_revenue':'avg_ticket'})\n",
    "df_ref = pd.merge(df_ref, df_avg_ticket, on='customer_id', how='left')\n",
    "df_ref.isna().sum()"
   ]
  },
  {
   "cell_type": "markdown",
   "metadata": {},
   "source": [
    "### 3.1.7. Average Recency Days \n"
   ]
  },
  {
   "cell_type": "code",
   "execution_count": 157,
   "metadata": {},
   "outputs": [
    {
     "data": {
      "text/plain": [
       "customer_id            0\n",
       "gross_revenue         91\n",
       "recency_days          91\n",
       "qtde_invoices         91\n",
       "qtde_items            91\n",
       "qtde_products         91\n",
       "avg_ticket            91\n",
       "avg_recency_days    2816\n",
       "dtype: int64"
      ]
     },
     "execution_count": 157,
     "metadata": {},
     "output_type": "execute_result"
    }
   ],
   "source": [
    "# Média dos dias de recência\n",
    "\n",
    "df_aux = df2[['customer_id', 'invoice_date']].drop_duplicates().sort_values( ['customer_id', 'invoice_date'], ascending=[False, False] )\n",
    "df_aux['next_customer_id'] = df_aux['customer_id'].shift() # next customer\n",
    "df_aux['previous_date'] = df_aux['invoice_date'].shift() # next invoince date\n",
    "\n",
    "df_aux['avg_recency_days'] = df_aux.apply(lambda x: ( x['invoice_date'] - x['previous_date'] ).days if x['customer_id'] == x['next_customer_id'] else np.nan, axis=1 )\n",
    "\n",
    "df_aux = df_aux.drop(['invoice_date', 'next_customer_id', 'previous_date'], axis=1 ).dropna()\n",
    "\n",
    "# average recency \n",
    "df_avg_recency_days = df_aux.groupby('customer_id').mean().reset_index()\n",
    "\n",
    "# merge\n",
    "df_ref = pd.merge(df_ref, df_avg_recency_days, on='customer_id', how='left' )\n",
    "df_ref.isna().sum()"
   ]
  },
  {
   "cell_type": "markdown",
   "metadata": {},
   "source": [
    "### 3.1.8. Frequency Purchase \n"
   ]
  },
  {
   "cell_type": "code",
   "execution_count": 158,
   "metadata": {},
   "outputs": [
    {
     "data": {
      "text/plain": [
       "customer_id            0\n",
       "gross_revenue         91\n",
       "recency_days          91\n",
       "qtde_invoices         91\n",
       "qtde_items            91\n",
       "qtde_products         91\n",
       "avg_ticket            91\n",
       "avg_recency_days    2816\n",
       "frequency             91\n",
       "dtype: int64"
      ]
     },
     "execution_count": 158,
     "metadata": {},
     "output_type": "execute_result"
    }
   ],
   "source": [
    "# Frequência\n",
    "df_aux = (df2_purchases[['customer_id', 'invoice_no', 'invoice_date']].drop_duplicates()\n",
    "                                                             .groupby( 'customer_id')\n",
    "                                                             .agg( max_ = ( 'invoice_date', 'max' ), \n",
    "                                                                   min_ = ( 'invoice_date', 'min' ),\n",
    "                                                                   days_= ( 'invoice_date', lambda x: ( ( x.max() - x.min() ).days ) + 1 ),\n",
    "                                                                   buy_ = ( 'invoice_no', 'count' ) ) ).reset_index()\n",
    "# Frequency\n",
    "df_aux['frequency'] = df_aux[['buy_', 'days_']].apply( lambda x: x['buy_'] / x['days_'] if  x['days_'] != 0 else 0, axis=1 )\n",
    "\n",
    "# Merge\n",
    "df_ref = pd.merge(df_ref, df_aux[['customer_id', 'frequency']], on='customer_id', how='left' )\n",
    "\n",
    "df_ref.isna().sum()"
   ]
  },
  {
   "cell_type": "markdown",
   "metadata": {},
   "source": [
    "### 3.1.9. Number of Returns \n"
   ]
  },
  {
   "cell_type": "code",
   "execution_count": 159,
   "metadata": {},
   "outputs": [
    {
     "data": {
      "text/plain": [
       "customer_id            0\n",
       "gross_revenue         91\n",
       "recency_days          91\n",
       "qtde_invoices         91\n",
       "qtde_items            91\n",
       "qtde_products         91\n",
       "avg_ticket            91\n",
       "avg_recency_days    2816\n",
       "frequency             91\n",
       "qtde_returns           0\n",
       "dtype: int64"
      ]
     },
     "execution_count": 159,
     "metadata": {},
     "output_type": "execute_result"
    }
   ],
   "source": [
    "# Número de Devoluções\n",
    "df_returns = df2_returns[['customer_id', 'quantity']].groupby( 'customer_id' ).sum().reset_index().rename( columns={'quantity':'qtde_returns'} )\n",
    "df_returns['qtde_returns'] = df_returns['qtde_returns'] * -1\n",
    "\n",
    "df_ref = pd.merge( df_ref, df_returns, how='left', on='customer_id' )\n",
    "df_ref.loc[df_ref['qtde_returns'].isna(), 'qtde_returns'] = 0\n",
    "\n",
    "df_ref.isna().sum()"
   ]
  },
  {
   "cell_type": "markdown",
   "metadata": {},
   "source": [
    "# 4.0. EDA (Exploratory Data Analysis)"
   ]
  },
  {
   "cell_type": "code",
   "execution_count": 160,
   "metadata": {
    "ExecuteTime": {
     "end_time": "2021-04-21T00:05:14.595846Z",
     "start_time": "2021-04-21T00:05:14.591851Z"
    }
   },
   "outputs": [],
   "source": [
    "df4 = df_ref.dropna()"
   ]
  },
  {
   "cell_type": "markdown",
   "metadata": {},
   "source": [
    "## 4.3. Estudo do Espaço\n"
   ]
  },
  {
   "cell_type": "code",
   "execution_count": 161,
   "metadata": {},
   "outputs": [],
   "source": [
    "\n",
    "# selected dataset\n",
    "cols_selected = ['customer_id', 'gross_revenue', 'recency_days', 'qtde_products', 'frequency', 'qtde_returns']\n",
    "df43 = df4[cols_selected].drop(columns='customer_id', axis=1)"
   ]
  },
  {
   "cell_type": "code",
   "execution_count": 162,
   "metadata": {},
   "outputs": [],
   "source": [
    "mm = pp.MinMaxScaler()\n",
    "\n",
    "# Aplicando a escala Min-Max a colunas específicas do DataFrame df43\n",
    "# Isso irá dimensionar os valores de cada coluna para o intervalo entre 0 e 1\n",
    "\n",
    "df43['gross_revenue']          = mm.fit_transform( df43[['gross_revenue']] )\n",
    "df43['recency_days']           = mm.fit_transform( df43[['recency_days']] )\n",
    "df43['qtde_products']          = mm.fit_transform( df43[['qtde_products']])\n",
    "df43['frequency']              = mm.fit_transform( df43[['frequency']])\n",
    "df43['qtde_returns']           = mm.fit_transform( df43[['qtde_returns']])\n",
    "\n",
    "X = df43.copy()"
   ]
  },
  {
   "cell_type": "code",
   "execution_count": 163,
   "metadata": {},
   "outputs": [
    {
     "data": {
      "text/plain": [
       "(2968, 5)"
      ]
     },
     "execution_count": 163,
     "metadata": {},
     "output_type": "execute_result"
    }
   ],
   "source": [
    "X.shape"
   ]
  },
  {
   "cell_type": "markdown",
   "metadata": {},
   "source": [
    "### 4.3.1. PCA\n"
   ]
  },
  {
   "cell_type": "code",
   "execution_count": 164,
   "metadata": {},
   "outputs": [
    {
     "data": {
      "image/png": "[encoded data removed]",
      "text/plain": [
       "<Figure size 640x480 with 1 Axes>"
      ]
     },
     "metadata": {},
     "output_type": "display_data"
    }
   ],
   "source": [
    "# Criando uma instância do PCA com o número de componentes igual ao número de colunas\n",
    "pca = dd.PCA(n_components=X.shape[1])\n",
    "\n",
    "# Aplicando a análise de componentes principais ao DataFrame X\n",
    "principal_components = pca.fit_transform(X)\n",
    "\n",
    "# Preparando um gráfico de barras para mostrar a variância explicada por cada componente principal\n",
    "features = range(pca.n_components_)\n",
    "\n",
    "# Criando um gráfico de barras das variâncias explicadas por cada componente\n",
    "plt.bar(features, pca.explained_variance_ratio_)\n",
    "\n",
    "# Criando um DataFrame df_pca para armazenar os resultados da análise de componentes principais\n",
    "df_pca = pd.DataFrame(principal_components)"
   ]
  },
  {
   "cell_type": "code",
   "execution_count": 165,
   "metadata": {},
   "outputs": [
    {
     "data": {
      "text/plain": [
       "<Axes: xlabel='0', ylabel='1'>"
      ]
     },
     "execution_count": 165,
     "metadata": {},
     "output_type": "execute_result"
    },
    {
     "data": {
      "image/png": "[encoded data removed]",
      "text/plain": [
       "<Figure size 640x480 with 1 Axes>"
      ]
     },
     "metadata": {},
     "output_type": "display_data"
    }
   ],
   "source": [
    "sns.scatterplot(x=0, y=1, data=df_pca)"
   ]
  },
  {
   "cell_type": "markdown",
   "metadata": {},
   "source": [
    "### 4.3.2. UMAP\n"
   ]
  },
  {
   "cell_type": "code",
   "execution_count": 166,
   "metadata": {},
   "outputs": [
    {
     "data": {
      "text/plain": [
       "<Axes: xlabel='embedding_x', ylabel='embedding_y'>"
      ]
     },
     "execution_count": 166,
     "metadata": {},
     "output_type": "execute_result"
    },
    {
     "data": {
      "image/png": "[encoded data removed]",
      "text/plain": [
       "<Figure size 640x480 with 1 Axes>"
      ]
     },
     "metadata": {},
     "output_type": "display_data"
    }
   ],
   "source": [
    "# Cria uma instância do reduzidor UMAP (Uniform Manifold Approximation and Projection)\n",
    "reducer = umap.UMAP(random_state=42)\n",
    "\n",
    "# Realiza a redução de dimensionalidade UMAP nos dados em X\n",
    "embedding = reducer.fit_transform(X)\n",
    "\n",
    "# Adiciona as coordenadas de embedding aos dados do DataFrame df_pca\n",
    "df_umap = pd.DataFrame()\n",
    "df_umap['embedding_x'] = embedding[:, 0]\n",
    "df_umap['embedding_y'] = embedding[:, 1]\n",
    "\n",
    "# Plota os dados no espaço UMAP usando seaborn\n",
    "sns.scatterplot(x='embedding_x', y='embedding_y', data=df_umap)\n"
   ]
  },
  {
   "cell_type": "markdown",
   "metadata": {},
   "source": [
    "### 4.3.2. t-SNE\n"
   ]
  },
  {
   "cell_type": "code",
   "execution_count": 167,
   "metadata": {},
   "outputs": [
    {
     "data": {
      "text/plain": [
       "<Axes: xlabel='embedding_x', ylabel='embedding_y'>"
      ]
     },
     "execution_count": 167,
     "metadata": {},
     "output_type": "execute_result"
    },
    {
     "data": {
      "image/png": "[encoded data removed]",
      "text/plain": [
       "<Figure size 640x480 with 1 Axes>"
      ]
     },
     "metadata": {},
     "output_type": "display_data"
    }
   ],
   "source": [
    "# Cria uma instância do reduzidor t-SNE (t-Distributed Stochastic Neighbor Embedding)\n",
    "reducer = mn.TSNE(n_components=2, n_jobs=-1, random_state=42)\n",
    "\n",
    "# Realiza a redução de dimensionalidade t-SNE nos dados em X\n",
    "embedding = reducer.fit_transform(X)\n",
    "\n",
    "# Adiciona as coordenadas de embedding aos dados do DataFrame df_pca\n",
    "df_tsne = pd.DataFrame()\n",
    "df_tsne['embedding_x'] = embedding[:, 0]\n",
    "df_tsne['embedding_y'] = embedding[:, 1]\n",
    "\n",
    "# Plota os dados no espaço t-SNE usando seaborn\n",
    "sns.scatterplot(x='embedding_x', y='embedding_y', data=df_tsne)\n"
   ]
  },
  {
   "cell_type": "markdown",
   "metadata": {},
   "source": [
    "### 4.3.3. Tree-Based Embedding"
   ]
  },
  {
   "cell_type": "code",
   "execution_count": 168,
   "metadata": {},
   "outputs": [],
   "source": [
    "# Define o conjunto de treinamento, onde X é o conjunto de recursos e y é a variável de destino\n",
    "X = df43.drop(columns=['gross_revenue'], axis=1)\n",
    "y = df43['gross_revenue']\n",
    "\n",
    "# Define o modelo de regressão de floresta aleatória com 100 estimadores e uma semente aleatória de 42\n",
    "rf_model = en.RandomForestRegressor(n_estimators=100, random_state=42)\n",
    "\n",
    "# Treina o modelo de regressão de floresta aleatória com os dados de treinamento\n",
    "rf_model.fit(X, y)\n",
    "\n",
    "# Leaf \n",
    "# Cria um DataFrame chamado \"df_leaf\" que contém as previsões de folhas do modelo de regressão de floresta aleatória para os dados de treinamento\n",
    "# O método \"apply\" retorna o índice de folha de cada amostra no modelo\n",
    "df_leaf = pd.DataFrame(rf_model.apply(X))\n",
    "\n",
    "# dataframe Leaf"
   ]
  },
  {
   "cell_type": "code",
   "execution_count": 169,
   "metadata": {},
   "outputs": [],
   "source": [
    "# Reduz a dimensionalidade usando UMAP\n",
    "reducer = umap.UMAP(random_state=42)\n",
    "embedding = reducer.fit_transform(df_leaf)\n",
    "\n",
    "# Cria as colunas 'embedding_x' e 'embedding_y' no DataFrame df_tree para representar a redução de dimensionalidade UMAP\n",
    "df_tree = pd.DataFrame()\n",
    "df_tree['embedding_x'] = embedding[:, 0]\n",
    "df_tree['embedding_y'] = embedding[:, 1]\n",
    "\n",
    "# Plota um gráfico UMAP com as coordenadas 'embedding_x' e 'embedding_y' usando seaborn\n",
    "#sns.scatterplot(x='embedding_x', y='embedding_y', data=df_tree)\n"
   ]
  },
  {
   "cell_type": "markdown",
   "metadata": {},
   "source": [
    "# 5.0. Data Preparation "
   ]
  },
  {
   "cell_type": "code",
   "execution_count": 170,
   "metadata": {},
   "outputs": [],
   "source": [
    "# Tree-Based Embedding\n",
    "df5 = df_tree.copy()\n",
    "\n",
    "# UMAP Embedding\n",
    "#df5 = df_umap.copy()\n",
    "\n",
    "# TSNE Embedding\n",
    "#df5 = df_tsne.copy()"
   ]
  },
  {
   "cell_type": "markdown",
   "metadata": {},
   "source": [
    "# 7.0. Hyperparameter Fine-Tunning"
   ]
  },
  {
   "cell_type": "code",
   "execution_count": 171,
   "metadata": {
    "ExecuteTime": {
     "end_time": "2021-04-21T00:05:17.619962Z",
     "start_time": "2021-04-21T00:05:17.616146Z"
    }
   },
   "outputs": [],
   "source": [
    "\n",
    "X = df5.copy()\n"
   ]
  },
  {
   "cell_type": "code",
   "execution_count": 172,
   "metadata": {
    "ExecuteTime": {
     "end_time": "2021-04-21T00:08:38.801378Z",
     "start_time": "2021-04-21T00:08:38.789791Z"
    }
   },
   "outputs": [
    {
     "data": {
      "text/html": [
       "<div>\n",
       "<style scoped>\n",
       "    .dataframe tbody tr th:only-of-type {\n",
       "        vertical-align: middle;\n",
       "    }\n",
       "\n",
       "    .dataframe tbody tr th {\n",
       "        vertical-align: top;\n",
       "    }\n",
       "\n",
       "    .dataframe thead th {\n",
       "        text-align: right;\n",
       "    }\n",
       "</style>\n",
       "<table border=\"1\" class=\"dataframe\">\n",
       "  <thead>\n",
       "    <tr style=\"text-align: right;\">\n",
       "      <th></th>\n",
       "      <th>embedding_x</th>\n",
       "      <th>embedding_y</th>\n",
       "    </tr>\n",
       "  </thead>\n",
       "  <tbody>\n",
       "    <tr>\n",
       "      <th>0</th>\n",
       "      <td>9.580960</td>\n",
       "      <td>15.718475</td>\n",
       "    </tr>\n",
       "    <tr>\n",
       "      <th>1</th>\n",
       "      <td>18.531776</td>\n",
       "      <td>8.094697</td>\n",
       "    </tr>\n",
       "    <tr>\n",
       "      <th>2</th>\n",
       "      <td>8.426165</td>\n",
       "      <td>15.730021</td>\n",
       "    </tr>\n",
       "    <tr>\n",
       "      <th>3</th>\n",
       "      <td>-1.896095</td>\n",
       "      <td>2.566201</td>\n",
       "    </tr>\n",
       "    <tr>\n",
       "      <th>4</th>\n",
       "      <td>-4.975142</td>\n",
       "      <td>10.840221</td>\n",
       "    </tr>\n",
       "  </tbody>\n",
       "</table>\n",
       "</div>"
      ],
      "text/plain": [
       "   embedding_x  embedding_y\n",
       "0     9.580960    15.718475\n",
       "1    18.531776     8.094697\n",
       "2     8.426165    15.730021\n",
       "3    -1.896095     2.566201\n",
       "4    -4.975142    10.840221"
      ]
     },
     "execution_count": 172,
     "metadata": {},
     "output_type": "execute_result"
    }
   ],
   "source": [
    "X.head()"
   ]
  },
  {
   "cell_type": "code",
   "execution_count": 173,
   "metadata": {},
   "outputs": [],
   "source": [
    "#clusters = [2, 3, 4, 5, 6, 7]\n",
    "\n",
    "clusters = np.arange(2, 25, 1)"
   ]
  },
  {
   "cell_type": "markdown",
   "metadata": {},
   "source": [
    "## 7.1. K-Means"
   ]
  },
  {
   "cell_type": "code",
   "execution_count": 174,
   "metadata": {},
   "outputs": [],
   "source": [
    "kmeans_list = []\n",
    "for k in clusters:\n",
    "    # model definition\n",
    "    kmeans_model = c.KMeans(n_clusters=k, n_init=300, random_state=42)\n",
    "\n",
    "    # model training\n",
    "    kmeans_model.fit(X)\n",
    "\n",
    "    # model predict\n",
    "    labels = kmeans_model.predict(X)\n",
    "\n",
    "    # model performance\n",
    "    # Calcula o coeficiente de silhueta para a atual clusterização\n",
    "    sil = m.silhouette_score(X, labels, metric='euclidean')\n",
    "    kmeans_list.append(sil)"
   ]
  },
  {
   "cell_type": "markdown",
   "metadata": {},
   "source": [
    "## 7.2. GMM"
   ]
  },
  {
   "cell_type": "code",
   "execution_count": 175,
   "metadata": {},
   "outputs": [],
   "source": [
    "gmm_list = []\n",
    "for k in clusters:\n",
    "    # model definition\n",
    "    gmm_model = mx.GaussianMixture(n_components=k, n_init=10, random_state=42)\n",
    "    \n",
    "    # model training\n",
    "    gmm_model.fit(X)\n",
    "\n",
    "    # model predict\n",
    "    labels = gmm_model.predict(X)\n",
    "\n",
    "    # model performance\n",
    "    sil = m.silhouette_score(X, labels, metric='euclidean')\n",
    "    gmm_list.append(sil)"
   ]
  },
  {
   "cell_type": "markdown",
   "metadata": {},
   "source": [
    "## 7.3. Hierarchical Clustering"
   ]
  },
  {
   "cell_type": "code",
   "execution_count": 176,
   "metadata": {},
   "outputs": [],
   "source": [
    "hc_list = []\n",
    "for k in clusters:\n",
    "    # model definition & training\n",
    "    hc_model = hc.linkage(X, 'average')\n",
    "\n",
    "    # model predict\n",
    "    labels = hc.fcluster(hc_model, k, criterion='maxclust')\n",
    "\n",
    "    # metrics\n",
    "    sil = m.silhouette_score(X, labels, metric='euclidean')\n",
    "    hc_list.append(sil)"
   ]
  },
  {
   "cell_type": "markdown",
   "metadata": {},
   "source": [
    "## 7.5. Results"
   ]
  },
  {
   "cell_type": "markdown",
   "metadata": {},
   "source": [
    "### 7.5.1. Tree Based Embedding\n"
   ]
  },
  {
   "cell_type": "code",
   "execution_count": 177,
   "metadata": {},
   "outputs": [
    {
     "data": {
      "text/html": [
       "<style type=\"text/css\">\n",
       "#T_de6c2_row0_col15, #T_de6c2_row1_col15, #T_de6c2_row2_col12 {\n",
       "  background-color: lightblue;\n",
       "}\n",
       "</style>\n",
       "<table id=\"T_de6c2\">\n",
       "  <thead>\n",
       "    <tr>\n",
       "      <th class=\"blank level0\" >&nbsp;</th>\n",
       "      <th id=\"T_de6c2_level0_col0\" class=\"col_heading level0 col0\" >2</th>\n",
       "      <th id=\"T_de6c2_level0_col1\" class=\"col_heading level0 col1\" >3</th>\n",
       "      <th id=\"T_de6c2_level0_col2\" class=\"col_heading level0 col2\" >4</th>\n",
       "      <th id=\"T_de6c2_level0_col3\" class=\"col_heading level0 col3\" >5</th>\n",
       "      <th id=\"T_de6c2_level0_col4\" class=\"col_heading level0 col4\" >6</th>\n",
       "      <th id=\"T_de6c2_level0_col5\" class=\"col_heading level0 col5\" >7</th>\n",
       "      <th id=\"T_de6c2_level0_col6\" class=\"col_heading level0 col6\" >8</th>\n",
       "      <th id=\"T_de6c2_level0_col7\" class=\"col_heading level0 col7\" >9</th>\n",
       "      <th id=\"T_de6c2_level0_col8\" class=\"col_heading level0 col8\" >10</th>\n",
       "      <th id=\"T_de6c2_level0_col9\" class=\"col_heading level0 col9\" >11</th>\n",
       "      <th id=\"T_de6c2_level0_col10\" class=\"col_heading level0 col10\" >12</th>\n",
       "      <th id=\"T_de6c2_level0_col11\" class=\"col_heading level0 col11\" >13</th>\n",
       "      <th id=\"T_de6c2_level0_col12\" class=\"col_heading level0 col12\" >14</th>\n",
       "      <th id=\"T_de6c2_level0_col13\" class=\"col_heading level0 col13\" >15</th>\n",
       "      <th id=\"T_de6c2_level0_col14\" class=\"col_heading level0 col14\" >16</th>\n",
       "      <th id=\"T_de6c2_level0_col15\" class=\"col_heading level0 col15\" >17</th>\n",
       "      <th id=\"T_de6c2_level0_col16\" class=\"col_heading level0 col16\" >18</th>\n",
       "      <th id=\"T_de6c2_level0_col17\" class=\"col_heading level0 col17\" >19</th>\n",
       "      <th id=\"T_de6c2_level0_col18\" class=\"col_heading level0 col18\" >20</th>\n",
       "      <th id=\"T_de6c2_level0_col19\" class=\"col_heading level0 col19\" >21</th>\n",
       "      <th id=\"T_de6c2_level0_col20\" class=\"col_heading level0 col20\" >22</th>\n",
       "      <th id=\"T_de6c2_level0_col21\" class=\"col_heading level0 col21\" >23</th>\n",
       "      <th id=\"T_de6c2_level0_col22\" class=\"col_heading level0 col22\" >24</th>\n",
       "    </tr>\n",
       "  </thead>\n",
       "  <tbody>\n",
       "    <tr>\n",
       "      <th id=\"T_de6c2_level0_row0\" class=\"row_heading level0 row0\" >KMeans</th>\n",
       "      <td id=\"T_de6c2_row0_col0\" class=\"data row0 col0\" >0.392439</td>\n",
       "      <td id=\"T_de6c2_row0_col1\" class=\"data row0 col1\" >0.488181</td>\n",
       "      <td id=\"T_de6c2_row0_col2\" class=\"data row0 col2\" >0.521269</td>\n",
       "      <td id=\"T_de6c2_row0_col3\" class=\"data row0 col3\" >0.533298</td>\n",
       "      <td id=\"T_de6c2_row0_col4\" class=\"data row0 col4\" >0.572919</td>\n",
       "      <td id=\"T_de6c2_row0_col5\" class=\"data row0 col5\" >0.620096</td>\n",
       "      <td id=\"T_de6c2_row0_col6\" class=\"data row0 col6\" >0.623568</td>\n",
       "      <td id=\"T_de6c2_row0_col7\" class=\"data row0 col7\" >0.633565</td>\n",
       "      <td id=\"T_de6c2_row0_col8\" class=\"data row0 col8\" >0.649349</td>\n",
       "      <td id=\"T_de6c2_row0_col9\" class=\"data row0 col9\" >0.671341</td>\n",
       "      <td id=\"T_de6c2_row0_col10\" class=\"data row0 col10\" >0.692728</td>\n",
       "      <td id=\"T_de6c2_row0_col11\" class=\"data row0 col11\" >0.700931</td>\n",
       "      <td id=\"T_de6c2_row0_col12\" class=\"data row0 col12\" >0.682844</td>\n",
       "      <td id=\"T_de6c2_row0_col13\" class=\"data row0 col13\" >0.696594</td>\n",
       "      <td id=\"T_de6c2_row0_col14\" class=\"data row0 col14\" >0.695232</td>\n",
       "      <td id=\"T_de6c2_row0_col15\" class=\"data row0 col15\" >0.708160</td>\n",
       "      <td id=\"T_de6c2_row0_col16\" class=\"data row0 col16\" >0.688546</td>\n",
       "      <td id=\"T_de6c2_row0_col17\" class=\"data row0 col17\" >0.671381</td>\n",
       "      <td id=\"T_de6c2_row0_col18\" class=\"data row0 col18\" >0.648823</td>\n",
       "      <td id=\"T_de6c2_row0_col19\" class=\"data row0 col19\" >0.659310</td>\n",
       "      <td id=\"T_de6c2_row0_col20\" class=\"data row0 col20\" >0.656118</td>\n",
       "      <td id=\"T_de6c2_row0_col21\" class=\"data row0 col21\" >0.658228</td>\n",
       "      <td id=\"T_de6c2_row0_col22\" class=\"data row0 col22\" >0.650952</td>\n",
       "    </tr>\n",
       "    <tr>\n",
       "      <th id=\"T_de6c2_level0_row1\" class=\"row_heading level0 row1\" >GMM</th>\n",
       "      <td id=\"T_de6c2_row1_col0\" class=\"data row1 col0\" >0.394694</td>\n",
       "      <td id=\"T_de6c2_row1_col1\" class=\"data row1 col1\" >0.454610</td>\n",
       "      <td id=\"T_de6c2_row1_col2\" class=\"data row1 col2\" >0.503715</td>\n",
       "      <td id=\"T_de6c2_row1_col3\" class=\"data row1 col3\" >0.526802</td>\n",
       "      <td id=\"T_de6c2_row1_col4\" class=\"data row1 col4\" >0.527993</td>\n",
       "      <td id=\"T_de6c2_row1_col5\" class=\"data row1 col5\" >0.573982</td>\n",
       "      <td id=\"T_de6c2_row1_col6\" class=\"data row1 col6\" >0.573620</td>\n",
       "      <td id=\"T_de6c2_row1_col7\" class=\"data row1 col7\" >0.650413</td>\n",
       "      <td id=\"T_de6c2_row1_col8\" class=\"data row1 col8\" >0.669947</td>\n",
       "      <td id=\"T_de6c2_row1_col9\" class=\"data row1 col9\" >0.670343</td>\n",
       "      <td id=\"T_de6c2_row1_col10\" class=\"data row1 col10\" >0.653631</td>\n",
       "      <td id=\"T_de6c2_row1_col11\" class=\"data row1 col11\" >0.663404</td>\n",
       "      <td id=\"T_de6c2_row1_col12\" class=\"data row1 col12\" >0.684434</td>\n",
       "      <td id=\"T_de6c2_row1_col13\" class=\"data row1 col13\" >0.681079</td>\n",
       "      <td id=\"T_de6c2_row1_col14\" class=\"data row1 col14\" >0.646050</td>\n",
       "      <td id=\"T_de6c2_row1_col15\" class=\"data row1 col15\" >0.707923</td>\n",
       "      <td id=\"T_de6c2_row1_col16\" class=\"data row1 col16\" >0.674977</td>\n",
       "      <td id=\"T_de6c2_row1_col17\" class=\"data row1 col17\" >0.694722</td>\n",
       "      <td id=\"T_de6c2_row1_col18\" class=\"data row1 col18\" >0.658214</td>\n",
       "      <td id=\"T_de6c2_row1_col19\" class=\"data row1 col19\" >0.637364</td>\n",
       "      <td id=\"T_de6c2_row1_col20\" class=\"data row1 col20\" >0.648207</td>\n",
       "      <td id=\"T_de6c2_row1_col21\" class=\"data row1 col21\" >0.645855</td>\n",
       "      <td id=\"T_de6c2_row1_col22\" class=\"data row1 col22\" >0.654541</td>\n",
       "    </tr>\n",
       "    <tr>\n",
       "      <th id=\"T_de6c2_level0_row2\" class=\"row_heading level0 row2\" >HC</th>\n",
       "      <td id=\"T_de6c2_row2_col0\" class=\"data row2 col0\" >0.330073</td>\n",
       "      <td id=\"T_de6c2_row2_col1\" class=\"data row2 col1\" >0.483587</td>\n",
       "      <td id=\"T_de6c2_row2_col2\" class=\"data row2 col2\" >0.511364</td>\n",
       "      <td id=\"T_de6c2_row2_col3\" class=\"data row2 col3\" >0.529699</td>\n",
       "      <td id=\"T_de6c2_row2_col4\" class=\"data row2 col4\" >0.553966</td>\n",
       "      <td id=\"T_de6c2_row2_col5\" class=\"data row2 col5\" >0.620096</td>\n",
       "      <td id=\"T_de6c2_row2_col6\" class=\"data row2 col6\" >0.628532</td>\n",
       "      <td id=\"T_de6c2_row2_col7\" class=\"data row2 col7\" >0.625868</td>\n",
       "      <td id=\"T_de6c2_row2_col8\" class=\"data row2 col8\" >0.649600</td>\n",
       "      <td id=\"T_de6c2_row2_col9\" class=\"data row2 col9\" >0.650535</td>\n",
       "      <td id=\"T_de6c2_row2_col10\" class=\"data row2 col10\" >0.679544</td>\n",
       "      <td id=\"T_de6c2_row2_col11\" class=\"data row2 col11\" >0.700931</td>\n",
       "      <td id=\"T_de6c2_row2_col12\" class=\"data row2 col12\" >0.714682</td>\n",
       "      <td id=\"T_de6c2_row2_col13\" class=\"data row2 col13\" >0.692797</td>\n",
       "      <td id=\"T_de6c2_row2_col14\" class=\"data row2 col14\" >0.712598</td>\n",
       "      <td id=\"T_de6c2_row2_col15\" class=\"data row2 col15\" >0.707975</td>\n",
       "      <td id=\"T_de6c2_row2_col16\" class=\"data row2 col16\" >0.690799</td>\n",
       "      <td id=\"T_de6c2_row2_col17\" class=\"data row2 col17\" >0.672614</td>\n",
       "      <td id=\"T_de6c2_row2_col18\" class=\"data row2 col18\" >0.674313</td>\n",
       "      <td id=\"T_de6c2_row2_col19\" class=\"data row2 col19\" >0.683689</td>\n",
       "      <td id=\"T_de6c2_row2_col20\" class=\"data row2 col20\" >0.682773</td>\n",
       "      <td id=\"T_de6c2_row2_col21\" class=\"data row2 col21\" >0.679652</td>\n",
       "      <td id=\"T_de6c2_row2_col22\" class=\"data row2 col22\" >0.660414</td>\n",
       "    </tr>\n",
       "  </tbody>\n",
       "</table>\n"
      ],
      "text/plain": [
       "<pandas.io.formats.style.Styler at 0x7fab2b136260>"
      ]
     },
     "execution_count": 177,
     "metadata": {},
     "output_type": "execute_result"
    }
   ],
   "source": [
    "# Cria um DataFrame de resultados para comparar os coeficientes de silhueta\n",
    "# entre diferentes algoritmos de clustering e números de clusters.\n",
    "\n",
    "df_results = pd.DataFrame(\n",
    "    {'KMeans': kmeans_list,\n",
    "     'GMM': gmm_list,\n",
    "     'HC': hc_list,\n",
    "     }\n",
    ").T\n",
    "\n",
    "# Define os nomes das colunas como os números de clusters\n",
    "df_results.columns = clusters\n",
    "\n",
    "# Realça o valor máximo em cada linha\n",
    "df_results.style.highlight_max(color='lightblue', axis=1)"
   ]
  },
  {
   "cell_type": "markdown",
   "metadata": {},
   "source": [
    "### 7.5.2. UMAP Embedding"
   ]
  },
  {
   "cell_type": "code",
   "execution_count": 178,
   "metadata": {},
   "outputs": [
    {
     "data": {
      "text/html": [
       "<style type=\"text/css\">\n",
       "#T_5bd18_row0_col15, #T_5bd18_row1_col15, #T_5bd18_row2_col12 {\n",
       "  background-color: lightgreen;\n",
       "}\n",
       "</style>\n",
       "<table id=\"T_5bd18\">\n",
       "  <thead>\n",
       "    <tr>\n",
       "      <th class=\"blank level0\" >&nbsp;</th>\n",
       "      <th id=\"T_5bd18_level0_col0\" class=\"col_heading level0 col0\" >2</th>\n",
       "      <th id=\"T_5bd18_level0_col1\" class=\"col_heading level0 col1\" >3</th>\n",
       "      <th id=\"T_5bd18_level0_col2\" class=\"col_heading level0 col2\" >4</th>\n",
       "      <th id=\"T_5bd18_level0_col3\" class=\"col_heading level0 col3\" >5</th>\n",
       "      <th id=\"T_5bd18_level0_col4\" class=\"col_heading level0 col4\" >6</th>\n",
       "      <th id=\"T_5bd18_level0_col5\" class=\"col_heading level0 col5\" >7</th>\n",
       "      <th id=\"T_5bd18_level0_col6\" class=\"col_heading level0 col6\" >8</th>\n",
       "      <th id=\"T_5bd18_level0_col7\" class=\"col_heading level0 col7\" >9</th>\n",
       "      <th id=\"T_5bd18_level0_col8\" class=\"col_heading level0 col8\" >10</th>\n",
       "      <th id=\"T_5bd18_level0_col9\" class=\"col_heading level0 col9\" >11</th>\n",
       "      <th id=\"T_5bd18_level0_col10\" class=\"col_heading level0 col10\" >12</th>\n",
       "      <th id=\"T_5bd18_level0_col11\" class=\"col_heading level0 col11\" >13</th>\n",
       "      <th id=\"T_5bd18_level0_col12\" class=\"col_heading level0 col12\" >14</th>\n",
       "      <th id=\"T_5bd18_level0_col13\" class=\"col_heading level0 col13\" >15</th>\n",
       "      <th id=\"T_5bd18_level0_col14\" class=\"col_heading level0 col14\" >16</th>\n",
       "      <th id=\"T_5bd18_level0_col15\" class=\"col_heading level0 col15\" >17</th>\n",
       "      <th id=\"T_5bd18_level0_col16\" class=\"col_heading level0 col16\" >18</th>\n",
       "      <th id=\"T_5bd18_level0_col17\" class=\"col_heading level0 col17\" >19</th>\n",
       "      <th id=\"T_5bd18_level0_col18\" class=\"col_heading level0 col18\" >20</th>\n",
       "      <th id=\"T_5bd18_level0_col19\" class=\"col_heading level0 col19\" >21</th>\n",
       "      <th id=\"T_5bd18_level0_col20\" class=\"col_heading level0 col20\" >22</th>\n",
       "      <th id=\"T_5bd18_level0_col21\" class=\"col_heading level0 col21\" >23</th>\n",
       "      <th id=\"T_5bd18_level0_col22\" class=\"col_heading level0 col22\" >24</th>\n",
       "    </tr>\n",
       "  </thead>\n",
       "  <tbody>\n",
       "    <tr>\n",
       "      <th id=\"T_5bd18_level0_row0\" class=\"row_heading level0 row0\" >KMeans</th>\n",
       "      <td id=\"T_5bd18_row0_col0\" class=\"data row0 col0\" >0.392439</td>\n",
       "      <td id=\"T_5bd18_row0_col1\" class=\"data row0 col1\" >0.488181</td>\n",
       "      <td id=\"T_5bd18_row0_col2\" class=\"data row0 col2\" >0.521269</td>\n",
       "      <td id=\"T_5bd18_row0_col3\" class=\"data row0 col3\" >0.533298</td>\n",
       "      <td id=\"T_5bd18_row0_col4\" class=\"data row0 col4\" >0.572919</td>\n",
       "      <td id=\"T_5bd18_row0_col5\" class=\"data row0 col5\" >0.620096</td>\n",
       "      <td id=\"T_5bd18_row0_col6\" class=\"data row0 col6\" >0.623568</td>\n",
       "      <td id=\"T_5bd18_row0_col7\" class=\"data row0 col7\" >0.633565</td>\n",
       "      <td id=\"T_5bd18_row0_col8\" class=\"data row0 col8\" >0.649349</td>\n",
       "      <td id=\"T_5bd18_row0_col9\" class=\"data row0 col9\" >0.671341</td>\n",
       "      <td id=\"T_5bd18_row0_col10\" class=\"data row0 col10\" >0.692728</td>\n",
       "      <td id=\"T_5bd18_row0_col11\" class=\"data row0 col11\" >0.700931</td>\n",
       "      <td id=\"T_5bd18_row0_col12\" class=\"data row0 col12\" >0.682844</td>\n",
       "      <td id=\"T_5bd18_row0_col13\" class=\"data row0 col13\" >0.696594</td>\n",
       "      <td id=\"T_5bd18_row0_col14\" class=\"data row0 col14\" >0.695232</td>\n",
       "      <td id=\"T_5bd18_row0_col15\" class=\"data row0 col15\" >0.708160</td>\n",
       "      <td id=\"T_5bd18_row0_col16\" class=\"data row0 col16\" >0.688546</td>\n",
       "      <td id=\"T_5bd18_row0_col17\" class=\"data row0 col17\" >0.671381</td>\n",
       "      <td id=\"T_5bd18_row0_col18\" class=\"data row0 col18\" >0.648823</td>\n",
       "      <td id=\"T_5bd18_row0_col19\" class=\"data row0 col19\" >0.659310</td>\n",
       "      <td id=\"T_5bd18_row0_col20\" class=\"data row0 col20\" >0.656118</td>\n",
       "      <td id=\"T_5bd18_row0_col21\" class=\"data row0 col21\" >0.658228</td>\n",
       "      <td id=\"T_5bd18_row0_col22\" class=\"data row0 col22\" >0.650952</td>\n",
       "    </tr>\n",
       "    <tr>\n",
       "      <th id=\"T_5bd18_level0_row1\" class=\"row_heading level0 row1\" >GMM</th>\n",
       "      <td id=\"T_5bd18_row1_col0\" class=\"data row1 col0\" >0.394694</td>\n",
       "      <td id=\"T_5bd18_row1_col1\" class=\"data row1 col1\" >0.454610</td>\n",
       "      <td id=\"T_5bd18_row1_col2\" class=\"data row1 col2\" >0.503715</td>\n",
       "      <td id=\"T_5bd18_row1_col3\" class=\"data row1 col3\" >0.526802</td>\n",
       "      <td id=\"T_5bd18_row1_col4\" class=\"data row1 col4\" >0.527993</td>\n",
       "      <td id=\"T_5bd18_row1_col5\" class=\"data row1 col5\" >0.573982</td>\n",
       "      <td id=\"T_5bd18_row1_col6\" class=\"data row1 col6\" >0.573620</td>\n",
       "      <td id=\"T_5bd18_row1_col7\" class=\"data row1 col7\" >0.650413</td>\n",
       "      <td id=\"T_5bd18_row1_col8\" class=\"data row1 col8\" >0.669947</td>\n",
       "      <td id=\"T_5bd18_row1_col9\" class=\"data row1 col9\" >0.670343</td>\n",
       "      <td id=\"T_5bd18_row1_col10\" class=\"data row1 col10\" >0.653631</td>\n",
       "      <td id=\"T_5bd18_row1_col11\" class=\"data row1 col11\" >0.663404</td>\n",
       "      <td id=\"T_5bd18_row1_col12\" class=\"data row1 col12\" >0.684434</td>\n",
       "      <td id=\"T_5bd18_row1_col13\" class=\"data row1 col13\" >0.681079</td>\n",
       "      <td id=\"T_5bd18_row1_col14\" class=\"data row1 col14\" >0.646050</td>\n",
       "      <td id=\"T_5bd18_row1_col15\" class=\"data row1 col15\" >0.707923</td>\n",
       "      <td id=\"T_5bd18_row1_col16\" class=\"data row1 col16\" >0.674977</td>\n",
       "      <td id=\"T_5bd18_row1_col17\" class=\"data row1 col17\" >0.694722</td>\n",
       "      <td id=\"T_5bd18_row1_col18\" class=\"data row1 col18\" >0.658214</td>\n",
       "      <td id=\"T_5bd18_row1_col19\" class=\"data row1 col19\" >0.637364</td>\n",
       "      <td id=\"T_5bd18_row1_col20\" class=\"data row1 col20\" >0.648207</td>\n",
       "      <td id=\"T_5bd18_row1_col21\" class=\"data row1 col21\" >0.645855</td>\n",
       "      <td id=\"T_5bd18_row1_col22\" class=\"data row1 col22\" >0.654541</td>\n",
       "    </tr>\n",
       "    <tr>\n",
       "      <th id=\"T_5bd18_level0_row2\" class=\"row_heading level0 row2\" >HC</th>\n",
       "      <td id=\"T_5bd18_row2_col0\" class=\"data row2 col0\" >0.330073</td>\n",
       "      <td id=\"T_5bd18_row2_col1\" class=\"data row2 col1\" >0.483587</td>\n",
       "      <td id=\"T_5bd18_row2_col2\" class=\"data row2 col2\" >0.511364</td>\n",
       "      <td id=\"T_5bd18_row2_col3\" class=\"data row2 col3\" >0.529699</td>\n",
       "      <td id=\"T_5bd18_row2_col4\" class=\"data row2 col4\" >0.553966</td>\n",
       "      <td id=\"T_5bd18_row2_col5\" class=\"data row2 col5\" >0.620096</td>\n",
       "      <td id=\"T_5bd18_row2_col6\" class=\"data row2 col6\" >0.628532</td>\n",
       "      <td id=\"T_5bd18_row2_col7\" class=\"data row2 col7\" >0.625868</td>\n",
       "      <td id=\"T_5bd18_row2_col8\" class=\"data row2 col8\" >0.649600</td>\n",
       "      <td id=\"T_5bd18_row2_col9\" class=\"data row2 col9\" >0.650535</td>\n",
       "      <td id=\"T_5bd18_row2_col10\" class=\"data row2 col10\" >0.679544</td>\n",
       "      <td id=\"T_5bd18_row2_col11\" class=\"data row2 col11\" >0.700931</td>\n",
       "      <td id=\"T_5bd18_row2_col12\" class=\"data row2 col12\" >0.714682</td>\n",
       "      <td id=\"T_5bd18_row2_col13\" class=\"data row2 col13\" >0.692797</td>\n",
       "      <td id=\"T_5bd18_row2_col14\" class=\"data row2 col14\" >0.712598</td>\n",
       "      <td id=\"T_5bd18_row2_col15\" class=\"data row2 col15\" >0.707975</td>\n",
       "      <td id=\"T_5bd18_row2_col16\" class=\"data row2 col16\" >0.690799</td>\n",
       "      <td id=\"T_5bd18_row2_col17\" class=\"data row2 col17\" >0.672614</td>\n",
       "      <td id=\"T_5bd18_row2_col18\" class=\"data row2 col18\" >0.674313</td>\n",
       "      <td id=\"T_5bd18_row2_col19\" class=\"data row2 col19\" >0.683689</td>\n",
       "      <td id=\"T_5bd18_row2_col20\" class=\"data row2 col20\" >0.682773</td>\n",
       "      <td id=\"T_5bd18_row2_col21\" class=\"data row2 col21\" >0.679652</td>\n",
       "      <td id=\"T_5bd18_row2_col22\" class=\"data row2 col22\" >0.660414</td>\n",
       "    </tr>\n",
       "  </tbody>\n",
       "</table>\n"
      ],
      "text/plain": [
       "<pandas.io.formats.style.Styler at 0x7fab2a687790>"
      ]
     },
     "execution_count": 178,
     "metadata": {},
     "output_type": "execute_result"
    }
   ],
   "source": [
    "df_results = pd.DataFrame( \n",
    "    {'KMeans': kmeans_list, \n",
    "     'GMM': gmm_list, \n",
    "     'HC': hc_list}\n",
    ").T\n",
    "\n",
    "df_results.columns = clusters\n",
    "df_results.style.highlight_max( color='lightgreen', axis=1 )"
   ]
  },
  {
   "cell_type": "markdown",
   "metadata": {},
   "source": [
    "### 7.5.3. TSNE Embedding\n"
   ]
  },
  {
   "cell_type": "code",
   "execution_count": 179,
   "metadata": {},
   "outputs": [
    {
     "data": {
      "text/html": [
       "<style type=\"text/css\">\n",
       "#T_67635_row0_col15, #T_67635_row1_col15, #T_67635_row2_col12 {\n",
       "  background-color: lightgreen;\n",
       "}\n",
       "</style>\n",
       "<table id=\"T_67635\">\n",
       "  <thead>\n",
       "    <tr>\n",
       "      <th class=\"blank level0\" >&nbsp;</th>\n",
       "      <th id=\"T_67635_level0_col0\" class=\"col_heading level0 col0\" >2</th>\n",
       "      <th id=\"T_67635_level0_col1\" class=\"col_heading level0 col1\" >3</th>\n",
       "      <th id=\"T_67635_level0_col2\" class=\"col_heading level0 col2\" >4</th>\n",
       "      <th id=\"T_67635_level0_col3\" class=\"col_heading level0 col3\" >5</th>\n",
       "      <th id=\"T_67635_level0_col4\" class=\"col_heading level0 col4\" >6</th>\n",
       "      <th id=\"T_67635_level0_col5\" class=\"col_heading level0 col5\" >7</th>\n",
       "      <th id=\"T_67635_level0_col6\" class=\"col_heading level0 col6\" >8</th>\n",
       "      <th id=\"T_67635_level0_col7\" class=\"col_heading level0 col7\" >9</th>\n",
       "      <th id=\"T_67635_level0_col8\" class=\"col_heading level0 col8\" >10</th>\n",
       "      <th id=\"T_67635_level0_col9\" class=\"col_heading level0 col9\" >11</th>\n",
       "      <th id=\"T_67635_level0_col10\" class=\"col_heading level0 col10\" >12</th>\n",
       "      <th id=\"T_67635_level0_col11\" class=\"col_heading level0 col11\" >13</th>\n",
       "      <th id=\"T_67635_level0_col12\" class=\"col_heading level0 col12\" >14</th>\n",
       "      <th id=\"T_67635_level0_col13\" class=\"col_heading level0 col13\" >15</th>\n",
       "      <th id=\"T_67635_level0_col14\" class=\"col_heading level0 col14\" >16</th>\n",
       "      <th id=\"T_67635_level0_col15\" class=\"col_heading level0 col15\" >17</th>\n",
       "      <th id=\"T_67635_level0_col16\" class=\"col_heading level0 col16\" >18</th>\n",
       "      <th id=\"T_67635_level0_col17\" class=\"col_heading level0 col17\" >19</th>\n",
       "      <th id=\"T_67635_level0_col18\" class=\"col_heading level0 col18\" >20</th>\n",
       "      <th id=\"T_67635_level0_col19\" class=\"col_heading level0 col19\" >21</th>\n",
       "      <th id=\"T_67635_level0_col20\" class=\"col_heading level0 col20\" >22</th>\n",
       "      <th id=\"T_67635_level0_col21\" class=\"col_heading level0 col21\" >23</th>\n",
       "      <th id=\"T_67635_level0_col22\" class=\"col_heading level0 col22\" >24</th>\n",
       "    </tr>\n",
       "  </thead>\n",
       "  <tbody>\n",
       "    <tr>\n",
       "      <th id=\"T_67635_level0_row0\" class=\"row_heading level0 row0\" >KMeans</th>\n",
       "      <td id=\"T_67635_row0_col0\" class=\"data row0 col0\" >0.392439</td>\n",
       "      <td id=\"T_67635_row0_col1\" class=\"data row0 col1\" >0.488181</td>\n",
       "      <td id=\"T_67635_row0_col2\" class=\"data row0 col2\" >0.521269</td>\n",
       "      <td id=\"T_67635_row0_col3\" class=\"data row0 col3\" >0.533298</td>\n",
       "      <td id=\"T_67635_row0_col4\" class=\"data row0 col4\" >0.572919</td>\n",
       "      <td id=\"T_67635_row0_col5\" class=\"data row0 col5\" >0.620096</td>\n",
       "      <td id=\"T_67635_row0_col6\" class=\"data row0 col6\" >0.623568</td>\n",
       "      <td id=\"T_67635_row0_col7\" class=\"data row0 col7\" >0.633565</td>\n",
       "      <td id=\"T_67635_row0_col8\" class=\"data row0 col8\" >0.649349</td>\n",
       "      <td id=\"T_67635_row0_col9\" class=\"data row0 col9\" >0.671341</td>\n",
       "      <td id=\"T_67635_row0_col10\" class=\"data row0 col10\" >0.692728</td>\n",
       "      <td id=\"T_67635_row0_col11\" class=\"data row0 col11\" >0.700931</td>\n",
       "      <td id=\"T_67635_row0_col12\" class=\"data row0 col12\" >0.682844</td>\n",
       "      <td id=\"T_67635_row0_col13\" class=\"data row0 col13\" >0.696594</td>\n",
       "      <td id=\"T_67635_row0_col14\" class=\"data row0 col14\" >0.695232</td>\n",
       "      <td id=\"T_67635_row0_col15\" class=\"data row0 col15\" >0.708160</td>\n",
       "      <td id=\"T_67635_row0_col16\" class=\"data row0 col16\" >0.688546</td>\n",
       "      <td id=\"T_67635_row0_col17\" class=\"data row0 col17\" >0.671381</td>\n",
       "      <td id=\"T_67635_row0_col18\" class=\"data row0 col18\" >0.648823</td>\n",
       "      <td id=\"T_67635_row0_col19\" class=\"data row0 col19\" >0.659310</td>\n",
       "      <td id=\"T_67635_row0_col20\" class=\"data row0 col20\" >0.656118</td>\n",
       "      <td id=\"T_67635_row0_col21\" class=\"data row0 col21\" >0.658228</td>\n",
       "      <td id=\"T_67635_row0_col22\" class=\"data row0 col22\" >0.650952</td>\n",
       "    </tr>\n",
       "    <tr>\n",
       "      <th id=\"T_67635_level0_row1\" class=\"row_heading level0 row1\" >GMM</th>\n",
       "      <td id=\"T_67635_row1_col0\" class=\"data row1 col0\" >0.394694</td>\n",
       "      <td id=\"T_67635_row1_col1\" class=\"data row1 col1\" >0.454610</td>\n",
       "      <td id=\"T_67635_row1_col2\" class=\"data row1 col2\" >0.503715</td>\n",
       "      <td id=\"T_67635_row1_col3\" class=\"data row1 col3\" >0.526802</td>\n",
       "      <td id=\"T_67635_row1_col4\" class=\"data row1 col4\" >0.527993</td>\n",
       "      <td id=\"T_67635_row1_col5\" class=\"data row1 col5\" >0.573982</td>\n",
       "      <td id=\"T_67635_row1_col6\" class=\"data row1 col6\" >0.573620</td>\n",
       "      <td id=\"T_67635_row1_col7\" class=\"data row1 col7\" >0.650413</td>\n",
       "      <td id=\"T_67635_row1_col8\" class=\"data row1 col8\" >0.669947</td>\n",
       "      <td id=\"T_67635_row1_col9\" class=\"data row1 col9\" >0.670343</td>\n",
       "      <td id=\"T_67635_row1_col10\" class=\"data row1 col10\" >0.653631</td>\n",
       "      <td id=\"T_67635_row1_col11\" class=\"data row1 col11\" >0.663404</td>\n",
       "      <td id=\"T_67635_row1_col12\" class=\"data row1 col12\" >0.684434</td>\n",
       "      <td id=\"T_67635_row1_col13\" class=\"data row1 col13\" >0.681079</td>\n",
       "      <td id=\"T_67635_row1_col14\" class=\"data row1 col14\" >0.646050</td>\n",
       "      <td id=\"T_67635_row1_col15\" class=\"data row1 col15\" >0.707923</td>\n",
       "      <td id=\"T_67635_row1_col16\" class=\"data row1 col16\" >0.674977</td>\n",
       "      <td id=\"T_67635_row1_col17\" class=\"data row1 col17\" >0.694722</td>\n",
       "      <td id=\"T_67635_row1_col18\" class=\"data row1 col18\" >0.658214</td>\n",
       "      <td id=\"T_67635_row1_col19\" class=\"data row1 col19\" >0.637364</td>\n",
       "      <td id=\"T_67635_row1_col20\" class=\"data row1 col20\" >0.648207</td>\n",
       "      <td id=\"T_67635_row1_col21\" class=\"data row1 col21\" >0.645855</td>\n",
       "      <td id=\"T_67635_row1_col22\" class=\"data row1 col22\" >0.654541</td>\n",
       "    </tr>\n",
       "    <tr>\n",
       "      <th id=\"T_67635_level0_row2\" class=\"row_heading level0 row2\" >HC</th>\n",
       "      <td id=\"T_67635_row2_col0\" class=\"data row2 col0\" >0.330073</td>\n",
       "      <td id=\"T_67635_row2_col1\" class=\"data row2 col1\" >0.483587</td>\n",
       "      <td id=\"T_67635_row2_col2\" class=\"data row2 col2\" >0.511364</td>\n",
       "      <td id=\"T_67635_row2_col3\" class=\"data row2 col3\" >0.529699</td>\n",
       "      <td id=\"T_67635_row2_col4\" class=\"data row2 col4\" >0.553966</td>\n",
       "      <td id=\"T_67635_row2_col5\" class=\"data row2 col5\" >0.620096</td>\n",
       "      <td id=\"T_67635_row2_col6\" class=\"data row2 col6\" >0.628532</td>\n",
       "      <td id=\"T_67635_row2_col7\" class=\"data row2 col7\" >0.625868</td>\n",
       "      <td id=\"T_67635_row2_col8\" class=\"data row2 col8\" >0.649600</td>\n",
       "      <td id=\"T_67635_row2_col9\" class=\"data row2 col9\" >0.650535</td>\n",
       "      <td id=\"T_67635_row2_col10\" class=\"data row2 col10\" >0.679544</td>\n",
       "      <td id=\"T_67635_row2_col11\" class=\"data row2 col11\" >0.700931</td>\n",
       "      <td id=\"T_67635_row2_col12\" class=\"data row2 col12\" >0.714682</td>\n",
       "      <td id=\"T_67635_row2_col13\" class=\"data row2 col13\" >0.692797</td>\n",
       "      <td id=\"T_67635_row2_col14\" class=\"data row2 col14\" >0.712598</td>\n",
       "      <td id=\"T_67635_row2_col15\" class=\"data row2 col15\" >0.707975</td>\n",
       "      <td id=\"T_67635_row2_col16\" class=\"data row2 col16\" >0.690799</td>\n",
       "      <td id=\"T_67635_row2_col17\" class=\"data row2 col17\" >0.672614</td>\n",
       "      <td id=\"T_67635_row2_col18\" class=\"data row2 col18\" >0.674313</td>\n",
       "      <td id=\"T_67635_row2_col19\" class=\"data row2 col19\" >0.683689</td>\n",
       "      <td id=\"T_67635_row2_col20\" class=\"data row2 col20\" >0.682773</td>\n",
       "      <td id=\"T_67635_row2_col21\" class=\"data row2 col21\" >0.679652</td>\n",
       "      <td id=\"T_67635_row2_col22\" class=\"data row2 col22\" >0.660414</td>\n",
       "    </tr>\n",
       "  </tbody>\n",
       "</table>\n"
      ],
      "text/plain": [
       "<pandas.io.formats.style.Styler at 0x7fab2b136c80>"
      ]
     },
     "execution_count": 179,
     "metadata": {},
     "output_type": "execute_result"
    }
   ],
   "source": [
    "df_results = pd.DataFrame( \n",
    "    {'KMeans': kmeans_list, \n",
    "     'GMM': gmm_list, \n",
    "     'HC': hc_list}\n",
    ").T\n",
    "\n",
    "df_results.columns = clusters\n",
    "df_results.style.highlight_max( color='lightgreen', axis=1 )"
   ]
  },
  {
   "cell_type": "markdown",
   "metadata": {},
   "source": [
    "# 8.0. Model Training"
   ]
  },
  {
   "cell_type": "markdown",
   "metadata": {},
   "source": [
    "## 8.1. Final Model"
   ]
  },
  {
   "cell_type": "code",
   "execution_count": 180,
   "metadata": {},
   "outputs": [],
   "source": [
    "# Definição do modelo & training\n",
    "k = 8 # número de clusters\n",
    "hc_model = hc.linkage(X, 'average')\n",
    "\n",
    "# Model predict\n",
    "labels = hc.fcluster(hc_model, k, criterion='maxclust')"
   ]
  },
  {
   "cell_type": "markdown",
   "metadata": {},
   "source": [
    "### 8.1.1. Cluster Validation"
   ]
  },
  {
   "cell_type": "code",
   "execution_count": 181,
   "metadata": {
    "ExecuteTime": {
     "end_time": "2021-04-21T00:35:32.433278Z",
     "start_time": "2021-04-21T00:35:32.047846Z"
    }
   },
   "outputs": [
    {
     "name": "stdout",
     "output_type": "stream",
     "text": [
      "SS value: 0.6285316348075867\n"
     ]
    }
   ],
   "source": [
    "# Cálculo do WSS (Within-cluster sum of square)\n",
    "# print('WSS value: {}'.format(kmeans.inertia_))\n",
    "\n",
    "# Cálculo do SS (Silhouette Score)\n",
    "print('SS value: {}'.format(m.silhouette_score(X, labels, metric='euclidean')))"
   ]
  },
  {
   "cell_type": "markdown",
   "metadata": {},
   "source": [
    "# 9.0. Cluster Analysis "
   ]
  },
  {
   "cell_type": "code",
   "execution_count": 182,
   "metadata": {},
   "outputs": [],
   "source": [
    "df9 = X.copy()\n",
    "df9['cluster'] = labels"
   ]
  },
  {
   "cell_type": "markdown",
   "metadata": {},
   "source": [
    "## 9.1. Visualization Inspection"
   ]
  },
  {
   "cell_type": "code",
   "execution_count": 183,
   "metadata": {},
   "outputs": [
    {
     "data": {
      "text/plain": [
       "<Axes: xlabel='embedding_x', ylabel='embedding_y'>"
      ]
     },
     "execution_count": 183,
     "metadata": {},
     "output_type": "execute_result"
    },
    {
     "data": {
      "image/png": "[encoded data removed]",
      "text/plain": [
       "<Figure size 640x480 with 1 Axes>"
      ]
     },
     "metadata": {},
     "output_type": "display_data"
    }
   ],
   "source": [
    "sns.scatterplot( x='embedding_x', y='embedding_y', hue='cluster', data=df9, palette='deep')"
   ]
  },
  {
   "cell_type": "markdown",
   "metadata": {},
   "source": [
    "## 9.4. Cluster Profile"
   ]
  },
  {
   "cell_type": "code",
   "execution_count": 184,
   "metadata": {},
   "outputs": [],
   "source": [
    "from datetime import datetime"
   ]
  },
  {
   "cell_type": "code",
   "execution_count": 185,
   "metadata": {},
   "outputs": [],
   "source": [
    "df92 = df4[cols_selected].copy()\n",
    "df92['cluster'] = labels\n",
    "\n",
    "# # change dtypes\n",
    "# df92['recency_days'] = df92['recency_days'].astype( int )\n",
    "# df92['qtde_products'] = df92['qtde_products'].astype( int )\n",
    "# df92['qtde_returns'] = df92['qtde_returns'].astype( int )\n",
    "\n",
    "# df92['last_training_timestamp'] = datetime.now().strftime( '%Y-%m-%d %H:%M:%S')"
   ]
  },
  {
   "cell_type": "code",
   "execution_count": 186,
   "metadata": {},
   "outputs": [
    {
     "data": {
      "text/html": [
       "<div>\n",
       "<style scoped>\n",
       "    .dataframe tbody tr th:only-of-type {\n",
       "        vertical-align: middle;\n",
       "    }\n",
       "\n",
       "    .dataframe tbody tr th {\n",
       "        vertical-align: top;\n",
       "    }\n",
       "\n",
       "    .dataframe thead th {\n",
       "        text-align: right;\n",
       "    }\n",
       "</style>\n",
       "<table border=\"1\" class=\"dataframe\">\n",
       "  <thead>\n",
       "    <tr style=\"text-align: right;\">\n",
       "      <th></th>\n",
       "      <th>customer_id</th>\n",
       "      <th>gross_revenue</th>\n",
       "      <th>recency_days</th>\n",
       "      <th>qtde_products</th>\n",
       "      <th>frequency</th>\n",
       "      <th>qtde_returns</th>\n",
       "      <th>cluster</th>\n",
       "    </tr>\n",
       "  </thead>\n",
       "  <tbody>\n",
       "    <tr>\n",
       "      <th>0</th>\n",
       "      <td>17850</td>\n",
       "      <td>5391.21</td>\n",
       "      <td>372.0</td>\n",
       "      <td>297.0</td>\n",
       "      <td>17.000000</td>\n",
       "      <td>40.0</td>\n",
       "      <td>7</td>\n",
       "    </tr>\n",
       "    <tr>\n",
       "      <th>1</th>\n",
       "      <td>13047</td>\n",
       "      <td>3232.59</td>\n",
       "      <td>56.0</td>\n",
       "      <td>171.0</td>\n",
       "      <td>0.028302</td>\n",
       "      <td>35.0</td>\n",
       "      <td>8</td>\n",
       "    </tr>\n",
       "    <tr>\n",
       "      <th>2</th>\n",
       "      <td>12583</td>\n",
       "      <td>6705.38</td>\n",
       "      <td>2.0</td>\n",
       "      <td>232.0</td>\n",
       "      <td>0.040323</td>\n",
       "      <td>50.0</td>\n",
       "      <td>7</td>\n",
       "    </tr>\n",
       "    <tr>\n",
       "      <th>3</th>\n",
       "      <td>13748</td>\n",
       "      <td>948.25</td>\n",
       "      <td>95.0</td>\n",
       "      <td>28.0</td>\n",
       "      <td>0.017921</td>\n",
       "      <td>0.0</td>\n",
       "      <td>3</td>\n",
       "    </tr>\n",
       "    <tr>\n",
       "      <th>4</th>\n",
       "      <td>15100</td>\n",
       "      <td>876.00</td>\n",
       "      <td>333.0</td>\n",
       "      <td>3.0</td>\n",
       "      <td>0.073171</td>\n",
       "      <td>22.0</td>\n",
       "      <td>1</td>\n",
       "    </tr>\n",
       "  </tbody>\n",
       "</table>\n",
       "</div>"
      ],
      "text/plain": [
       "   customer_id  gross_revenue  recency_days  qtde_products  frequency  \\\n",
       "0        17850        5391.21         372.0          297.0  17.000000   \n",
       "1        13047        3232.59          56.0          171.0   0.028302   \n",
       "2        12583        6705.38           2.0          232.0   0.040323   \n",
       "3        13748         948.25          95.0           28.0   0.017921   \n",
       "4        15100         876.00         333.0            3.0   0.073171   \n",
       "\n",
       "   qtde_returns  cluster  \n",
       "0          40.0        7  \n",
       "1          35.0        8  \n",
       "2          50.0        7  \n",
       "3           0.0        3  \n",
       "4          22.0        1  "
      ]
     },
     "execution_count": 186,
     "metadata": {},
     "output_type": "execute_result"
    }
   ],
   "source": [
    "df92.head()"
   ]
  },
  {
   "cell_type": "code",
   "execution_count": 187,
   "metadata": {
    "ExecuteTime": {
     "end_time": "2021-04-21T00:36:34.486621Z",
     "start_time": "2021-04-21T00:36:34.442762Z"
    }
   },
   "outputs": [
    {
     "data": {
      "text/html": [
       "<div>\n",
       "<style scoped>\n",
       "    .dataframe tbody tr th:only-of-type {\n",
       "        vertical-align: middle;\n",
       "    }\n",
       "\n",
       "    .dataframe tbody tr th {\n",
       "        vertical-align: top;\n",
       "    }\n",
       "\n",
       "    .dataframe thead th {\n",
       "        text-align: right;\n",
       "    }\n",
       "</style>\n",
       "<table border=\"1\" class=\"dataframe\">\n",
       "  <thead>\n",
       "    <tr style=\"text-align: right;\">\n",
       "      <th></th>\n",
       "      <th>cluster</th>\n",
       "      <th>customer_id</th>\n",
       "      <th>perc_customer</th>\n",
       "      <th>gross_revenue</th>\n",
       "      <th>recency_days</th>\n",
       "      <th>qtde_products</th>\n",
       "      <th>frequency</th>\n",
       "      <th>qtde_returns</th>\n",
       "    </tr>\n",
       "  </thead>\n",
       "  <tbody>\n",
       "    <tr>\n",
       "      <th>6</th>\n",
       "      <td>7</td>\n",
       "      <td>373</td>\n",
       "      <td>12.567385</td>\n",
       "      <td>10503.060483</td>\n",
       "      <td>19.268097</td>\n",
       "      <td>475.581769</td>\n",
       "      <td>0.110615</td>\n",
       "      <td>187.120643</td>\n",
       "    </tr>\n",
       "    <tr>\n",
       "      <th>7</th>\n",
       "      <td>8</td>\n",
       "      <td>240</td>\n",
       "      <td>8.086253</td>\n",
       "      <td>2818.695875</td>\n",
       "      <td>32.658333</td>\n",
       "      <td>192.979167</td>\n",
       "      <td>0.049000</td>\n",
       "      <td>14.450000</td>\n",
       "    </tr>\n",
       "    <tr>\n",
       "      <th>5</th>\n",
       "      <td>6</td>\n",
       "      <td>356</td>\n",
       "      <td>11.994609</td>\n",
       "      <td>2404.835787</td>\n",
       "      <td>43.603933</td>\n",
       "      <td>128.373596</td>\n",
       "      <td>0.042313</td>\n",
       "      <td>19.904494</td>\n",
       "    </tr>\n",
       "    <tr>\n",
       "      <th>1</th>\n",
       "      <td>2</td>\n",
       "      <td>506</td>\n",
       "      <td>17.048518</td>\n",
       "      <td>2127.020889</td>\n",
       "      <td>58.875494</td>\n",
       "      <td>66.749012</td>\n",
       "      <td>0.048962</td>\n",
       "      <td>16.891304</td>\n",
       "    </tr>\n",
       "    <tr>\n",
       "      <th>4</th>\n",
       "      <td>5</td>\n",
       "      <td>404</td>\n",
       "      <td>13.611860</td>\n",
       "      <td>1689.182401</td>\n",
       "      <td>54.801980</td>\n",
       "      <td>89.202970</td>\n",
       "      <td>0.050037</td>\n",
       "      <td>11.542079</td>\n",
       "    </tr>\n",
       "    <tr>\n",
       "      <th>3</th>\n",
       "      <td>4</td>\n",
       "      <td>322</td>\n",
       "      <td>10.849057</td>\n",
       "      <td>971.025435</td>\n",
       "      <td>75.329193</td>\n",
       "      <td>37.462733</td>\n",
       "      <td>0.074586</td>\n",
       "      <td>6.571429</td>\n",
       "    </tr>\n",
       "    <tr>\n",
       "      <th>2</th>\n",
       "      <td>3</td>\n",
       "      <td>175</td>\n",
       "      <td>5.896226</td>\n",
       "      <td>827.478286</td>\n",
       "      <td>92.022857</td>\n",
       "      <td>26.822857</td>\n",
       "      <td>0.161952</td>\n",
       "      <td>22.868571</td>\n",
       "    </tr>\n",
       "    <tr>\n",
       "      <th>0</th>\n",
       "      <td>1</td>\n",
       "      <td>592</td>\n",
       "      <td>19.946092</td>\n",
       "      <td>553.770946</td>\n",
       "      <td>114.917230</td>\n",
       "      <td>14.167230</td>\n",
       "      <td>0.291256</td>\n",
       "      <td>6.538851</td>\n",
       "    </tr>\n",
       "  </tbody>\n",
       "</table>\n",
       "</div>"
      ],
      "text/plain": [
       "   cluster  customer_id  perc_customer  gross_revenue  recency_days  \\\n",
       "6        7          373      12.567385   10503.060483     19.268097   \n",
       "7        8          240       8.086253    2818.695875     32.658333   \n",
       "5        6          356      11.994609    2404.835787     43.603933   \n",
       "1        2          506      17.048518    2127.020889     58.875494   \n",
       "4        5          404      13.611860    1689.182401     54.801980   \n",
       "3        4          322      10.849057     971.025435     75.329193   \n",
       "2        3          175       5.896226     827.478286     92.022857   \n",
       "0        1          592      19.946092     553.770946    114.917230   \n",
       "\n",
       "   qtde_products  frequency  qtde_returns  \n",
       "6     475.581769   0.110615    187.120643  \n",
       "7     192.979167   0.049000     14.450000  \n",
       "5     128.373596   0.042313     19.904494  \n",
       "1      66.749012   0.048962     16.891304  \n",
       "4      89.202970   0.050037     11.542079  \n",
       "3      37.462733   0.074586      6.571429  \n",
       "2      26.822857   0.161952     22.868571  \n",
       "0      14.167230   0.291256      6.538851  "
      ]
     },
     "execution_count": 187,
     "metadata": {},
     "output_type": "execute_result"
    }
   ],
   "source": [
    "# Número de clientes em cada cluster\n",
    "df_cluster = df92[['customer_id', 'cluster']].groupby('cluster').count().reset_index()\n",
    "df_cluster['perc_customer'] = 100 * (df_cluster['customer_id'] / df_cluster['customer_id'].sum())\n",
    "\n",
    "# Média da receita bruta em cada cluster\n",
    "df_avg_gross_revenue = df92[['gross_revenue', 'cluster']].groupby('cluster').mean().reset_index()\n",
    "df_cluster = pd.merge(df_cluster, df_avg_gross_revenue, how='inner', on='cluster')\n",
    "\n",
    "# Média dos dias de recência em cada cluster\n",
    "df_avg_recency_days = df92[['recency_days', 'cluster']].groupby('cluster').mean().reset_index()\n",
    "df_cluster = pd.merge(df_cluster, df_avg_recency_days, how='inner', on='cluster')\n",
    "\n",
    "# Média de quantidade de produtos\n",
    "df_qtde_products = df92[['qtde_products', 'cluster']].groupby('cluster').mean().reset_index()\n",
    "df_cluster = pd.merge(df_cluster, df_qtde_products, how='inner', on='cluster')\n",
    "\n",
    "# Frequencia media em cada cluster\n",
    "df_frequency = df92[['frequency', 'cluster']].groupby('cluster').mean().reset_index()\n",
    "df_cluster = pd.merge(df_cluster, df_frequency, how='inner', on='cluster')\n",
    "\n",
    "# Media de Retornos em cada cluster\n",
    "df_qtde_returns = df92[['qtde_returns', 'cluster']].groupby('cluster').mean().reset_index()\n",
    "df_cluster = pd.merge(df_cluster, df_qtde_returns, how='inner', on='cluster')\n",
    "\n",
    "df_cluster.sort_values('gross_revenue', ascending=False)"
   ]
  },
  {
   "cell_type": "markdown",
   "metadata": {},
   "source": [
    "## Cluster Analisys - write\n"
   ]
  },
  {
   "cell_type": "markdown",
   "metadata": {},
   "source": [
    "### Cluster 1\n",
    "- **Número de clientes:** 592 (19.95% dos clientes)\n",
    "- **Receita bruta média:** $553.77\n",
    "- **Recência média:** 114.92 dias\n",
    "- **Quantidade média de produtos comprados:** 14.17\n",
    "- **Frequência média de compras:** 0.2913\n",
    "- **Quantidade média de devoluções:** 6.54\n",
    "\n",
    "### Cluster 2\n",
    "- **Número de clientes:** 506 (17.05% dos clientes)\n",
    "- **Receita bruta média:** $2,127.02\n",
    "- **Recência média:** 58.88 dias\n",
    "- **Quantidade média de produtos comprados:** 66.75\n",
    "- **Frequência média de compras:** 0.0490\n",
    "- **Quantidade média de devoluções:** 16.89\n",
    "\n",
    "### Cluster 3\n",
    "- **Número de clientes:** 175 (5.90% dos clientes)\n",
    "- **Receita bruta média:** $827.48\n",
    "- **Recência média:** 92.02 dias\n",
    "- **Quantidade média de produtos comprados:** 26.82\n",
    "- **Frequência média de compras:** 0.1619\n",
    "- **Quantidade média de devoluções:** 22.87\n",
    "\n",
    "### Cluster 4\n",
    "- **Número de clientes:** 322 (10.85% dos clientes)\n",
    "- **Receita bruta média:** $971.03\n",
    "- **Recência média:** 75.33 dias\n",
    "- **Quantidade média de produtos comprados:** 37.46\n",
    "- **Frequência média de compras:** 0.0746\n",
    "- **Quantidade média de devoluções:** 6.57\n",
    "\n",
    "### Cluster 5\n",
    "- **Número de clientes:** 404 (13.61% dos clientes)\n",
    "- **Receita bruta média:** $1,689.18\n",
    "- **Recência média:** 54.80 dias\n",
    "- **Quantidade média de produtos comprados:** 89.20\n",
    "- **Frequência média de compras:** 0.0500\n",
    "- **Quantidade média de devoluções:** 11.54\n",
    "\n",
    "### Cluster 6\n",
    "- **Número de clientes:** 356 (11.99% dos clientes)\n",
    "- **Receita bruta média:** $2,404.84\n",
    "- **Recência média:** 43.60 dias\n",
    "- **Quantidade média de produtos comprados:** 128.37\n",
    "- **Frequência média de compras:** 0.0423\n",
    "- **Quantidade média de devoluções:** 19.90\n",
    "\n",
    "### Cluster 7 - **Insiders**\n",
    "- **Número de clientes:** 373 (12.57% dos clientes)\n",
    "- **Receita bruta média:** $10,503.06\n",
    "- **Recência média:** 19.27 dias\n",
    "- **Quantidade média de produtos comprados:** 475.58\n",
    "- **Frequência média de compras:** 0.1106\n",
    "- **Quantidade média de devoluções:** 187.12\n",
    "\n",
    "### Cluster 8\n",
    "- **Número de clientes:** 240 (8.09% dos clientes)\n",
    "- **Receita bruta média:** $2,818.70\n",
    "- **Recência média:** 32.66 dias\n",
    "- **Quantidade média de produtos comprados:** 192.98\n",
    "- **Frequência média de compras:** 0.0490\n",
    "- **Quantidade média de devoluções:** 14.45"
   ]
  },
  {
   "cell_type": "markdown",
   "metadata": {},
   "source": [
    "#####  1: Alta Recência\n",
    "#####  2: Baixa Frequência\n",
    "#####  3: Baixa Receita\n",
    "#####  4: Baixa Quantidade de Produtos\n",
    "#####  5: Média Recência e Frequência\n",
    "#####  6: Média Receita e Produtos\n",
    "#####  7: Insiders\n",
    "#####  8: Alta Recência e Frequência"
   ]
  },
  {
   "cell_type": "markdown",
   "metadata": {},
   "source": [
    "# 11.0. Deploy To Production"
   ]
  },
  {
   "cell_type": "code",
   "execution_count": 188,
   "metadata": {},
   "outputs": [
    {
     "data": {
      "text/plain": [
       "customer_id        int64\n",
       "gross_revenue    float64\n",
       "recency_days     float64\n",
       "qtde_products    float64\n",
       "frequency        float64\n",
       "qtde_returns     float64\n",
       "cluster            int32\n",
       "dtype: object"
      ]
     },
     "execution_count": 188,
     "metadata": {},
     "output_type": "execute_result"
    }
   ],
   "source": [
    "df92.dtypes"
   ]
  },
  {
   "cell_type": "markdown",
   "metadata": {},
   "source": [
    "## 11.1. Insert into SQLITE"
   ]
  },
  {
   "cell_type": "code",
   "execution_count": 189,
   "metadata": {},
   "outputs": [],
   "source": [
    "import sqlite3\n",
    "from sqlalchemy import create_engine"
   ]
  },
  {
   "cell_type": "code",
   "execution_count": 190,
   "metadata": {},
   "outputs": [],
   "source": [
    "df92['recency_days'] = df92['recency_days'].astype(int)\n",
    "df92['qtde_products'] = df92['qtde_products'].astype(int)\n",
    "df92['qtde_returns'] = df92['qtde_returns'].astype(int)"
   ]
  },
  {
   "cell_type": "code",
   "execution_count": null,
   "metadata": {},
   "outputs": [],
   "source": [
    "# create table\n",
    "query_create_table_insiders = \"\"\"\n",
    "   CREATE TABLE insiders ( \n",
    "       customer_id     INTEGER,\n",
    "       gross_revenue   REAL,\n",
    "       recency_days    INTEGER,    \n",
    "       qtde_products   INTEGER,\n",
    "       frequency       REAL,\n",
    "       qtde_returns    INTEGER,\n",
    "       cluster         INTEGER\n",
    "   )\n",
    "\"\"\"\n",
    "\n",
    "\n",
    "conn = sqlite3.connect('insiders_db.sqlite')\n",
    "conn.execute(query_create_table_insiders)\n",
    "conn.commit()\n",
    "conn.close()\n",
    "\n",
    "# insert data\n",
    "conn = create_engine('sqlite:///insiders_db.sqlite')\n",
    "df92.to_sql('insiders', con=conn, if_exists='append', index=False)\n",
    "\n",
    "# select data"
   ]
  },
  {
   "cell_type": "code",
   "execution_count": 192,
   "metadata": {},
   "outputs": [
    {
     "name": "stdout",
     "output_type": "stream",
     "text": [
      "total 50080\n",
      "-rw-rw-r--@ 1 raqueloliveira  staff     5276 Oct 16 09:54 0.0.planning.ipynb\n",
      "-rw-rw-r--@ 1 raqueloliveira  staff   420819 Oct 17 11:38 1.0.metrics.ipynb\n",
      "-rw-rw-r--@ 1 raqueloliveira  staff   531718 Nov 27 13:49 10.0.deploy-dataMod.ipynb\n",
      "-rw-rw-r--@ 1 raqueloliveira  staff   105261 Dec  5 13:40 11.0.deployFinal.ipynb\n",
      "-rw-rw-r--@ 1 raqueloliveira  staff   768721 Oct 17 16:54 2.0.metrics.ipynb\n",
      "-rw-rw-r--@ 1 raqueloliveira  staff   710272 Oct 18 14:52 3.0.metrics.ipynb\n",
      "-rw-rw-r--@ 1 raqueloliveira  staff  1903721 Nov  6 11:21 4.0.feature-engineering.ipynb\n",
      "-rw-rw-r--@ 1 raqueloliveira  staff  2773948 Nov  6 13:37 5.0.clustering-modeling.ipynb\n",
      "-rw-rw-r--@ 1 raqueloliveira  staff  2713349 Nov 13 13:31 6.0.model-performance.ipynb\n",
      "-rw-rw-r--@ 1 raqueloliveira  staff  1867818 Nov 14 18:49 7.0.model-result.ipynb\n",
      "-rw-rw-r--@ 1 raqueloliveira  staff  2738347 Nov 16 11:52 8.0.eda.ipynb\n",
      "-rw-rw-r--@ 1 raqueloliveira  staff   401855 Nov 27 14:32 9.0.deploy.ipynb\n",
      "-rw-r--r--  1 raqueloliveira  staff   110592 Nov 27 14:32 insiders_db.sqlite\n",
      "-rw-rw-r--@ 1 raqueloliveira  staff  9154019 Mar 22  2022 output_v2.html\n",
      "-rw-r--r--@ 1 raqueloliveira  staff  1407356 Nov 13 13:43 output_v3.html\n"
     ]
    }
   ],
   "source": [
    "ls -l"
   ]
  },
  {
   "cell_type": "code",
   "execution_count": 193,
   "metadata": {},
   "outputs": [],
   "source": [
    "# consulting database\n",
    "query = \"\"\"\n",
    "    SELECT * FROM insiders \n",
    "\"\"\"\n",
    "\n",
    "df = pd.read_sql_query(query, conn)"
   ]
  },
  {
   "cell_type": "code",
   "execution_count": 194,
   "metadata": {},
   "outputs": [
    {
     "data": {
      "text/html": [
       "<div>\n",
       "<style scoped>\n",
       "    .dataframe tbody tr th:only-of-type {\n",
       "        vertical-align: middle;\n",
       "    }\n",
       "\n",
       "    .dataframe tbody tr th {\n",
       "        vertical-align: top;\n",
       "    }\n",
       "\n",
       "    .dataframe thead th {\n",
       "        text-align: right;\n",
       "    }\n",
       "</style>\n",
       "<table border=\"1\" class=\"dataframe\">\n",
       "  <thead>\n",
       "    <tr style=\"text-align: right;\">\n",
       "      <th></th>\n",
       "      <th>customer_id</th>\n",
       "      <th>gross_revenue</th>\n",
       "      <th>recency_days</th>\n",
       "      <th>qtde_products</th>\n",
       "      <th>frequency</th>\n",
       "      <th>qtde_returns</th>\n",
       "      <th>cluster</th>\n",
       "    </tr>\n",
       "  </thead>\n",
       "  <tbody>\n",
       "    <tr>\n",
       "      <th>0</th>\n",
       "      <td>17850</td>\n",
       "      <td>5391.21</td>\n",
       "      <td>372</td>\n",
       "      <td>297</td>\n",
       "      <td>17.000000</td>\n",
       "      <td>40</td>\n",
       "      <td>7</td>\n",
       "    </tr>\n",
       "    <tr>\n",
       "      <th>1</th>\n",
       "      <td>13047</td>\n",
       "      <td>3232.59</td>\n",
       "      <td>56</td>\n",
       "      <td>171</td>\n",
       "      <td>0.028302</td>\n",
       "      <td>35</td>\n",
       "      <td>8</td>\n",
       "    </tr>\n",
       "    <tr>\n",
       "      <th>2</th>\n",
       "      <td>12583</td>\n",
       "      <td>6705.38</td>\n",
       "      <td>2</td>\n",
       "      <td>232</td>\n",
       "      <td>0.040323</td>\n",
       "      <td>50</td>\n",
       "      <td>7</td>\n",
       "    </tr>\n",
       "    <tr>\n",
       "      <th>3</th>\n",
       "      <td>13748</td>\n",
       "      <td>948.25</td>\n",
       "      <td>95</td>\n",
       "      <td>28</td>\n",
       "      <td>0.017921</td>\n",
       "      <td>0</td>\n",
       "      <td>3</td>\n",
       "    </tr>\n",
       "    <tr>\n",
       "      <th>4</th>\n",
       "      <td>15100</td>\n",
       "      <td>876.00</td>\n",
       "      <td>333</td>\n",
       "      <td>3</td>\n",
       "      <td>0.073171</td>\n",
       "      <td>22</td>\n",
       "      <td>1</td>\n",
       "    </tr>\n",
       "  </tbody>\n",
       "</table>\n",
       "</div>"
      ],
      "text/plain": [
       "   customer_id  gross_revenue  recency_days  qtde_products  frequency  \\\n",
       "0        17850        5391.21           372            297  17.000000   \n",
       "1        13047        3232.59            56            171   0.028302   \n",
       "2        12583        6705.38             2            232   0.040323   \n",
       "3        13748         948.25            95             28   0.017921   \n",
       "4        15100         876.00           333              3   0.073171   \n",
       "\n",
       "   qtde_returns  cluster  \n",
       "0            40        7  \n",
       "1            35        8  \n",
       "2            50        7  \n",
       "3             0        3  \n",
       "4            22        1  "
      ]
     },
     "execution_count": 194,
     "metadata": {},
     "output_type": "execute_result"
    }
   ],
   "source": [
    "df.head()"
   ]
  },
  {
   "cell_type": "code",
   "execution_count": null,
   "metadata": {},
   "outputs": [],
   "source": []
  },
  {
   "cell_type": "code",
   "execution_count": null,
   "metadata": {},
   "outputs": [],
   "source": []
  },
  {
   "cell_type": "code",
   "execution_count": null,
   "metadata": {},
   "outputs": [],
   "source": []
  },
  {
   "cell_type": "code",
   "execution_count": null,
   "metadata": {},
   "outputs": [],
   "source": []
  },
  {
   "cell_type": "code",
   "execution_count": null,
   "metadata": {},
   "outputs": [],
   "source": []
  },
  {
   "cell_type": "code",
   "execution_count": null,
   "metadata": {},
   "outputs": [
    {
     "data": {
      "text/plain": [
       "(2968, 7)"
      ]
     },
     "execution_count": 123,
     "metadata": {},
     "output_type": "execute_result"
    }
   ],
   "source": [
    "df.shape"
   ]
  }
 ],
 "metadata": {
  "kernelspec": {
   "display_name": "Python 3",
   "language": "python",
   "name": "python3"
  },
  "language_info": {
   "codemirror_mode": {
    "name": "ipython",
    "version": 3
   },
   "file_extension": ".py",
   "mimetype": "text/x-python",
   "name": "python",
   "nbconvert_exporter": "python",
   "pygments_lexer": "ipython3",
   "version": "3.10.13"
  }
 },
 "nbformat": 4,
 "nbformat_minor": 4
}
