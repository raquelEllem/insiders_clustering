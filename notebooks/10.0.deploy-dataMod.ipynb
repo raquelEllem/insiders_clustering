{
 "cells": [
  {
   "cell_type": "markdown",
   "metadata": {},
   "source": [
    "# 0.0. Imports"
   ]
  },
  {
   "cell_type": "code",
   "execution_count": 2,
   "metadata": {},
   "outputs": [
    {
     "name": "stderr",
     "output_type": "stream",
     "text": [
      "/Users/raqueloliveira/miniconda3/envs/clustering_env/lib/python3.10/site-packages/umap/distances.py:1063: NumbaDeprecationWarning: The 'nopython' keyword argument was not supplied to the 'numba.jit' decorator. The implicit default value for this argument is currently False, but it will be changed to True in Numba 0.59.0. See https://numba.readthedocs.io/en/stable/reference/deprecation.html#deprecation-of-object-mode-fall-back-behaviour-when-using-jit for details.\n",
      "  @numba.jit()\n",
      "/Users/raqueloliveira/miniconda3/envs/clustering_env/lib/python3.10/site-packages/umap/distances.py:1071: NumbaDeprecationWarning: The 'nopython' keyword argument was not supplied to the 'numba.jit' decorator. The implicit default value for this argument is currently False, but it will be changed to True in Numba 0.59.0. See https://numba.readthedocs.io/en/stable/reference/deprecation.html#deprecation-of-object-mode-fall-back-behaviour-when-using-jit for details.\n",
      "  @numba.jit()\n",
      "/Users/raqueloliveira/miniconda3/envs/clustering_env/lib/python3.10/site-packages/umap/distances.py:1086: NumbaDeprecationWarning: The 'nopython' keyword argument was not supplied to the 'numba.jit' decorator. The implicit default value for this argument is currently False, but it will be changed to True in Numba 0.59.0. See https://numba.readthedocs.io/en/stable/reference/deprecation.html#deprecation-of-object-mode-fall-back-behaviour-when-using-jit for details.\n",
      "  @numba.jit()\n",
      "/Users/raqueloliveira/miniconda3/envs/clustering_env/lib/python3.10/site-packages/tqdm/auto.py:21: TqdmWarning: IProgress not found. Please update jupyter and ipywidgets. See https://ipywidgets.readthedocs.io/en/stable/user_install.html\n",
      "  from .autonotebook import tqdm as notebook_tqdm\n",
      "/Users/raqueloliveira/miniconda3/envs/clustering_env/lib/python3.10/site-packages/umap/umap_.py:660: NumbaDeprecationWarning: The 'nopython' keyword argument was not supplied to the 'numba.jit' decorator. The implicit default value for this argument is currently False, but it will be changed to True in Numba 0.59.0. See https://numba.readthedocs.io/en/stable/reference/deprecation.html#deprecation-of-object-mode-fall-back-behaviour-when-using-jit for details.\n",
      "  @numba.jit()\n"
     ]
    }
   ],
   "source": [
    "import re\n",
    "import numpy      as np\n",
    "import pandas     as pd\n",
    "import seaborn    as sns\n",
    "\n",
    "import umap.umap_ as umap\n",
    "\n",
    "from plotly          import express as px\n",
    "from matplotlib      import pyplot as plt\n",
    "\n",
    "from sklearn import cluster       as c\n",
    "from sklearn import metrics       as m\n",
    "from sklearn import mixture       as mx\n",
    "from sklearn import ensemble      as en\n",
    "from sklearn import manifold      as mn\n",
    "from sklearn import preprocessing as pp\n",
    "from sklearn import decomposition as dd\n",
    "\n",
    "from scipy.cluster import hierarchy as hc\n",
    "\n",
    "from sqlalchemy import create_engine\n",
    "\n",
    "import warnings\n",
    "# Suprimir FutureWarnings do scikit-learn\n",
    "warnings.simplefilter(action='ignore', category=FutureWarning)\n"
   ]
  },
  {
   "cell_type": "markdown",
   "metadata": {},
   "source": [
    "## 0.2. Load dataset"
   ]
  },
  {
   "cell_type": "code",
   "execution_count": 3,
   "metadata": {},
   "outputs": [],
   "source": [
    "# Carregar os dados brutos de um arquivo CSV com a codificação especificada\n",
    "df_raw = pd.read_csv('../data/raw/Ecommerce.csv', encoding='ISO-8859-1')\n",
    "\n",
    "# Remover uma coluna extra 'Unnamed: 8'\n",
    "df_raw = df_raw.drop(columns=['Unnamed: 8'], axis=1)"
   ]
  },
  {
   "cell_type": "markdown",
   "metadata": {},
   "source": [
    "# 1.0. Descrição dos dados"
   ]
  },
  {
   "cell_type": "code",
   "execution_count": 4,
   "metadata": {
    "ExecuteTime": {
     "end_time": "2021-04-21T00:03:45.258253Z",
     "start_time": "2021-04-21T00:03:45.242950Z"
    }
   },
   "outputs": [],
   "source": [
    "df1 = df_raw.copy()"
   ]
  },
  {
   "cell_type": "markdown",
   "metadata": {},
   "source": [
    "## 1.1. Rename columuns"
   ]
  },
  {
   "cell_type": "code",
   "execution_count": 5,
   "metadata": {
    "ExecuteTime": {
     "end_time": "2021-04-21T00:03:47.732867Z",
     "start_time": "2021-04-21T00:03:47.729734Z"
    }
   },
   "outputs": [],
   "source": [
    "cols_new = ['invoice_no', 'stock_code', 'description', 'quantity', 'invoice_date', 'unit_price', 'customer_id', 'country']\n",
    "df1.columns = cols_new"
   ]
  },
  {
   "cell_type": "markdown",
   "metadata": {},
   "source": [
    "## 1.2. Data dimensions"
   ]
  },
  {
   "cell_type": "code",
   "execution_count": 6,
   "metadata": {
    "ExecuteTime": {
     "end_time": "2021-04-21T00:03:49.927754Z",
     "start_time": "2021-04-21T00:03:49.923480Z"
    }
   },
   "outputs": [
    {
     "name": "stdout",
     "output_type": "stream",
     "text": [
      "Number of rows: 541909\n",
      "Number of cols: 8\n"
     ]
    }
   ],
   "source": [
    "print('Number of rows: {}'.format(df1.shape[0]))\n",
    "print('Number of cols: {}'.format(df1.shape[1]))"
   ]
  },
  {
   "cell_type": "markdown",
   "metadata": {},
   "source": [
    "## 1.3. Data types"
   ]
  },
  {
   "cell_type": "code",
   "execution_count": 7,
   "metadata": {
    "ExecuteTime": {
     "end_time": "2021-04-21T00:03:53.339900Z",
     "start_time": "2021-04-21T00:03:53.333180Z"
    }
   },
   "outputs": [
    {
     "data": {
      "text/plain": [
       "invoice_no       object\n",
       "stock_code       object\n",
       "description      object\n",
       "quantity          int64\n",
       "invoice_date     object\n",
       "unit_price      float64\n",
       "customer_id     float64\n",
       "country          object\n",
       "dtype: object"
      ]
     },
     "execution_count": 7,
     "metadata": {},
     "output_type": "execute_result"
    }
   ],
   "source": [
    "df1.dtypes"
   ]
  },
  {
   "cell_type": "markdown",
   "metadata": {},
   "source": [
    "## 1.4. Check NA"
   ]
  },
  {
   "cell_type": "code",
   "execution_count": 8,
   "metadata": {
    "ExecuteTime": {
     "end_time": "2021-04-21T00:03:58.852128Z",
     "start_time": "2021-04-21T00:03:58.732214Z"
    }
   },
   "outputs": [
    {
     "data": {
      "text/plain": [
       "invoice_no           0\n",
       "stock_code           0\n",
       "description       1454\n",
       "quantity             0\n",
       "invoice_date         0\n",
       "unit_price           0\n",
       "customer_id     135080\n",
       "country              0\n",
       "dtype: int64"
      ]
     },
     "execution_count": 8,
     "metadata": {},
     "output_type": "execute_result"
    }
   ],
   "source": [
    "df1.isna().sum()"
   ]
  },
  {
   "cell_type": "markdown",
   "metadata": {},
   "source": [
    "## 1.5. Replace NA"
   ]
  },
  {
   "cell_type": "code",
   "execution_count": 9,
   "metadata": {
    "ExecuteTime": {
     "end_time": "2021-04-21T00:04:06.994964Z",
     "start_time": "2021-04-21T00:04:06.909677Z"
    }
   },
   "outputs": [],
   "source": [
    "# Filtrar as linhas com 'customer_id' ausente (NaN)\n",
    "df_missing = df1.loc[df1['customer_id'].isna(), :]\n",
    "\n",
    "# Filtrar as linhas com 'customer_id' presente\n",
    "df_not_missing = df1.loc[~df1['customer_id'].isna(), :]\n"
   ]
  },
  {
   "cell_type": "code",
   "execution_count": 10,
   "metadata": {},
   "outputs": [],
   "source": [
    "# Criar um DataFrame de referência para 'customer_id'\n",
    "df_backup = pd.DataFrame(df_missing['invoice_no'].drop_duplicates())\n",
    "\n",
    "# Atribuir IDs únicos começando em 19000 para cada fatura ausente\n",
    "df_backup['customer_id'] = np.arange(19000, 19000 + len(df_backup), 1)\n",
    "\n",
    "# Mesclar o DataFrame original com o DataFrame de referência usando 'invoice_no' como chave\n",
    "df1 = pd.merge(df1, df_backup, on='invoice_no', how='left')\n",
    "\n",
    "# Combinar os valores de 'customer_id_x' e 'customer_id_y', mantendo o primeiro valor não nulo encontrado\n",
    "df1['customer_id'] = df1['customer_id_x'].combine_first(df1['customer_id_y'])\n",
    "\n",
    "# Remover as colunas 'customer_id_x' e 'customer_id_y'\n",
    "df1 = df1.drop( columns=['customer_id_x', 'customer_id_y'], axis=1)\n"
   ]
  },
  {
   "cell_type": "code",
   "execution_count": 11,
   "metadata": {
    "ExecuteTime": {
     "end_time": "2021-04-21T00:04:09.336209Z",
     "start_time": "2021-04-21T00:04:09.233166Z"
    }
   },
   "outputs": [
    {
     "data": {
      "text/plain": [
       "invoice_no         0\n",
       "stock_code         0\n",
       "description     1454\n",
       "quantity           0\n",
       "invoice_date       0\n",
       "unit_price         0\n",
       "country            0\n",
       "customer_id        0\n",
       "dtype: int64"
      ]
     },
     "execution_count": 11,
     "metadata": {},
     "output_type": "execute_result"
    }
   ],
   "source": [
    "df1.isna().sum()"
   ]
  },
  {
   "cell_type": "markdown",
   "metadata": {},
   "source": [
    "## 1.6. Change dtypes"
   ]
  },
  {
   "cell_type": "code",
   "execution_count": 12,
   "metadata": {
    "ExecuteTime": {
     "end_time": "2021-04-21T00:04:12.834812Z",
     "start_time": "2021-04-21T00:04:12.749241Z"
    }
   },
   "outputs": [
    {
     "data": {
      "text/html": [
       "<div>\n",
       "<style scoped>\n",
       "    .dataframe tbody tr th:only-of-type {\n",
       "        vertical-align: middle;\n",
       "    }\n",
       "\n",
       "    .dataframe tbody tr th {\n",
       "        vertical-align: top;\n",
       "    }\n",
       "\n",
       "    .dataframe thead th {\n",
       "        text-align: right;\n",
       "    }\n",
       "</style>\n",
       "<table border=\"1\" class=\"dataframe\">\n",
       "  <thead>\n",
       "    <tr style=\"text-align: right;\">\n",
       "      <th></th>\n",
       "      <th>invoice_no</th>\n",
       "      <th>stock_code</th>\n",
       "      <th>description</th>\n",
       "      <th>quantity</th>\n",
       "      <th>invoice_date</th>\n",
       "      <th>unit_price</th>\n",
       "      <th>country</th>\n",
       "      <th>customer_id</th>\n",
       "    </tr>\n",
       "  </thead>\n",
       "  <tbody>\n",
       "    <tr>\n",
       "      <th>0</th>\n",
       "      <td>536365</td>\n",
       "      <td>85123A</td>\n",
       "      <td>WHITE HANGING HEART T-LIGHT HOLDER</td>\n",
       "      <td>6</td>\n",
       "      <td>2016-11-29</td>\n",
       "      <td>2.55</td>\n",
       "      <td>United Kingdom</td>\n",
       "      <td>17850</td>\n",
       "    </tr>\n",
       "    <tr>\n",
       "      <th>1</th>\n",
       "      <td>536365</td>\n",
       "      <td>71053</td>\n",
       "      <td>WHITE METAL LANTERN</td>\n",
       "      <td>6</td>\n",
       "      <td>2016-11-29</td>\n",
       "      <td>3.39</td>\n",
       "      <td>United Kingdom</td>\n",
       "      <td>17850</td>\n",
       "    </tr>\n",
       "    <tr>\n",
       "      <th>2</th>\n",
       "      <td>536365</td>\n",
       "      <td>84406B</td>\n",
       "      <td>CREAM CUPID HEARTS COAT HANGER</td>\n",
       "      <td>8</td>\n",
       "      <td>2016-11-29</td>\n",
       "      <td>2.75</td>\n",
       "      <td>United Kingdom</td>\n",
       "      <td>17850</td>\n",
       "    </tr>\n",
       "    <tr>\n",
       "      <th>3</th>\n",
       "      <td>536365</td>\n",
       "      <td>84029G</td>\n",
       "      <td>KNITTED UNION FLAG HOT WATER BOTTLE</td>\n",
       "      <td>6</td>\n",
       "      <td>2016-11-29</td>\n",
       "      <td>3.39</td>\n",
       "      <td>United Kingdom</td>\n",
       "      <td>17850</td>\n",
       "    </tr>\n",
       "    <tr>\n",
       "      <th>4</th>\n",
       "      <td>536365</td>\n",
       "      <td>84029E</td>\n",
       "      <td>RED WOOLLY HOTTIE WHITE HEART.</td>\n",
       "      <td>6</td>\n",
       "      <td>2016-11-29</td>\n",
       "      <td>3.39</td>\n",
       "      <td>United Kingdom</td>\n",
       "      <td>17850</td>\n",
       "    </tr>\n",
       "  </tbody>\n",
       "</table>\n",
       "</div>"
      ],
      "text/plain": [
       "  invoice_no stock_code                          description  quantity  \\\n",
       "0     536365     85123A   WHITE HANGING HEART T-LIGHT HOLDER         6   \n",
       "1     536365      71053                  WHITE METAL LANTERN         6   \n",
       "2     536365     84406B       CREAM CUPID HEARTS COAT HANGER         8   \n",
       "3     536365     84029G  KNITTED UNION FLAG HOT WATER BOTTLE         6   \n",
       "4     536365     84029E       RED WOOLLY HOTTIE WHITE HEART.         6   \n",
       "\n",
       "  invoice_date  unit_price         country  customer_id  \n",
       "0   2016-11-29        2.55  United Kingdom        17850  \n",
       "1   2016-11-29        3.39  United Kingdom        17850  \n",
       "2   2016-11-29        2.75  United Kingdom        17850  \n",
       "3   2016-11-29        3.39  United Kingdom        17850  \n",
       "4   2016-11-29        3.39  United Kingdom        17850  "
      ]
     },
     "execution_count": 12,
     "metadata": {},
     "output_type": "execute_result"
    }
   ],
   "source": [
    "# Converter a coluna 'invoice_date' para um formato de data com um formato de data específico\n",
    "df1['invoice_date'] = pd.to_datetime(df1['invoice_date'], format='%d-%b-%y')\n",
    "\n",
    "# Converter a coluna 'customer_id' para números inteiros\n",
    "df1['customer_id'] = df1['customer_id'].astype(int)\n",
    "df1.head()\n"
   ]
  },
  {
   "cell_type": "code",
   "execution_count": 13,
   "metadata": {
    "ExecuteTime": {
     "end_time": "2021-04-21T00:04:31.001978Z",
     "start_time": "2021-04-21T00:04:30.997143Z"
    }
   },
   "outputs": [
    {
     "data": {
      "text/plain": [
       "invoice_no              object\n",
       "stock_code              object\n",
       "description             object\n",
       "quantity                 int64\n",
       "invoice_date    datetime64[ns]\n",
       "unit_price             float64\n",
       "country                 object\n",
       "customer_id              int64\n",
       "dtype: object"
      ]
     },
     "execution_count": 13,
     "metadata": {},
     "output_type": "execute_result"
    }
   ],
   "source": [
    "df1.dtypes"
   ]
  },
  {
   "cell_type": "markdown",
   "metadata": {},
   "source": [
    "## 1.7. Descriptive Statistics"
   ]
  },
  {
   "cell_type": "code",
   "execution_count": 14,
   "metadata": {},
   "outputs": [],
   "source": [
    "num_attributes = df1.select_dtypes( include=['int64', 'float64'] )\n",
    "cat_attributes = df1.select_dtypes( exclude=['int64', 'float64', 'datetime64[ns]'] )"
   ]
  },
  {
   "cell_type": "markdown",
   "metadata": {},
   "source": [
    "### 1.7.1. Numerical Attributs\n"
   ]
  },
  {
   "cell_type": "code",
   "execution_count": 15,
   "metadata": {},
   "outputs": [
    {
     "data": {
      "text/html": [
       "<div>\n",
       "<style scoped>\n",
       "    .dataframe tbody tr th:only-of-type {\n",
       "        vertical-align: middle;\n",
       "    }\n",
       "\n",
       "    .dataframe tbody tr th {\n",
       "        vertical-align: top;\n",
       "    }\n",
       "\n",
       "    .dataframe thead th {\n",
       "        text-align: right;\n",
       "    }\n",
       "</style>\n",
       "<table border=\"1\" class=\"dataframe\">\n",
       "  <thead>\n",
       "    <tr style=\"text-align: right;\">\n",
       "      <th></th>\n",
       "      <th>attributes</th>\n",
       "      <th>min</th>\n",
       "      <th>max</th>\n",
       "      <th>range</th>\n",
       "      <th>mean</th>\n",
       "      <th>mediana</th>\n",
       "      <th>std</th>\n",
       "      <th>skew</th>\n",
       "      <th>kurtosis</th>\n",
       "    </tr>\n",
       "  </thead>\n",
       "  <tbody>\n",
       "    <tr>\n",
       "      <th>0</th>\n",
       "      <td>quantity</td>\n",
       "      <td>-80995.00</td>\n",
       "      <td>80995.0</td>\n",
       "      <td>161990.00</td>\n",
       "      <td>9.552250</td>\n",
       "      <td>3.00</td>\n",
       "      <td>218.080957</td>\n",
       "      <td>-0.264076</td>\n",
       "      <td>119769.160031</td>\n",
       "    </tr>\n",
       "    <tr>\n",
       "      <th>1</th>\n",
       "      <td>unit_price</td>\n",
       "      <td>-11062.06</td>\n",
       "      <td>38970.0</td>\n",
       "      <td>50032.06</td>\n",
       "      <td>4.611114</td>\n",
       "      <td>2.08</td>\n",
       "      <td>96.759764</td>\n",
       "      <td>186.506972</td>\n",
       "      <td>59005.719097</td>\n",
       "    </tr>\n",
       "    <tr>\n",
       "      <th>2</th>\n",
       "      <td>customer_id</td>\n",
       "      <td>12346.00</td>\n",
       "      <td>22709.0</td>\n",
       "      <td>10363.00</td>\n",
       "      <td>16688.840453</td>\n",
       "      <td>16249.00</td>\n",
       "      <td>2911.408666</td>\n",
       "      <td>0.487449</td>\n",
       "      <td>-0.804287</td>\n",
       "    </tr>\n",
       "  </tbody>\n",
       "</table>\n",
       "</div>"
      ],
      "text/plain": [
       "    attributes       min      max      range          mean   mediana  \\\n",
       "0     quantity -80995.00  80995.0  161990.00      9.552250      3.00   \n",
       "1   unit_price -11062.06  38970.0   50032.06      4.611114      2.08   \n",
       "2  customer_id  12346.00  22709.0   10363.00  16688.840453  16249.00   \n",
       "\n",
       "           std        skew       kurtosis  \n",
       "0   218.080957   -0.264076  119769.160031  \n",
       "1    96.759764  186.506972   59005.719097  \n",
       "2  2911.408666    0.487449      -0.804287  "
      ]
     },
     "execution_count": 15,
     "metadata": {},
     "output_type": "execute_result"
    }
   ],
   "source": [
    "# Central tendency - mean, median\n",
    "ct1 = pd.DataFrame(num_attributes.apply(np.mean)).T\n",
    "ct2 = pd.DataFrame(num_attributes.apply(np.median)).T\n",
    "\n",
    "# Dispersion - desvio padrão, mínimo, máximo, range, skew, kurtosis\n",
    "d1 = pd.DataFrame(num_attributes.apply(np.std)).T\n",
    "d2 = pd.DataFrame(num_attributes.apply(np.min)).T\n",
    "d3 = pd.DataFrame(num_attributes.apply(np.max)).T\n",
    "d4 = pd.DataFrame(num_attributes.apply(lambda x: x.max() - x.min())).T\n",
    "d5 = pd.DataFrame(num_attributes.apply(lambda x: x.skew())).T\n",
    "d6 = pd.DataFrame(num_attributes.apply(lambda x: x.kurtosis())).T\n",
    "\n",
    "# Concatenate\n",
    "m1 = pd.concat([d2, d3, d4, ct1, ct2, d1, d5, d6]).T.reset_index()\n",
    "m1.columns = ['attributes', 'min', 'max', 'range', 'mean', 'mediana', 'std', 'skew', 'kurtosis']\n",
    "m1"
   ]
  },
  {
   "cell_type": "markdown",
   "metadata": {},
   "source": [
    "### 1.7.2. Categorical Attributs"
   ]
  },
  {
   "cell_type": "markdown",
   "metadata": {},
   "source": [
    "#### Invoice No\n"
   ]
  },
  {
   "cell_type": "code",
   "execution_count": 16,
   "metadata": {},
   "outputs": [
    {
     "name": "stdout",
     "output_type": "stream",
     "text": [
      "Total number of invoices: 9291\n",
      "Total number of negative quantity: 9288\n"
     ]
    }
   ],
   "source": [
    "# Problema: Temos invoice com letras e números\n",
    "# df1['invoice_no'].astype(int)\n",
    "\n",
    "# Identificação:\n",
    "df_letter_invoices = df1.loc[df1['invoice_no'].apply(lambda x: bool(re.search('[^0-9]+', x))), :]\n",
    "df_letter_invoices.head()\n",
    "\n",
    "print('Total number of invoices: {}'.format(len(df_letter_invoices)))\n",
    "print('Total number of negative quantity: {}'.format(len(df_letter_invoices[df_letter_invoices['quantity'] < 0])))\n"
   ]
  },
  {
   "cell_type": "markdown",
   "metadata": {},
   "source": [
    "#### Stock Code"
   ]
  },
  {
   "cell_type": "code",
   "execution_count": 17,
   "metadata": {},
   "outputs": [
    {
     "data": {
      "text/plain": [
       "array(['POST', 'D', 'DOT', 'M', 'S', 'AMAZONFEE', 'm', 'DCGSSBOY',\n",
       "       'DCGSSGIRL', 'PADS', 'B', 'CRUK'], dtype=object)"
      ]
     },
     "execution_count": 17,
     "metadata": {},
     "output_type": "execute_result"
    }
   ],
   "source": [
    "# Verifique apenas os caracteres em stock code\n",
    "df1.loc[df1['stock_code'].apply(lambda x: bool(re.search('^[a-zA-Z]+$', x))), 'stock_code'].unique()\n",
    "\n",
    "# Ação:\n",
    "## 1. Remove stock_code in ['POST', 'D', 'M', 'PADS', 'DOT', 'CRUK']"
   ]
  },
  {
   "cell_type": "markdown",
   "metadata": {},
   "source": [
    "# 2.0. Filtragem de Varivéis "
   ]
  },
  {
   "cell_type": "code",
   "execution_count": 18,
   "metadata": {
    "ExecuteTime": {
     "end_time": "2021-04-21T00:04:36.194344Z",
     "start_time": "2021-04-21T00:04:36.181991Z"
    }
   },
   "outputs": [],
   "source": [
    "df2 = df1.copy()"
   ]
  },
  {
   "cell_type": "code",
   "execution_count": 19,
   "metadata": {},
   "outputs": [
    {
     "data": {
      "text/plain": [
       "invoice_no              object\n",
       "stock_code              object\n",
       "description             object\n",
       "quantity                 int64\n",
       "invoice_date    datetime64[ns]\n",
       "unit_price             float64\n",
       "country                 object\n",
       "customer_id              int64\n",
       "dtype: object"
      ]
     },
     "execution_count": 19,
     "metadata": {},
     "output_type": "execute_result"
    }
   ],
   "source": [
    "df2.dtypes"
   ]
  },
  {
   "cell_type": "code",
   "execution_count": 20,
   "metadata": {},
   "outputs": [],
   "source": [
    "# Filtrando dados numéricos\n",
    "df2 = df2.loc[df2['unit_price'] >= 0.04, :]\n",
    "\n",
    "# Filtrando dados categóricos\n",
    "df2 = df2[~df2['stock_code'].isin(['POST', 'D', 'DOT', 'M', 'S', 'AMAZONFEE', 'm', 'DCGSSBOY', 'DCGSSGIRL', 'PADS', 'B', 'CRUK'])]\n",
    "\n",
    "# Removendo a coluna 'description'\n",
    "df2 = df2.drop(columns='description', axis=1)\n",
    "\n",
    "# Filtrando valores do país \n",
    "df2 = df2[~df2['country'].isin(['European Community', 'Unspecified'])]\n",
    "\n",
    "# bad users\n",
    "df2 = df2[~df2['customer_id'].isin([16446])]\n",
    "\n",
    "# Separando compras e devoluções com base na quantidade ('quantity')\n",
    "df2_returns = df2.loc[df1['quantity'] < 0, :]\n",
    "df2_purchases = df2.loc[df1['quantity'] >= 0, :]"
   ]
  },
  {
   "cell_type": "markdown",
   "metadata": {},
   "source": [
    "# 3.0. Feature Engineering "
   ]
  },
  {
   "cell_type": "code",
   "execution_count": 21,
   "metadata": {
    "ExecuteTime": {
     "end_time": "2021-04-21T00:05:12.849857Z",
     "start_time": "2021-04-21T00:05:12.846519Z"
    }
   },
   "outputs": [],
   "source": [
    "df3 = df2.copy()"
   ]
  },
  {
   "cell_type": "markdown",
   "metadata": {},
   "source": [
    "## 3.1. Feature Creation"
   ]
  },
  {
   "cell_type": "code",
   "execution_count": 22,
   "metadata": {
    "ExecuteTime": {
     "end_time": "2021-04-21T00:05:12.143231Z",
     "start_time": "2021-04-21T00:05:12.003067Z"
    }
   },
   "outputs": [],
   "source": [
    "# Criando um DataFrame de referência ('df_ref') com base em outras colunas\n",
    "df_ref = df3.drop(['invoice_no', 'stock_code', 'quantity', 'invoice_date', 'unit_price', 'country'], axis=1).drop_duplicates(ignore_index=True)\n"
   ]
  },
  {
   "cell_type": "markdown",
   "metadata": {},
   "source": [
    "### 3.1.1. Gross Revenue"
   ]
  },
  {
   "cell_type": "code",
   "execution_count": 23,
   "metadata": {},
   "outputs": [
    {
     "name": "stderr",
     "output_type": "stream",
     "text": [
      "/var/folders/x1/pk89dqcx2jgg4h8p2wtym9780000gn/T/ipykernel_17499/3977924132.py:2: SettingWithCopyWarning: \n",
      "A value is trying to be set on a copy of a slice from a DataFrame.\n",
      "Try using .loc[row_indexer,col_indexer] = value instead\n",
      "\n",
      "See the caveats in the documentation: https://pandas.pydata.org/pandas-docs/stable/user_guide/indexing.html#returning-a-view-versus-a-copy\n",
      "  df2_purchases.loc[:, 'gross_revenue'] = df2_purchases.loc[:, 'quantity'] * df2_purchases.loc[:, 'unit_price']\n"
     ]
    },
    {
     "data": {
      "text/plain": [
       "customer_id       0\n",
       "gross_revenue    91\n",
       "dtype: int64"
      ]
     },
     "execution_count": 23,
     "metadata": {},
     "output_type": "execute_result"
    }
   ],
   "source": [
    "# Calculando a receita bruta ('gross_revenue') multiplicando quantidade ('quantity') pelo preço unitário ('unit_price')\n",
    "df2_purchases.loc[:, 'gross_revenue'] = df2_purchases.loc[:, 'quantity'] * df2_purchases.loc[:, 'unit_price']\n",
    "\n",
    "\n",
    "# Calculando o valor monetário total por cliente ('df_monetary')\n",
    "df_monetary = df2_purchases.loc[:, ['customer_id', 'gross_revenue']].groupby('customer_id').sum().reset_index()\n",
    "df_ref = pd.merge(df_ref, df_monetary, on='customer_id', how='left')\n",
    "df_ref.isna().sum()"
   ]
  },
  {
   "cell_type": "markdown",
   "metadata": {},
   "source": [
    "### 3.1.2. Recency - Day from last purchase\n"
   ]
  },
  {
   "cell_type": "code",
   "execution_count": 24,
   "metadata": {},
   "outputs": [
    {
     "data": {
      "text/plain": [
       "customer_id       0\n",
       "gross_revenue    91\n",
       "recency_days     91\n",
       "dtype: int64"
      ]
     },
     "execution_count": 24,
     "metadata": {},
     "output_type": "execute_result"
    }
   ],
   "source": [
    "# Calculando a recência ('recency') com base na última data de compra\n",
    "df_recency = df2_purchases.loc[:, ['customer_id', 'invoice_date']].groupby('customer_id').max().reset_index()\n",
    "df_recency['recency_days'] = (df2['invoice_date'].max() - df_recency['invoice_date']).dt.days\n",
    "df_recency = df_recency[['customer_id', 'recency_days']].copy()\n",
    "df_ref = pd.merge(df_ref, df_recency, on='customer_id', how='left')\n",
    "df_ref.isna().sum()"
   ]
  },
  {
   "cell_type": "markdown",
   "metadata": {},
   "source": [
    "### 3.1.5. Quantity of products purchased"
   ]
  },
  {
   "cell_type": "code",
   "execution_count": 25,
   "metadata": {},
   "outputs": [
    {
     "data": {
      "text/plain": [
       "customer_id       0\n",
       "gross_revenue    91\n",
       "recency_days     91\n",
       "qtde_products    91\n",
       "dtype: int64"
      ]
     },
     "execution_count": 25,
     "metadata": {},
     "output_type": "execute_result"
    }
   ],
   "source": [
    "# Numero de produtos\n",
    "df_freq = (df2_purchases.loc[:, ['customer_id', 'stock_code']].groupby('customer_id').count()\n",
    "                                                           .reset_index()\n",
    "                                                           .rename(columns={'stock_code': 'qtde_products'}))\n",
    "df_ref = pd.merge(df_ref, df_freq, on='customer_id', how='left')\n",
    "df_ref.isna().sum()"
   ]
  },
  {
   "cell_type": "markdown",
   "metadata": {},
   "source": [
    "### 3.1.8. Frequency Purchase \n"
   ]
  },
  {
   "cell_type": "code",
   "execution_count": 26,
   "metadata": {},
   "outputs": [
    {
     "data": {
      "text/plain": [
       "customer_id       0\n",
       "gross_revenue    91\n",
       "recency_days     91\n",
       "qtde_products    91\n",
       "frequency        91\n",
       "dtype: int64"
      ]
     },
     "execution_count": 26,
     "metadata": {},
     "output_type": "execute_result"
    }
   ],
   "source": [
    "# Frequência\n",
    "df_aux = ( df2_purchases[['customer_id', 'invoice_no', 'invoice_date']].drop_duplicates()\n",
    "                                                             .groupby( 'customer_id')\n",
    "                                                             .agg( max_ = ( 'invoice_date', 'max' ), \n",
    "                                                                   min_ = ( 'invoice_date', 'min' ),\n",
    "                                                                   days_= ( 'invoice_date', lambda x: ( ( x.max() - x.min() ).days ) + 1 ),\n",
    "                                                                   buy_ = ( 'invoice_no', 'count' ) ) ).reset_index()\n",
    "# Frequency\n",
    "df_aux['frequency'] = df_aux[['buy_', 'days_']].apply( lambda x: x['buy_'] / x['days_'] if  x['days_'] != 0 else 0, axis=1 )\n",
    "\n",
    "# Merge\n",
    "df_ref = pd.merge( df_ref, df_aux[['customer_id', 'frequency']], on='customer_id', how='left' )\n",
    "\n",
    "df_ref.isna().sum()"
   ]
  },
  {
   "cell_type": "markdown",
   "metadata": {},
   "source": [
    "### 3.1.9. Number of Returns \n"
   ]
  },
  {
   "cell_type": "code",
   "execution_count": 27,
   "metadata": {},
   "outputs": [
    {
     "data": {
      "text/plain": [
       "customer_id       0\n",
       "gross_revenue    91\n",
       "recency_days     91\n",
       "qtde_products    91\n",
       "frequency        91\n",
       "qtde_returns      0\n",
       "dtype: int64"
      ]
     },
     "execution_count": 27,
     "metadata": {},
     "output_type": "execute_result"
    }
   ],
   "source": [
    "# Número de Devoluções\n",
    "df_returns = df2_returns[['customer_id', 'quantity']].groupby( 'customer_id' ).sum().reset_index().rename( columns={'quantity':'qtde_returns'} )\n",
    "df_returns['qtde_returns'] = df_returns['qtde_returns'] * -1\n",
    "\n",
    "df_ref = pd.merge( df_ref, df_returns, how='left', on='customer_id' )\n",
    "df_ref.loc[df_ref['qtde_returns'].isna(), 'qtde_returns'] = 0\n",
    "\n",
    "df_ref.isna().sum()"
   ]
  },
  {
   "cell_type": "markdown",
   "metadata": {},
   "source": [
    "# 4.0. EDA (Exploratory Data Analysis)"
   ]
  },
  {
   "cell_type": "code",
   "execution_count": 28,
   "metadata": {
    "ExecuteTime": {
     "end_time": "2021-04-21T00:05:14.595846Z",
     "start_time": "2021-04-21T00:05:14.591851Z"
    }
   },
   "outputs": [
    {
     "data": {
      "text/plain": [
       "customer_id      0\n",
       "gross_revenue    0\n",
       "recency_days     0\n",
       "qtde_products    0\n",
       "frequency        0\n",
       "qtde_returns     0\n",
       "dtype: int64"
      ]
     },
     "execution_count": 28,
     "metadata": {},
     "output_type": "execute_result"
    }
   ],
   "source": [
    "df4 = df_ref.dropna()\n",
    "df4.isna().sum()"
   ]
  },
  {
   "cell_type": "markdown",
   "metadata": {},
   "source": [
    "## 4.3. Estudo do Espaço\n"
   ]
  },
  {
   "cell_type": "code",
   "execution_count": 29,
   "metadata": {},
   "outputs": [],
   "source": [
    "# selected dataset\n",
    "cols_selected = ['customer_id', 'gross_revenue', 'recency_days', 'qtde_products', 'frequency', 'qtde_returns']\n",
    "df43 = df4[cols_selected].drop(columns='customer_id', axis=1)"
   ]
  },
  {
   "cell_type": "code",
   "execution_count": 30,
   "metadata": {},
   "outputs": [],
   "source": [
    "mm = pp.MinMaxScaler()\n",
    "\n",
    "# Aplicando a escala Min-Max a colunas específicas do DataFrame df43\n",
    "# Isso irá dimensionar os valores de cada coluna para o intervalo entre 0 e 1\n",
    "\n",
    "df43['gross_revenue'] = mm.fit_transform(df43[['gross_revenue']])\n",
    "df43['recency_days']  = mm.fit_transform(df43[['recency_days']])\n",
    "df43['qtde_products'] = mm.fit_transform(df43[['qtde_products']])\n",
    "df43['frequency']     = mm.fit_transform(df43[['frequency']])\n",
    "df43['qtde_returns']  = mm.fit_transform(df43[['qtde_returns']])\n",
    "\n",
    "X = df43.copy()"
   ]
  },
  {
   "cell_type": "code",
   "execution_count": 31,
   "metadata": {},
   "outputs": [
    {
     "data": {
      "text/plain": [
       "(5695, 5)"
      ]
     },
     "execution_count": 31,
     "metadata": {},
     "output_type": "execute_result"
    }
   ],
   "source": [
    "# Obtendo o número de colunas (features) do DataFrame X\n",
    "X.shape"
   ]
  },
  {
   "cell_type": "markdown",
   "metadata": {},
   "source": [
    "### 4.3.1. PCA\n"
   ]
  },
  {
   "cell_type": "code",
   "execution_count": 32,
   "metadata": {},
   "outputs": [
    {
     "data": {
      "image/png": "[encoded data removed]",
      "text/plain": [
       "<Figure size 640x480 with 1 Axes>"
      ]
     },
     "metadata": {},
     "output_type": "display_data"
    }
   ],
   "source": [
    "# Criando uma instância do PCA com o número de componentes igual ao número de colunas\n",
    "pca = dd.PCA(n_components=X.shape[1])\n",
    "\n",
    "# Aplicando a análise de componentes principais ao DataFrame X\n",
    "principal_components = pca.fit_transform(X)\n",
    "\n",
    "# Preparando um gráfico de barras para mostrar a variância explicada por cada componente principal\n",
    "features = range(pca.n_components_)\n",
    "\n",
    "# Criando um gráfico de barras das variâncias explicadas por cada componente\n",
    "plt.bar(features, pca.explained_variance_ratio_)\n",
    "\n",
    "# Criando um DataFrame df_pca para armazenar os resultados da análise de componentes principais\n",
    "df_pca = pd.DataFrame(principal_components)"
   ]
  },
  {
   "cell_type": "code",
   "execution_count": 33,
   "metadata": {},
   "outputs": [
    {
     "data": {
      "text/plain": [
       "<Axes: xlabel='0', ylabel='1'>"
      ]
     },
     "execution_count": 33,
     "metadata": {},
     "output_type": "execute_result"
    },
    {
     "data": {
      "image/png": "[encoded data removed]",
      "text/plain": [
       "<Figure size 640x480 with 1 Axes>"
      ]
     },
     "metadata": {},
     "output_type": "display_data"
    }
   ],
   "source": [
    "sns.scatterplot(x=0, y=1, data=df_pca)"
   ]
  },
  {
   "cell_type": "markdown",
   "metadata": {},
   "source": [
    "### 4.3.2. UMAP\n"
   ]
  },
  {
   "cell_type": "code",
   "execution_count": 34,
   "metadata": {},
   "outputs": [
    {
     "data": {
      "text/plain": [
       "<Axes: xlabel='embedding_x', ylabel='embedding_y'>"
      ]
     },
     "execution_count": 34,
     "metadata": {},
     "output_type": "execute_result"
    },
    {
     "data": {
      "image/png": "[encoded data removed]",
      "text/plain": [
       "<Figure size 640x480 with 1 Axes>"
      ]
     },
     "metadata": {},
     "output_type": "display_data"
    }
   ],
   "source": [
    "# Cria uma instância do reduzidor UMAP (Uniform Manifold Approximation and Projection)\n",
    "reducer = umap.UMAP(random_state=42)\n",
    "\n",
    "# Realiza a redução de dimensionalidade UMAP nos dados em X\n",
    "embedding = reducer.fit_transform(X)\n",
    "\n",
    "# Adiciona as coordenadas de embedding aos dados do DataFrame df_pca\n",
    "df_umap = pd.DataFrame()\n",
    "df_umap['embedding_x'] = embedding[:, 0]\n",
    "df_umap['embedding_y'] = embedding[:, 1]\n",
    "\n",
    "# Plota os dados no espaço UMAP usando seaborn\n",
    "sns.scatterplot(x='embedding_x', y='embedding_y', data=df_umap)\n"
   ]
  },
  {
   "cell_type": "markdown",
   "metadata": {},
   "source": [
    "### 4.3.2. t-SNE\n"
   ]
  },
  {
   "cell_type": "code",
   "execution_count": 35,
   "metadata": {},
   "outputs": [
    {
     "data": {
      "text/plain": [
       "<Axes: xlabel='embedding_x', ylabel='embedding_y'>"
      ]
     },
     "execution_count": 35,
     "metadata": {},
     "output_type": "execute_result"
    },
    {
     "data": {
      "image/png": "[encoded data removed]",
      "text/plain": [
       "<Figure size 640x480 with 1 Axes>"
      ]
     },
     "metadata": {},
     "output_type": "display_data"
    }
   ],
   "source": [
    "# Cria uma instância do reduzidor t-SNE (t-Distributed Stochastic Neighbor Embedding)\n",
    "reducer = mn.TSNE(n_components=2, n_jobs=-1, random_state=42)\n",
    "\n",
    "# Realiza a redução de dimensionalidade t-SNE nos dados em X\n",
    "embedding = reducer.fit_transform(X)\n",
    "\n",
    "# Adiciona as coordenadas de embedding aos dados do DataFrame df_pca\n",
    "df_tsne = pd.DataFrame()\n",
    "df_tsne['embedding_x'] = embedding[:, 0]\n",
    "df_tsne['embedding_y'] = embedding[:, 1]\n",
    "\n",
    "# Plota os dados no espaço t-SNE usando seaborn\n",
    "sns.scatterplot(x='embedding_x', y='embedding_y', data=df_tsne)\n"
   ]
  },
  {
   "cell_type": "markdown",
   "metadata": {},
   "source": [
    "### 4.3.3. Tree-Based Embedding"
   ]
  },
  {
   "cell_type": "code",
   "execution_count": 36,
   "metadata": {},
   "outputs": [],
   "source": [
    "# Define o conjunto de treinamento, onde X é o conjunto de recursos e y é a variável de destino\n",
    "X = df43.drop(columns=['gross_revenue'], axis=1)\n",
    "y = df43['gross_revenue']\n",
    "\n",
    "# Define o modelo de regressão de floresta aleatória com 100 estimadores e uma semente aleatória de 42\n",
    "rf_model = en.RandomForestRegressor(n_estimators=100, random_state=42)\n",
    "\n",
    "# Treina o modelo de regressão de floresta aleatória com os dados de treinamento\n",
    "rf_model.fit(X, y)\n",
    "\n",
    "# Leaf \n",
    "# Cria um DataFrame chamado \"df_leaf\" que contém as previsões de folhas do modelo de regressão de floresta aleatória para os dados de treinamento\n",
    "# O método \"apply\" retorna o índice de folha de cada amostra no modelo\n",
    "df_leaf = pd.DataFrame(rf_model.apply(X))\n",
    "\n",
    "# dataframe Leaf"
   ]
  },
  {
   "cell_type": "code",
   "execution_count": 37,
   "metadata": {},
   "outputs": [
    {
     "name": "stderr",
     "output_type": "stream",
     "text": [
      "/Users/raqueloliveira/miniconda3/envs/clustering_env/lib/python3.10/site-packages/sklearn/manifold/_spectral_embedding.py:273: UserWarning: Graph is not fully connected, spectral embedding may not work as expected.\n",
      "  warnings.warn(\n"
     ]
    }
   ],
   "source": [
    "# Reduz a dimensionalidade usando UMAP\n",
    "reducer = umap.UMAP(random_state=42)\n",
    "embedding = reducer.fit_transform(df_leaf)\n",
    "\n",
    "# Cria as colunas 'embedding_x' e 'embedding_y' no DataFrame df_tree para representar a redução de dimensionalidade UMAP\n",
    "df_tree = pd.DataFrame()\n",
    "df_tree['embedding_x'] = embedding[:, 0]\n",
    "df_tree['embedding_y'] = embedding[:, 1]\n",
    "\n",
    "# Plota um gráfico UMAP com as coordenadas 'embedding_x' e 'embedding_y' usando seaborn\n",
    "#sns.scatterplot(x='embedding_x', y='embedding_y', data=df_tree)\n",
    "\n",
    "# 5.0. Data Preparation \n",
    "# Tree-Based Embedding\n",
    "df5 = df_tree.copy()\n",
    "\n",
    "# UMAP Embedding\n",
    "#df5 = df_umap.copy()\n",
    "\n",
    "# TSNE Embedding\n",
    "#df5 = df_tsne.copy()"
   ]
  },
  {
   "cell_type": "markdown",
   "metadata": {},
   "source": [
    "# 5.0. Data Preparation "
   ]
  },
  {
   "cell_type": "code",
   "execution_count": 38,
   "metadata": {
    "ExecuteTime": {
     "end_time": "2021-04-21T00:05:15.035834Z",
     "start_time": "2021-04-21T00:05:15.031822Z"
    }
   },
   "outputs": [],
   "source": [
    "# Tree-Based Embedding\n",
    "df5 = df_tree.copy()\n",
    "\n",
    "# UMAP Embedding\n",
    "#df5 = df_umap.copy()\n",
    "\n",
    "# TSNE Embedding\n",
    "#df5 = df_tsne.copy()"
   ]
  },
  {
   "cell_type": "markdown",
   "metadata": {},
   "source": [
    "# 7.0. Hyperparameter Fine-Tunning"
   ]
  },
  {
   "cell_type": "code",
   "execution_count": 39,
   "metadata": {
    "ExecuteTime": {
     "end_time": "2021-04-21T00:05:17.619962Z",
     "start_time": "2021-04-21T00:05:17.616146Z"
    }
   },
   "outputs": [],
   "source": [
    "X = df5.copy()\n"
   ]
  },
  {
   "cell_type": "code",
   "execution_count": 40,
   "metadata": {
    "ExecuteTime": {
     "end_time": "2021-04-21T00:08:38.801378Z",
     "start_time": "2021-04-21T00:08:38.789791Z"
    }
   },
   "outputs": [
    {
     "data": {
      "text/html": [
       "<div>\n",
       "<style scoped>\n",
       "    .dataframe tbody tr th:only-of-type {\n",
       "        vertical-align: middle;\n",
       "    }\n",
       "\n",
       "    .dataframe tbody tr th {\n",
       "        vertical-align: top;\n",
       "    }\n",
       "\n",
       "    .dataframe thead th {\n",
       "        text-align: right;\n",
       "    }\n",
       "</style>\n",
       "<table border=\"1\" class=\"dataframe\">\n",
       "  <thead>\n",
       "    <tr style=\"text-align: right;\">\n",
       "      <th></th>\n",
       "      <th>embedding_x</th>\n",
       "      <th>embedding_y</th>\n",
       "    </tr>\n",
       "  </thead>\n",
       "  <tbody>\n",
       "    <tr>\n",
       "      <th>0</th>\n",
       "      <td>6.034726</td>\n",
       "      <td>6.817610</td>\n",
       "    </tr>\n",
       "    <tr>\n",
       "      <th>1</th>\n",
       "      <td>14.373528</td>\n",
       "      <td>9.427246</td>\n",
       "    </tr>\n",
       "    <tr>\n",
       "      <th>2</th>\n",
       "      <td>6.119833</td>\n",
       "      <td>7.506101</td>\n",
       "    </tr>\n",
       "    <tr>\n",
       "      <th>3</th>\n",
       "      <td>-6.299803</td>\n",
       "      <td>10.380743</td>\n",
       "    </tr>\n",
       "    <tr>\n",
       "      <th>4</th>\n",
       "      <td>18.655737</td>\n",
       "      <td>-4.875667</td>\n",
       "    </tr>\n",
       "  </tbody>\n",
       "</table>\n",
       "</div>"
      ],
      "text/plain": [
       "   embedding_x  embedding_y\n",
       "0     6.034726     6.817610\n",
       "1    14.373528     9.427246\n",
       "2     6.119833     7.506101\n",
       "3    -6.299803    10.380743\n",
       "4    18.655737    -4.875667"
      ]
     },
     "execution_count": 40,
     "metadata": {},
     "output_type": "execute_result"
    }
   ],
   "source": [
    "X.head()"
   ]
  },
  {
   "cell_type": "code",
   "execution_count": 41,
   "metadata": {
    "ExecuteTime": {
     "end_time": "2021-04-21T00:05:23.040813Z",
     "start_time": "2021-04-21T00:05:23.038357Z"
    }
   },
   "outputs": [],
   "source": [
    "#clusters = [2, 3, 4, 5, 6, 7]\n",
    "\n",
    "clusters = np.arange(2, 25, 1)"
   ]
  },
  {
   "cell_type": "markdown",
   "metadata": {},
   "source": [
    "## 7.1. K-Means"
   ]
  },
  {
   "cell_type": "code",
   "execution_count": 42,
   "metadata": {},
   "outputs": [],
   "source": [
    "kmeans_list = []\n",
    "for k in clusters:\n",
    "    # model definition\n",
    "    kmeans_model = c.KMeans(n_clusters=k, n_init=300, random_state=42)\n",
    "\n",
    "    # model training\n",
    "    kmeans_model.fit(X)\n",
    "\n",
    "    # model predict\n",
    "    labels = kmeans_model.predict(X)\n",
    "\n",
    "    # model performance\n",
    "    # Calcula o coeficiente de silhueta para a atual clusterização\n",
    "    sil = m.silhouette_score(X, labels, metric='euclidean')\n",
    "    kmeans_list.append(sil)"
   ]
  },
  {
   "cell_type": "code",
   "execution_count": 43,
   "metadata": {},
   "outputs": [
    {
     "data": {
      "text/plain": [
       "Text(0.5, 1.0, 'Coeficiente de Silhueta x K')"
      ]
     },
     "execution_count": 43,
     "metadata": {},
     "output_type": "execute_result"
    },
    {
     "data": {
      "image/png": "[encoded data removed]",
      "text/plain": [
       "<Figure size 640x480 with 1 Axes>"
      ]
     },
     "metadata": {},
     "output_type": "display_data"
    }
   ],
   "source": [
    "# Plota o coeficiente de silhueta em função do número de clusters\n",
    "plt.plot(clusters, kmeans_list, linestyle='--', marker='o', color='b')\n",
    "plt.xlabel('K')\n",
    "plt.ylabel('Coeficiente de Silhueta - KMeans')\n",
    "plt.title('Coeficiente de Silhueta x K')\n"
   ]
  },
  {
   "cell_type": "markdown",
   "metadata": {},
   "source": [
    "## 7.2. GMM"
   ]
  },
  {
   "cell_type": "code",
   "execution_count": 44,
   "metadata": {},
   "outputs": [],
   "source": [
    "gmm_list = []\n",
    "for k in clusters:\n",
    "    # model definition\n",
    "    gmm_model = mx.GaussianMixture(n_components=k, n_init=10, random_state=42)\n",
    "    \n",
    "    # model training\n",
    "    gmm_model.fit(X)\n",
    "\n",
    "    # model predict\n",
    "    labels = gmm_model.predict(X)\n",
    "\n",
    "    # model performance\n",
    "    sil = m.silhouette_score(X, labels, metric='euclidean')\n",
    "    gmm_list.append(sil)"
   ]
  },
  {
   "cell_type": "code",
   "execution_count": 45,
   "metadata": {},
   "outputs": [
    {
     "data": {
      "text/plain": [
       "Text(0.5, 1.0, 'Coeficiente de Silhueta x K')"
      ]
     },
     "execution_count": 45,
     "metadata": {},
     "output_type": "execute_result"
    },
    {
     "data": {
      "image/png": "[encoded data removed]",
      "text/plain": [
       "<Figure size 640x480 with 1 Axes>"
      ]
     },
     "metadata": {},
     "output_type": "display_data"
    }
   ],
   "source": [
    "# Plota o coeficiente de silhueta em função do número de clusters\n",
    "plt.plot(clusters, gmm_list, linestyle='--', marker='o', color='b')\n",
    "plt.xlabel('K')\n",
    "plt.ylabel('Coeficiente de Silhueta - GMM')\n",
    "plt.title('Coeficiente de Silhueta x K')\n"
   ]
  },
  {
   "cell_type": "markdown",
   "metadata": {},
   "source": [
    "## 7.3. Hierarchical Clustering"
   ]
  },
  {
   "cell_type": "markdown",
   "metadata": {},
   "source": [
    "### 7.3.1. HClustering Silhouette Score"
   ]
  },
  {
   "cell_type": "code",
   "execution_count": 46,
   "metadata": {},
   "outputs": [],
   "source": [
    "hc_list = []\n",
    "for k in clusters:\n",
    "    # model definition & training\n",
    "    hc_model = hc.linkage(X, 'average')\n",
    "\n",
    "    # model predict\n",
    "    labels = hc.fcluster(hc_model, k, criterion='maxclust')\n",
    "\n",
    "    # metrics\n",
    "    sil = m.silhouette_score(X, labels, metric='euclidean')\n",
    "    hc_list.append(sil)"
   ]
  },
  {
   "cell_type": "code",
   "execution_count": 47,
   "metadata": {},
   "outputs": [
    {
     "data": {
      "image/png": "[encoded data removed]",
      "text/plain": [
       "<Figure size 640x480 with 1 Axes>"
      ]
     },
     "metadata": {},
     "output_type": "display_data"
    }
   ],
   "source": [
    "# Plot Silhouette Score em relação ao número de clusters\n",
    "plt.plot(clusters, hc_list, linestyle='--', marker='o', color='b')\n",
    "plt.xlabel('Número de Clusters')\n",
    "plt.ylabel('Silhouette Score')\n",
    "plt.title('Silhouette Score em relação ao número de clusters')\n",
    "plt.show()\n"
   ]
  },
  {
   "cell_type": "markdown",
   "metadata": {},
   "source": [
    "## 7.5. Results"
   ]
  },
  {
   "cell_type": "markdown",
   "metadata": {},
   "source": [
    "### 7.5.1. Tree Based Embedding\n"
   ]
  },
  {
   "cell_type": "code",
   "execution_count": 48,
   "metadata": {},
   "outputs": [
    {
     "data": {
      "text/html": [
       "<style type=\"text/css\">\n",
       "#T_73562_row0_col21, #T_73562_row1_col19, #T_73562_row2_col20 {\n",
       "  background-color: lightblue;\n",
       "}\n",
       "</style>\n",
       "<table id=\"T_73562\">\n",
       "  <thead>\n",
       "    <tr>\n",
       "      <th class=\"blank level0\" >&nbsp;</th>\n",
       "      <th id=\"T_73562_level0_col0\" class=\"col_heading level0 col0\" >2</th>\n",
       "      <th id=\"T_73562_level0_col1\" class=\"col_heading level0 col1\" >3</th>\n",
       "      <th id=\"T_73562_level0_col2\" class=\"col_heading level0 col2\" >4</th>\n",
       "      <th id=\"T_73562_level0_col3\" class=\"col_heading level0 col3\" >5</th>\n",
       "      <th id=\"T_73562_level0_col4\" class=\"col_heading level0 col4\" >6</th>\n",
       "      <th id=\"T_73562_level0_col5\" class=\"col_heading level0 col5\" >7</th>\n",
       "      <th id=\"T_73562_level0_col6\" class=\"col_heading level0 col6\" >8</th>\n",
       "      <th id=\"T_73562_level0_col7\" class=\"col_heading level0 col7\" >9</th>\n",
       "      <th id=\"T_73562_level0_col8\" class=\"col_heading level0 col8\" >10</th>\n",
       "      <th id=\"T_73562_level0_col9\" class=\"col_heading level0 col9\" >11</th>\n",
       "      <th id=\"T_73562_level0_col10\" class=\"col_heading level0 col10\" >12</th>\n",
       "      <th id=\"T_73562_level0_col11\" class=\"col_heading level0 col11\" >13</th>\n",
       "      <th id=\"T_73562_level0_col12\" class=\"col_heading level0 col12\" >14</th>\n",
       "      <th id=\"T_73562_level0_col13\" class=\"col_heading level0 col13\" >15</th>\n",
       "      <th id=\"T_73562_level0_col14\" class=\"col_heading level0 col14\" >16</th>\n",
       "      <th id=\"T_73562_level0_col15\" class=\"col_heading level0 col15\" >17</th>\n",
       "      <th id=\"T_73562_level0_col16\" class=\"col_heading level0 col16\" >18</th>\n",
       "      <th id=\"T_73562_level0_col17\" class=\"col_heading level0 col17\" >19</th>\n",
       "      <th id=\"T_73562_level0_col18\" class=\"col_heading level0 col18\" >20</th>\n",
       "      <th id=\"T_73562_level0_col19\" class=\"col_heading level0 col19\" >21</th>\n",
       "      <th id=\"T_73562_level0_col20\" class=\"col_heading level0 col20\" >22</th>\n",
       "      <th id=\"T_73562_level0_col21\" class=\"col_heading level0 col21\" >23</th>\n",
       "      <th id=\"T_73562_level0_col22\" class=\"col_heading level0 col22\" >24</th>\n",
       "    </tr>\n",
       "  </thead>\n",
       "  <tbody>\n",
       "    <tr>\n",
       "      <th id=\"T_73562_level0_row0\" class=\"row_heading level0 row0\" >KMeans</th>\n",
       "      <td id=\"T_73562_row0_col0\" class=\"data row0 col0\" >0.405467</td>\n",
       "      <td id=\"T_73562_row0_col1\" class=\"data row0 col1\" >0.393412</td>\n",
       "      <td id=\"T_73562_row0_col2\" class=\"data row0 col2\" >0.399161</td>\n",
       "      <td id=\"T_73562_row0_col3\" class=\"data row0 col3\" >0.407443</td>\n",
       "      <td id=\"T_73562_row0_col4\" class=\"data row0 col4\" >0.410589</td>\n",
       "      <td id=\"T_73562_row0_col5\" class=\"data row0 col5\" >0.439588</td>\n",
       "      <td id=\"T_73562_row0_col6\" class=\"data row0 col6\" >0.468828</td>\n",
       "      <td id=\"T_73562_row0_col7\" class=\"data row0 col7\" >0.474514</td>\n",
       "      <td id=\"T_73562_row0_col8\" class=\"data row0 col8\" >0.495459</td>\n",
       "      <td id=\"T_73562_row0_col9\" class=\"data row0 col9\" >0.482508</td>\n",
       "      <td id=\"T_73562_row0_col10\" class=\"data row0 col10\" >0.502142</td>\n",
       "      <td id=\"T_73562_row0_col11\" class=\"data row0 col11\" >0.517679</td>\n",
       "      <td id=\"T_73562_row0_col12\" class=\"data row0 col12\" >0.527507</td>\n",
       "      <td id=\"T_73562_row0_col13\" class=\"data row0 col13\" >0.531337</td>\n",
       "      <td id=\"T_73562_row0_col14\" class=\"data row0 col14\" >0.532304</td>\n",
       "      <td id=\"T_73562_row0_col15\" class=\"data row0 col15\" >0.533150</td>\n",
       "      <td id=\"T_73562_row0_col16\" class=\"data row0 col16\" >0.541880</td>\n",
       "      <td id=\"T_73562_row0_col17\" class=\"data row0 col17\" >0.544100</td>\n",
       "      <td id=\"T_73562_row0_col18\" class=\"data row0 col18\" >0.546579</td>\n",
       "      <td id=\"T_73562_row0_col19\" class=\"data row0 col19\" >0.548239</td>\n",
       "      <td id=\"T_73562_row0_col20\" class=\"data row0 col20\" >0.551689</td>\n",
       "      <td id=\"T_73562_row0_col21\" class=\"data row0 col21\" >0.562075</td>\n",
       "      <td id=\"T_73562_row0_col22\" class=\"data row0 col22\" >0.553674</td>\n",
       "    </tr>\n",
       "    <tr>\n",
       "      <th id=\"T_73562_level0_row1\" class=\"row_heading level0 row1\" >GMM</th>\n",
       "      <td id=\"T_73562_row1_col0\" class=\"data row1 col0\" >0.372071</td>\n",
       "      <td id=\"T_73562_row1_col1\" class=\"data row1 col1\" >0.385411</td>\n",
       "      <td id=\"T_73562_row1_col2\" class=\"data row1 col2\" >0.312943</td>\n",
       "      <td id=\"T_73562_row1_col3\" class=\"data row1 col3\" >0.326212</td>\n",
       "      <td id=\"T_73562_row1_col4\" class=\"data row1 col4\" >0.387652</td>\n",
       "      <td id=\"T_73562_row1_col5\" class=\"data row1 col5\" >0.436296</td>\n",
       "      <td id=\"T_73562_row1_col6\" class=\"data row1 col6\" >0.391332</td>\n",
       "      <td id=\"T_73562_row1_col7\" class=\"data row1 col7\" >0.374939</td>\n",
       "      <td id=\"T_73562_row1_col8\" class=\"data row1 col8\" >0.452643</td>\n",
       "      <td id=\"T_73562_row1_col9\" class=\"data row1 col9\" >0.356651</td>\n",
       "      <td id=\"T_73562_row1_col10\" class=\"data row1 col10\" >0.411516</td>\n",
       "      <td id=\"T_73562_row1_col11\" class=\"data row1 col11\" >0.458849</td>\n",
       "      <td id=\"T_73562_row1_col12\" class=\"data row1 col12\" >0.479997</td>\n",
       "      <td id=\"T_73562_row1_col13\" class=\"data row1 col13\" >0.498047</td>\n",
       "      <td id=\"T_73562_row1_col14\" class=\"data row1 col14\" >0.465481</td>\n",
       "      <td id=\"T_73562_row1_col15\" class=\"data row1 col15\" >0.482938</td>\n",
       "      <td id=\"T_73562_row1_col16\" class=\"data row1 col16\" >0.455437</td>\n",
       "      <td id=\"T_73562_row1_col17\" class=\"data row1 col17\" >0.494224</td>\n",
       "      <td id=\"T_73562_row1_col18\" class=\"data row1 col18\" >0.461750</td>\n",
       "      <td id=\"T_73562_row1_col19\" class=\"data row1 col19\" >0.518294</td>\n",
       "      <td id=\"T_73562_row1_col20\" class=\"data row1 col20\" >0.516707</td>\n",
       "      <td id=\"T_73562_row1_col21\" class=\"data row1 col21\" >0.500403</td>\n",
       "      <td id=\"T_73562_row1_col22\" class=\"data row1 col22\" >0.494158</td>\n",
       "    </tr>\n",
       "    <tr>\n",
       "      <th id=\"T_73562_level0_row2\" class=\"row_heading level0 row2\" >HC</th>\n",
       "      <td id=\"T_73562_row2_col0\" class=\"data row2 col0\" >0.380615</td>\n",
       "      <td id=\"T_73562_row2_col1\" class=\"data row2 col1\" >0.356178</td>\n",
       "      <td id=\"T_73562_row2_col2\" class=\"data row2 col2\" >0.341651</td>\n",
       "      <td id=\"T_73562_row2_col3\" class=\"data row2 col3\" >0.342488</td>\n",
       "      <td id=\"T_73562_row2_col4\" class=\"data row2 col4\" >0.326944</td>\n",
       "      <td id=\"T_73562_row2_col5\" class=\"data row2 col5\" >0.349903</td>\n",
       "      <td id=\"T_73562_row2_col6\" class=\"data row2 col6\" >0.415493</td>\n",
       "      <td id=\"T_73562_row2_col7\" class=\"data row2 col7\" >0.410175</td>\n",
       "      <td id=\"T_73562_row2_col8\" class=\"data row2 col8\" >0.444911</td>\n",
       "      <td id=\"T_73562_row2_col9\" class=\"data row2 col9\" >0.446333</td>\n",
       "      <td id=\"T_73562_row2_col10\" class=\"data row2 col10\" >0.454428</td>\n",
       "      <td id=\"T_73562_row2_col11\" class=\"data row2 col11\" >0.490144</td>\n",
       "      <td id=\"T_73562_row2_col12\" class=\"data row2 col12\" >0.501742</td>\n",
       "      <td id=\"T_73562_row2_col13\" class=\"data row2 col13\" >0.499191</td>\n",
       "      <td id=\"T_73562_row2_col14\" class=\"data row2 col14\" >0.491762</td>\n",
       "      <td id=\"T_73562_row2_col15\" class=\"data row2 col15\" >0.498846</td>\n",
       "      <td id=\"T_73562_row2_col16\" class=\"data row2 col16\" >0.498046</td>\n",
       "      <td id=\"T_73562_row2_col17\" class=\"data row2 col17\" >0.522444</td>\n",
       "      <td id=\"T_73562_row2_col18\" class=\"data row2 col18\" >0.527175</td>\n",
       "      <td id=\"T_73562_row2_col19\" class=\"data row2 col19\" >0.528978</td>\n",
       "      <td id=\"T_73562_row2_col20\" class=\"data row2 col20\" >0.535856</td>\n",
       "      <td id=\"T_73562_row2_col21\" class=\"data row2 col21\" >0.528086</td>\n",
       "      <td id=\"T_73562_row2_col22\" class=\"data row2 col22\" >0.532300</td>\n",
       "    </tr>\n",
       "  </tbody>\n",
       "</table>\n"
      ],
      "text/plain": [
       "<pandas.io.formats.style.Styler at 0x7f9a1f04aa40>"
      ]
     },
     "execution_count": 48,
     "metadata": {},
     "output_type": "execute_result"
    }
   ],
   "source": [
    "# Cria um DataFrame de resultados para comparar os coeficientes de silhueta\n",
    "# entre diferentes algoritmos de clustering e números de clusters.\n",
    "\n",
    "df_results = pd.DataFrame(\n",
    "    {'KMeans': kmeans_list,\n",
    "     'GMM': gmm_list,\n",
    "     'HC': hc_list,\n",
    "     }\n",
    ").T\n",
    "\n",
    "# Define os nomes das colunas como os números de clusters\n",
    "df_results.columns = clusters\n",
    "\n",
    "# Realça o valor máximo em cada linha\n",
    "df_results.style.highlight_max(color='lightblue', axis=1)"
   ]
  },
  {
   "cell_type": "markdown",
   "metadata": {},
   "source": [
    "### 7.5.2. UMAP Embedding"
   ]
  },
  {
   "cell_type": "code",
   "execution_count": 49,
   "metadata": {},
   "outputs": [],
   "source": [
    "# df_results = pd.DataFrame( \n",
    "#     {'KMeans': kmeans_list, \n",
    "#      'GMM': gmm_list, \n",
    "#      'HC': hc_list}\n",
    "# ).T\n",
    "\n",
    "# df_results.columns = clusters\n",
    "# df_results.style.highlight_max( color='lightgreen', axis=1 )"
   ]
  },
  {
   "cell_type": "markdown",
   "metadata": {},
   "source": [
    "### 7.5.3. TSNE Embedding\n"
   ]
  },
  {
   "cell_type": "code",
   "execution_count": 50,
   "metadata": {},
   "outputs": [],
   "source": [
    "# df_results = pd.DataFrame( \n",
    "#     {'KMeans': kmeans_list, \n",
    "#      'GMM': gmm_list, \n",
    "#      'HC': hc_list}\n",
    "# ).T\n",
    "\n",
    "# df_results.columns = clusters\n",
    "# df_results.style.highlight_max( color='lightgreen', axis=1 )"
   ]
  },
  {
   "cell_type": "markdown",
   "metadata": {},
   "source": [
    "# 8.0. Model Training"
   ]
  },
  {
   "cell_type": "markdown",
   "metadata": {},
   "source": [
    "## 8.1. Final Model"
   ]
  },
  {
   "cell_type": "code",
   "execution_count": 51,
   "metadata": {
    "ExecuteTime": {
     "end_time": "2021-04-21T00:35:30.228105Z",
     "start_time": "2021-04-21T00:35:29.993913Z"
    }
   },
   "outputs": [],
   "source": [
    "# Definição do modelo\n",
    "k = 9 # número de clusters\n",
    "kmeans = c.KMeans(init='random', n_clusters=k, n_init=100, max_iter=300)\n",
    "\n",
    "# Treinamento do modelo\n",
    "kmeans.fit(X)  # X são os dados a serem clusterizados\n",
    "\n",
    "# Clusterização\n",
    "labels = kmeans.labels_  # labels é o array de atribuições de cluster"
   ]
  },
  {
   "cell_type": "markdown",
   "metadata": {},
   "source": [
    "### 8.1.1. Cluster Validation"
   ]
  },
  {
   "cell_type": "code",
   "execution_count": 52,
   "metadata": {
    "ExecuteTime": {
     "end_time": "2021-04-21T00:35:32.433278Z",
     "start_time": "2021-04-21T00:35:32.047846Z"
    }
   },
   "outputs": [
    {
     "name": "stdout",
     "output_type": "stream",
     "text": [
      "SS value: 0.4745136797428131\n"
     ]
    }
   ],
   "source": [
    "\n",
    "# Cálculo do SS (Silhouette Score)\n",
    "print('SS value: {}'.format(m.silhouette_score(X, labels, metric='euclidean')))"
   ]
  },
  {
   "cell_type": "markdown",
   "metadata": {},
   "source": [
    "# 9.0. Cluster Analysis "
   ]
  },
  {
   "cell_type": "code",
   "execution_count": 53,
   "metadata": {},
   "outputs": [],
   "source": [
    "df9 = X.copy()\n",
    "df9['cluster'] = labels"
   ]
  },
  {
   "cell_type": "markdown",
   "metadata": {},
   "source": [
    "## 9.1. Visualization Inspection"
   ]
  },
  {
   "cell_type": "code",
   "execution_count": 54,
   "metadata": {},
   "outputs": [
    {
     "data": {
      "text/plain": [
       "<Axes: xlabel='embedding_x', ylabel='embedding_y'>"
      ]
     },
     "execution_count": 54,
     "metadata": {},
     "output_type": "execute_result"
    },
    {
     "data": {
      "image/png": "[encoded data removed]",
      "text/plain": [
       "<Figure size 640x480 with 1 Axes>"
      ]
     },
     "metadata": {},
     "output_type": "display_data"
    }
   ],
   "source": [
    "sns.scatterplot( x='embedding_x', y='embedding_y', hue='cluster', data=df9, palette='deep')"
   ]
  },
  {
   "cell_type": "markdown",
   "metadata": {},
   "source": [
    "## 9.4. Cluster Profile"
   ]
  },
  {
   "cell_type": "code",
   "execution_count": 55,
   "metadata": {},
   "outputs": [
    {
     "data": {
      "text/html": [
       "<div>\n",
       "<style scoped>\n",
       "    .dataframe tbody tr th:only-of-type {\n",
       "        vertical-align: middle;\n",
       "    }\n",
       "\n",
       "    .dataframe tbody tr th {\n",
       "        vertical-align: top;\n",
       "    }\n",
       "\n",
       "    .dataframe thead th {\n",
       "        text-align: right;\n",
       "    }\n",
       "</style>\n",
       "<table border=\"1\" class=\"dataframe\">\n",
       "  <thead>\n",
       "    <tr style=\"text-align: right;\">\n",
       "      <th></th>\n",
       "      <th>customer_id</th>\n",
       "      <th>gross_revenue</th>\n",
       "      <th>recency_days</th>\n",
       "      <th>qtde_products</th>\n",
       "      <th>frequency</th>\n",
       "      <th>qtde_returns</th>\n",
       "      <th>cluster</th>\n",
       "    </tr>\n",
       "  </thead>\n",
       "  <tbody>\n",
       "    <tr>\n",
       "      <th>0</th>\n",
       "      <td>17850</td>\n",
       "      <td>5391.21</td>\n",
       "      <td>372.0</td>\n",
       "      <td>297.0</td>\n",
       "      <td>17.000000</td>\n",
       "      <td>40.0</td>\n",
       "      <td>4</td>\n",
       "    </tr>\n",
       "    <tr>\n",
       "      <th>1</th>\n",
       "      <td>13047</td>\n",
       "      <td>3232.59</td>\n",
       "      <td>56.0</td>\n",
       "      <td>171.0</td>\n",
       "      <td>0.028302</td>\n",
       "      <td>35.0</td>\n",
       "      <td>7</td>\n",
       "    </tr>\n",
       "    <tr>\n",
       "      <th>2</th>\n",
       "      <td>12583</td>\n",
       "      <td>6705.38</td>\n",
       "      <td>2.0</td>\n",
       "      <td>232.0</td>\n",
       "      <td>0.040323</td>\n",
       "      <td>50.0</td>\n",
       "      <td>4</td>\n",
       "    </tr>\n",
       "    <tr>\n",
       "      <th>3</th>\n",
       "      <td>13748</td>\n",
       "      <td>948.25</td>\n",
       "      <td>95.0</td>\n",
       "      <td>28.0</td>\n",
       "      <td>0.017921</td>\n",
       "      <td>0.0</td>\n",
       "      <td>2</td>\n",
       "    </tr>\n",
       "    <tr>\n",
       "      <th>4</th>\n",
       "      <td>15100</td>\n",
       "      <td>876.00</td>\n",
       "      <td>333.0</td>\n",
       "      <td>3.0</td>\n",
       "      <td>0.073171</td>\n",
       "      <td>22.0</td>\n",
       "      <td>8</td>\n",
       "    </tr>\n",
       "  </tbody>\n",
       "</table>\n",
       "</div>"
      ],
      "text/plain": [
       "   customer_id  gross_revenue  recency_days  qtde_products  frequency  \\\n",
       "0        17850        5391.21         372.0          297.0  17.000000   \n",
       "1        13047        3232.59          56.0          171.0   0.028302   \n",
       "2        12583        6705.38           2.0          232.0   0.040323   \n",
       "3        13748         948.25          95.0           28.0   0.017921   \n",
       "4        15100         876.00         333.0            3.0   0.073171   \n",
       "\n",
       "   qtde_returns  cluster  \n",
       "0          40.0        4  \n",
       "1          35.0        7  \n",
       "2          50.0        4  \n",
       "3           0.0        2  \n",
       "4          22.0        8  "
      ]
     },
     "execution_count": 55,
     "metadata": {},
     "output_type": "execute_result"
    }
   ],
   "source": [
    "df92 = df4[cols_selected].copy()\n",
    "df92['cluster'] = labels\n",
    "df92.head()"
   ]
  },
  {
   "cell_type": "code",
   "execution_count": 56,
   "metadata": {
    "ExecuteTime": {
     "end_time": "2021-04-21T00:36:34.486621Z",
     "start_time": "2021-04-21T00:36:34.442762Z"
    }
   },
   "outputs": [
    {
     "data": {
      "text/html": [
       "<div>\n",
       "<style scoped>\n",
       "    .dataframe tbody tr th:only-of-type {\n",
       "        vertical-align: middle;\n",
       "    }\n",
       "\n",
       "    .dataframe tbody tr th {\n",
       "        vertical-align: top;\n",
       "    }\n",
       "\n",
       "    .dataframe thead th {\n",
       "        text-align: right;\n",
       "    }\n",
       "</style>\n",
       "<table border=\"1\" class=\"dataframe\">\n",
       "  <thead>\n",
       "    <tr style=\"text-align: right;\">\n",
       "      <th></th>\n",
       "      <th>cluster</th>\n",
       "      <th>customer_id</th>\n",
       "      <th>perc_customer</th>\n",
       "      <th>gross_revenue</th>\n",
       "      <th>recency_days</th>\n",
       "      <th>qtde_products</th>\n",
       "      <th>frequency</th>\n",
       "      <th>qtde_returns</th>\n",
       "    </tr>\n",
       "  </thead>\n",
       "  <tbody>\n",
       "    <tr>\n",
       "      <th>0</th>\n",
       "      <td>0</td>\n",
       "      <td>675</td>\n",
       "      <td>11.852502</td>\n",
       "      <td>1804.971022</td>\n",
       "      <td>96.847407</td>\n",
       "      <td>115.125926</td>\n",
       "      <td>0.450362</td>\n",
       "      <td>3.041481</td>\n",
       "    </tr>\n",
       "    <tr>\n",
       "      <th>1</th>\n",
       "      <td>1</td>\n",
       "      <td>609</td>\n",
       "      <td>10.693591</td>\n",
       "      <td>1290.975304</td>\n",
       "      <td>71.144499</td>\n",
       "      <td>84.809524</td>\n",
       "      <td>0.232815</td>\n",
       "      <td>6.229885</td>\n",
       "    </tr>\n",
       "    <tr>\n",
       "      <th>2</th>\n",
       "      <td>2</td>\n",
       "      <td>366</td>\n",
       "      <td>6.426690</td>\n",
       "      <td>1008.644071</td>\n",
       "      <td>91.144809</td>\n",
       "      <td>47.980874</td>\n",
       "      <td>0.242675</td>\n",
       "      <td>8.489071</td>\n",
       "    </tr>\n",
       "    <tr>\n",
       "      <th>3</th>\n",
       "      <td>3</td>\n",
       "      <td>708</td>\n",
       "      <td>12.431958</td>\n",
       "      <td>365.041102</td>\n",
       "      <td>122.864407</td>\n",
       "      <td>9.888418</td>\n",
       "      <td>0.600114</td>\n",
       "      <td>1.026836</td>\n",
       "    </tr>\n",
       "    <tr>\n",
       "      <th>4</th>\n",
       "      <td>4</td>\n",
       "      <td>1071</td>\n",
       "      <td>18.805970</td>\n",
       "      <td>5171.493436</td>\n",
       "      <td>79.667600</td>\n",
       "      <td>269.523810</td>\n",
       "      <td>0.375076</td>\n",
       "      <td>138.333333</td>\n",
       "    </tr>\n",
       "    <tr>\n",
       "      <th>5</th>\n",
       "      <td>5</td>\n",
       "      <td>961</td>\n",
       "      <td>16.874451</td>\n",
       "      <td>300.169979</td>\n",
       "      <td>152.266389</td>\n",
       "      <td>16.071800</td>\n",
       "      <td>0.970403</td>\n",
       "      <td>5.463059</td>\n",
       "    </tr>\n",
       "    <tr>\n",
       "      <th>6</th>\n",
       "      <td>6</td>\n",
       "      <td>504</td>\n",
       "      <td>8.849868</td>\n",
       "      <td>1618.370813</td>\n",
       "      <td>126.125000</td>\n",
       "      <td>44.968254</td>\n",
       "      <td>0.345458</td>\n",
       "      <td>8.545635</td>\n",
       "    </tr>\n",
       "    <tr>\n",
       "      <th>7</th>\n",
       "      <td>7</td>\n",
       "      <td>436</td>\n",
       "      <td>7.655838</td>\n",
       "      <td>1676.459977</td>\n",
       "      <td>131.972477</td>\n",
       "      <td>98.366972</td>\n",
       "      <td>0.740281</td>\n",
       "      <td>20.098624</td>\n",
       "    </tr>\n",
       "    <tr>\n",
       "      <th>8</th>\n",
       "      <td>8</td>\n",
       "      <td>365</td>\n",
       "      <td>6.409131</td>\n",
       "      <td>270.569479</td>\n",
       "      <td>230.405479</td>\n",
       "      <td>10.501370</td>\n",
       "      <td>0.893806</td>\n",
       "      <td>5.252055</td>\n",
       "    </tr>\n",
       "  </tbody>\n",
       "</table>\n",
       "</div>"
      ],
      "text/plain": [
       "   cluster  customer_id  perc_customer  gross_revenue  recency_days  \\\n",
       "0        0          675      11.852502    1804.971022     96.847407   \n",
       "1        1          609      10.693591    1290.975304     71.144499   \n",
       "2        2          366       6.426690    1008.644071     91.144809   \n",
       "3        3          708      12.431958     365.041102    122.864407   \n",
       "4        4         1071      18.805970    5171.493436     79.667600   \n",
       "5        5          961      16.874451     300.169979    152.266389   \n",
       "6        6          504       8.849868    1618.370813    126.125000   \n",
       "7        7          436       7.655838    1676.459977    131.972477   \n",
       "8        8          365       6.409131     270.569479    230.405479   \n",
       "\n",
       "   qtde_products  frequency  qtde_returns  \n",
       "0     115.125926   0.450362      3.041481  \n",
       "1      84.809524   0.232815      6.229885  \n",
       "2      47.980874   0.242675      8.489071  \n",
       "3       9.888418   0.600114      1.026836  \n",
       "4     269.523810   0.375076    138.333333  \n",
       "5      16.071800   0.970403      5.463059  \n",
       "6      44.968254   0.345458      8.545635  \n",
       "7      98.366972   0.740281     20.098624  \n",
       "8      10.501370   0.893806      5.252055  "
      ]
     },
     "execution_count": 56,
     "metadata": {},
     "output_type": "execute_result"
    }
   ],
   "source": [
    "# Número de clientes em cada cluster\n",
    "df_cluster = df92[['customer_id', 'cluster']].groupby('cluster').count().reset_index()\n",
    "df_cluster['perc_customer'] = 100 * (df_cluster['customer_id'] / df_cluster['customer_id'].sum())\n",
    "\n",
    "# Média da receita bruta em cada cluster\n",
    "df_avg_gross_revenue = df92[['gross_revenue', 'cluster']].groupby('cluster').mean().reset_index()\n",
    "df_cluster = pd.merge(df_cluster, df_avg_gross_revenue, how='inner', on='cluster')\n",
    "\n",
    "# Média dos dias de recência em cada cluster\n",
    "df_avg_recency_days = df92[['recency_days', 'cluster']].groupby('cluster').mean().reset_index()\n",
    "df_cluster = pd.merge(df_cluster, df_avg_recency_days, how='inner', on='cluster')\n",
    "\n",
    "# Média de quantidade de produtos\n",
    "df_qtde_products = df92[['qtde_products', 'cluster']].groupby('cluster').mean().reset_index()\n",
    "df_cluster = pd.merge(df_cluster, df_qtde_products, how='inner', on='cluster')\n",
    "\n",
    "# Frequencia media em cada cluster\n",
    "df_frequency = df92[['frequency', 'cluster']].groupby('cluster').mean().reset_index()\n",
    "df_cluster = pd.merge(df_cluster, df_frequency, how='inner', on='cluster')\n",
    "\n",
    "# Media de Retornos em cada cluster\n",
    "df_qtde_returns = df92[['qtde_returns', 'cluster']].groupby('cluster').mean().reset_index()\n",
    "df_cluster = pd.merge(df_cluster, df_qtde_returns, how='inner', on='cluster')\n",
    "\n",
    "# Exibindo o DataFrame resultante\n",
    "#df_cluster.sort_values(by='gross_revenue', ascending=False)\n",
    "df_cluster\n"
   ]
  },
  {
   "cell_type": "markdown",
   "metadata": {},
   "source": [
    "\n",
    "\n",
    "\n",
    "\n",
    "User\n",
    "### Cluster 0\n",
    "- **Número de clientes:** 483 (8.48%)\n",
    "- **Receita bruta média:** $439.12\n",
    "- **Recência média:** 128.39 dias\n",
    "- **Quantidade média de produtos comprados:** 10.77\n",
    "- **Frequência média de compras:** 0.41\n",
    "- **Quantidade média de devoluções:** 0.79\n",
    "\n",
    "### Cluster 1\n",
    "- **Número de clientes:** 931 (16.34%)\n",
    "- **Receita bruta média:** $5975.88\n",
    "- **Recência média:** 62.1 dias\n",
    "- **Quantidade média de produtos comprados:** 317.96\n",
    "- **Frequência média de compras:** 0.29\n",
    "- **Quantidade média de devoluções:** 166.13\n",
    "\n",
    "### Cluster 2\n",
    "- **Número de clientes:** 1125 (19.75%)\n",
    "- **Receita bruta média:** $254.04\n",
    "- **Recência média:** 173.35 dias\n",
    "- **Quantidade média de produtos comprados:** 13.10\n",
    "- **Frequência média de compras:** 1.00\n",
    "- **Quantidade média de devoluções:** 4.92\n",
    "\n",
    "### Cluster 3\n",
    "- **Número de clientes:** 514 (9.02%)\n",
    "- **Receita bruta média:** $459.55\n",
    "- **Recência média:** 160.75 dias\n",
    "- **Quantidade média de produtos comprados:** 27.71\n",
    "- **Frequência média de compras:**  0.87\n",
    "- **Quantidade média de devoluções:** 1.81\n",
    "\n",
    "### Cluster 4\n",
    "- **Número de clientes:** 314 (5.51%)\n",
    "- **Receita bruta média:** $573.06\n",
    "- **Recência média:** 106.29 dias\n",
    "- **Quantidade média de produtos comprados:** 21.84\n",
    "- **Frequência média de compras:** 0.50\n",
    "- **Quantidade média de devoluções:** 2.57\n",
    "\n",
    "### Cluster 5\n",
    "- **Número de clientes:** 543 (9.53%)\n",
    "- **Receita bruta média:** $1318.26\n",
    "- **Recência média:** 141.24 dias\n",
    "- **Quantidade média de produtos comprados:**  78.19\n",
    "- **Frequência média de compras:** 0.73\n",
    "- **Quantidade média de devoluções:** 5.76\n",
    "\n",
    "### Cluster 6\n",
    "- **Número de clientes:** 496 (8.71%)\n",
    "- **Receita bruta média:** $1757.72\n",
    "- **Recência média:** 118.37 dias\n",
    "- **Quantidade média de produtos comprados:** 47.40\n",
    "- **Frequência média de compras:** 0.28\n",
    "- **Quantidade média de devoluções:** 9.15\n",
    "\n",
    "### Cluster 7\n",
    "- **Número de clientes:** 753 (13.22%)\n",
    "- **Receita bruta média:** $1992.30\n",
    "- **Recência média:** 72.13 dias\n",
    "- **Quantidade média de produtos comprados:** 132.82\n",
    "- **Frequência média de compras:** 0.31\n",
    "- **Quantidade média de devoluções:** 4.48\n",
    "\n",
    "### Cluster 8\n",
    "- **Número de clientes:** 536 (9.41%)\n",
    "- **Receita bruta média:** $1006.01\n",
    "- **Recência média:** 84.58 dias\n",
    "- **Quantidade média de produtos comprados:** 45.46\n",
    "- **Frequência média de compras:** 0.27\n",
    "- **Quantidade média de devoluções:** 8.75"
   ]
  },
  {
   "cell_type": "markdown",
   "metadata": {},
   "source": [
    "1. **Cluster 0:** Clientes de \"Compra Moderada\"\n",
    "2. **Cluster 1:** Clientes \"Insiders\"\n",
    "3. **Cluster 2:** Clientes \"Baixa Receita, Muitos Produtos e Baixa Frequência\"\n",
    "4. **Cluster 3:** Clientes de \"Boa Receita, Frequência e Baixa Recência\"\n",
    "5. **Cluster 4:** Clientes de \"Receita Moderada e Frequência Moderada\"\n",
    "6. **Cluster 5:** Clientes \"Moderadamente Lucrativos\"\n",
    "7. **Cluster 6:** Clientes de \"Alta Receita e Baixa Frequência\"\n",
    "8. **Cluster 7:** Clientes \"Baixa Receita\"\n",
    "9. **Cluster 8:** Clientes de \"Receita Moderada e Baixa Frequência\"\n"
   ]
  },
  {
   "cell_type": "markdown",
   "metadata": {},
   "source": [
    "# 10.0. Análise Exploratória de Dados "
   ]
  },
  {
   "cell_type": "code",
   "execution_count": 57,
   "metadata": {},
   "outputs": [],
   "source": [
    "df10 = df92.copy()"
   ]
  },
  {
   "cell_type": "code",
   "execution_count": 58,
   "metadata": {},
   "outputs": [
    {
     "data": {
      "text/html": [
       "<div>\n",
       "<style scoped>\n",
       "    .dataframe tbody tr th:only-of-type {\n",
       "        vertical-align: middle;\n",
       "    }\n",
       "\n",
       "    .dataframe tbody tr th {\n",
       "        vertical-align: top;\n",
       "    }\n",
       "\n",
       "    .dataframe thead th {\n",
       "        text-align: right;\n",
       "    }\n",
       "</style>\n",
       "<table border=\"1\" class=\"dataframe\">\n",
       "  <thead>\n",
       "    <tr style=\"text-align: right;\">\n",
       "      <th></th>\n",
       "      <th>customer_id</th>\n",
       "      <th>gross_revenue</th>\n",
       "      <th>recency_days</th>\n",
       "      <th>qtde_products</th>\n",
       "      <th>frequency</th>\n",
       "      <th>qtde_returns</th>\n",
       "      <th>cluster</th>\n",
       "    </tr>\n",
       "  </thead>\n",
       "  <tbody>\n",
       "    <tr>\n",
       "      <th>0</th>\n",
       "      <td>17850</td>\n",
       "      <td>5391.21</td>\n",
       "      <td>372.0</td>\n",
       "      <td>297.0</td>\n",
       "      <td>17.000000</td>\n",
       "      <td>40.0</td>\n",
       "      <td>4</td>\n",
       "    </tr>\n",
       "    <tr>\n",
       "      <th>1</th>\n",
       "      <td>13047</td>\n",
       "      <td>3232.59</td>\n",
       "      <td>56.0</td>\n",
       "      <td>171.0</td>\n",
       "      <td>0.028302</td>\n",
       "      <td>35.0</td>\n",
       "      <td>7</td>\n",
       "    </tr>\n",
       "    <tr>\n",
       "      <th>2</th>\n",
       "      <td>12583</td>\n",
       "      <td>6705.38</td>\n",
       "      <td>2.0</td>\n",
       "      <td>232.0</td>\n",
       "      <td>0.040323</td>\n",
       "      <td>50.0</td>\n",
       "      <td>4</td>\n",
       "    </tr>\n",
       "    <tr>\n",
       "      <th>3</th>\n",
       "      <td>13748</td>\n",
       "      <td>948.25</td>\n",
       "      <td>95.0</td>\n",
       "      <td>28.0</td>\n",
       "      <td>0.017921</td>\n",
       "      <td>0.0</td>\n",
       "      <td>2</td>\n",
       "    </tr>\n",
       "    <tr>\n",
       "      <th>4</th>\n",
       "      <td>15100</td>\n",
       "      <td>876.00</td>\n",
       "      <td>333.0</td>\n",
       "      <td>3.0</td>\n",
       "      <td>0.073171</td>\n",
       "      <td>22.0</td>\n",
       "      <td>8</td>\n",
       "    </tr>\n",
       "  </tbody>\n",
       "</table>\n",
       "</div>"
      ],
      "text/plain": [
       "   customer_id  gross_revenue  recency_days  qtde_products  frequency  \\\n",
       "0        17850        5391.21         372.0          297.0  17.000000   \n",
       "1        13047        3232.59          56.0          171.0   0.028302   \n",
       "2        12583        6705.38           2.0          232.0   0.040323   \n",
       "3        13748         948.25          95.0           28.0   0.017921   \n",
       "4        15100         876.00         333.0            3.0   0.073171   \n",
       "\n",
       "   qtde_returns  cluster  \n",
       "0          40.0        4  \n",
       "1          35.0        7  \n",
       "2          50.0        4  \n",
       "3           0.0        2  \n",
       "4          22.0        8  "
      ]
     },
     "execution_count": 58,
     "metadata": {},
     "output_type": "execute_result"
    }
   ],
   "source": [
    "df10.head()"
   ]
  },
  {
   "cell_type": "markdown",
   "metadata": {},
   "source": [
    "# 11.0. Deploy To Production"
   ]
  },
  {
   "cell_type": "code",
   "execution_count": 59,
   "metadata": {},
   "outputs": [
    {
     "data": {
      "text/plain": [
       "customer_id        int64\n",
       "gross_revenue    float64\n",
       "recency_days     float64\n",
       "qtde_products    float64\n",
       "frequency        float64\n",
       "qtde_returns     float64\n",
       "cluster            int32\n",
       "dtype: object"
      ]
     },
     "execution_count": 59,
     "metadata": {},
     "output_type": "execute_result"
    }
   ],
   "source": [
    "df92.dtypes"
   ]
  },
  {
   "cell_type": "code",
   "execution_count": 60,
   "metadata": {},
   "outputs": [],
   "source": [
    "df92['recency_days'] = df92['recency_days'].astype(int)\n",
    "df92['qtde_products'] = df92['qtde_products'].astype(int)\n",
    "df92['qtde_returns'] = df92['qtde_returns'].astype(int)"
   ]
  },
  {
   "cell_type": "code",
   "execution_count": 61,
   "metadata": {},
   "outputs": [],
   "source": [
    "from sqlalchemy import create_engine"
   ]
  },
  {
   "cell_type": "code",
   "execution_count": 62,
   "metadata": {},
   "outputs": [],
   "source": [
    "# database conection\n",
    "conn = create_engine('sqlite:///insiders_db.sqlite')\n",
    "\n",
    "# drop table\n",
    "query_drop_insiders = \"\"\"\n",
    "   DROP TABLE insiders\n",
    "\"\"\"\n",
    "\n",
    "# create table\n",
    "# query_create_insiders = \"\"\"\n",
    "#     CREATE TABLE insiders ( \n",
    "#         customer_id   INTEGER,\n",
    "#         gross_revenue REAL,\n",
    "#         recency_days  INTEGER,\n",
    "#         qtde_products INTEGER,\n",
    "#         frequency     REAL,\n",
    "#         qtde_returns  INTEGER,\n",
    "#         cluster       INTEGER\n",
    "#     )\n",
    "# \"\"\"\n",
    "\n",
    "#conn.execute(query_drop_insiders)"
   ]
  },
  {
   "cell_type": "code",
   "execution_count": 63,
   "metadata": {},
   "outputs": [
    {
     "data": {
      "text/plain": [
       "5695"
      ]
     },
     "execution_count": 63,
     "metadata": {},
     "output_type": "execute_result"
    }
   ],
   "source": [
    "# insert data into\n",
    "df92.to_sql('insiders', con=conn, if_exists='append', index=False)"
   ]
  },
  {
   "cell_type": "code",
   "execution_count": 64,
   "metadata": {},
   "outputs": [
    {
     "data": {
      "text/html": [
       "<div>\n",
       "<style scoped>\n",
       "    .dataframe tbody tr th:only-of-type {\n",
       "        vertical-align: middle;\n",
       "    }\n",
       "\n",
       "    .dataframe tbody tr th {\n",
       "        vertical-align: top;\n",
       "    }\n",
       "\n",
       "    .dataframe thead th {\n",
       "        text-align: right;\n",
       "    }\n",
       "</style>\n",
       "<table border=\"1\" class=\"dataframe\">\n",
       "  <thead>\n",
       "    <tr style=\"text-align: right;\">\n",
       "      <th></th>\n",
       "      <th>customer_id</th>\n",
       "      <th>gross_revenue</th>\n",
       "      <th>recency_days</th>\n",
       "      <th>qtde_products</th>\n",
       "      <th>frequency</th>\n",
       "      <th>qtde_returns</th>\n",
       "      <th>cluster</th>\n",
       "    </tr>\n",
       "  </thead>\n",
       "  <tbody>\n",
       "    <tr>\n",
       "      <th>0</th>\n",
       "      <td>17850</td>\n",
       "      <td>5391.21</td>\n",
       "      <td>372</td>\n",
       "      <td>297</td>\n",
       "      <td>17.000000</td>\n",
       "      <td>40</td>\n",
       "      <td>7</td>\n",
       "    </tr>\n",
       "    <tr>\n",
       "      <th>1</th>\n",
       "      <td>13047</td>\n",
       "      <td>3232.59</td>\n",
       "      <td>56</td>\n",
       "      <td>171</td>\n",
       "      <td>0.028302</td>\n",
       "      <td>35</td>\n",
       "      <td>8</td>\n",
       "    </tr>\n",
       "    <tr>\n",
       "      <th>2</th>\n",
       "      <td>12583</td>\n",
       "      <td>6705.38</td>\n",
       "      <td>2</td>\n",
       "      <td>232</td>\n",
       "      <td>0.040323</td>\n",
       "      <td>50</td>\n",
       "      <td>7</td>\n",
       "    </tr>\n",
       "    <tr>\n",
       "      <th>3</th>\n",
       "      <td>13748</td>\n",
       "      <td>948.25</td>\n",
       "      <td>95</td>\n",
       "      <td>28</td>\n",
       "      <td>0.017921</td>\n",
       "      <td>0</td>\n",
       "      <td>3</td>\n",
       "    </tr>\n",
       "    <tr>\n",
       "      <th>4</th>\n",
       "      <td>15100</td>\n",
       "      <td>876.00</td>\n",
       "      <td>333</td>\n",
       "      <td>3</td>\n",
       "      <td>0.073171</td>\n",
       "      <td>22</td>\n",
       "      <td>1</td>\n",
       "    </tr>\n",
       "  </tbody>\n",
       "</table>\n",
       "</div>"
      ],
      "text/plain": [
       "   customer_id  gross_revenue  recency_days  qtde_products  frequency  \\\n",
       "0        17850        5391.21           372            297  17.000000   \n",
       "1        13047        3232.59            56            171   0.028302   \n",
       "2        12583        6705.38             2            232   0.040323   \n",
       "3        13748         948.25            95             28   0.017921   \n",
       "4        15100         876.00           333              3   0.073171   \n",
       "\n",
       "   qtde_returns  cluster  \n",
       "0            40        7  \n",
       "1            35        8  \n",
       "2            50        7  \n",
       "3             0        3  \n",
       "4            22        1  "
      ]
     },
     "execution_count": 64,
     "metadata": {},
     "output_type": "execute_result"
    }
   ],
   "source": [
    "# get query\n",
    "query_collect = \"\"\"\n",
    "   SELECT * from insiders\n",
    "\"\"\"\n",
    "\n",
    "df = pd.read_sql_query( query_collect, conn )\n",
    "df.head()"
   ]
  }
 ],
 "metadata": {
  "kernelspec": {
   "display_name": "Python 3",
   "language": "python",
   "name": "python3"
  },
  "language_info": {
   "codemirror_mode": {
    "name": "ipython",
    "version": 3
   },
   "file_extension": ".py",
   "mimetype": "text/x-python",
   "name": "python",
   "nbconvert_exporter": "python",
   "pygments_lexer": "ipython3",
   "version": "3.10.13"
  }
 },
 "nbformat": 4,
 "nbformat_minor": 4
}
